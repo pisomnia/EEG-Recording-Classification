{
 "cells": [
  {
   "cell_type": "code",
   "execution_count": 1,
   "metadata": {},
   "outputs": [
    {
     "name": "stdout",
     "output_type": "stream",
     "text": [
      "Once deleted, variables cannot be recovered. Proceed (y/[n])? y\n"
     ]
    }
   ],
   "source": [
    "reset"
   ]
  },
  {
   "cell_type": "code",
   "execution_count": 2,
   "metadata": {},
   "outputs": [],
   "source": [
    "from IPython.core.interactiveshell import InteractiveShell\n",
    "InteractiveShell.ast_node_interactivity = \"all\"\n",
    "import warnings\n",
    "warnings.filterwarnings('ignore')\n",
    "\n",
    "import os\n",
    "import math\n",
    "import numpy as np\n",
    "import pandas as pd\n",
    "from collections import Counter\n",
    "from collections import defaultdict\n",
    "import tensorflow as tf\n",
    "from sklearn.preprocessing import OneHotEncoder\n",
    "from sklearn.model_selection import train_test_split\n",
    "%matplotlib inline\n",
    "import numpy as np\n",
    "import matplotlib.pyplot as plt"
   ]
  },
  {
   "cell_type": "code",
   "execution_count": 3,
   "metadata": {},
   "outputs": [
    {
     "name": "stderr",
     "output_type": "stream",
     "text": [
      "Using TensorFlow backend.\n"
     ]
    }
   ],
   "source": [
    "import keras\n",
    "from keras.utils import to_categorical\n",
    "from keras.models import Sequential\n",
    "from keras.layers import Dense, Conv1D,Conv2D, Flatten,MaxPool2D,Reshape,Activation,BatchNormalization,SpatialDropout1D,Dropout,Permute\n",
    "from keras.layers.pooling import MaxPooling2D,MaxPooling1D\n",
    "from keras import regularizers\n",
    "from keras import optimizers\n",
    "from keras.callbacks import EarlyStopping\n",
    "from sklearn.metrics import confusion_matrix\n",
    "from sklearn.utils.multiclass import unique_labels"
   ]
  },
  {
   "cell_type": "code",
   "execution_count": 4,
   "metadata": {},
   "outputs": [
    {
     "ename": "FileNotFoundError",
     "evalue": "[Errno 2] No such file or directory: 'X_test.npy'",
     "output_type": "error",
     "traceback": [
      "\u001b[1;31m---------------------------------------------------------------------------\u001b[0m",
      "\u001b[1;31mFileNotFoundError\u001b[0m                         Traceback (most recent call last)",
      "\u001b[1;32m<ipython-input-4-5081f366250d>\u001b[0m in \u001b[0;36m<module>\u001b[1;34m\u001b[0m\n\u001b[1;32m----> 1\u001b[1;33m \u001b[0mX_test\u001b[0m \u001b[1;33m=\u001b[0m \u001b[0mnp\u001b[0m\u001b[1;33m.\u001b[0m\u001b[0mload\u001b[0m\u001b[1;33m(\u001b[0m\u001b[1;34m\"X_test.npy\"\u001b[0m\u001b[1;33m)\u001b[0m\u001b[1;33m\u001b[0m\u001b[0m\n\u001b[0m\u001b[0;32m      2\u001b[0m \u001b[0my_test\u001b[0m \u001b[1;33m=\u001b[0m \u001b[0mnp\u001b[0m\u001b[1;33m.\u001b[0m\u001b[0mload\u001b[0m\u001b[1;33m(\u001b[0m\u001b[1;34m\"y_test.npy\"\u001b[0m\u001b[1;33m)\u001b[0m\u001b[1;33m\u001b[0m\u001b[0m\n\u001b[0;32m      3\u001b[0m \u001b[0mperson_train_valid\u001b[0m \u001b[1;33m=\u001b[0m \u001b[0mnp\u001b[0m\u001b[1;33m.\u001b[0m\u001b[0mload\u001b[0m\u001b[1;33m(\u001b[0m\u001b[1;34m\"person_train_valid.npy\"\u001b[0m\u001b[1;33m)\u001b[0m\u001b[1;33m\u001b[0m\u001b[0m\n\u001b[0;32m      4\u001b[0m \u001b[0mX_train_valid\u001b[0m \u001b[1;33m=\u001b[0m \u001b[0mnp\u001b[0m\u001b[1;33m.\u001b[0m\u001b[0mload\u001b[0m\u001b[1;33m(\u001b[0m\u001b[1;34m\"X_train_valid.npy\"\u001b[0m\u001b[1;33m)\u001b[0m\u001b[1;33m\u001b[0m\u001b[0m\n\u001b[0;32m      5\u001b[0m \u001b[0my_train_valid\u001b[0m \u001b[1;33m=\u001b[0m \u001b[0mnp\u001b[0m\u001b[1;33m.\u001b[0m\u001b[0mload\u001b[0m\u001b[1;33m(\u001b[0m\u001b[1;34m\"y_train_valid.npy\"\u001b[0m\u001b[1;33m)\u001b[0m\u001b[1;33m\u001b[0m\u001b[0m\n",
      "\u001b[1;32mc:\\users\\wangdong90\\appdata\\local\\programs\\python\\python36\\lib\\site-packages\\numpy\\lib\\npyio.py\u001b[0m in \u001b[0;36mload\u001b[1;34m(file, mmap_mode, allow_pickle, fix_imports, encoding)\u001b[0m\n\u001b[0;32m    413\u001b[0m         \u001b[0mown_fid\u001b[0m \u001b[1;33m=\u001b[0m \u001b[1;32mFalse\u001b[0m\u001b[1;33m\u001b[0m\u001b[0m\n\u001b[0;32m    414\u001b[0m     \u001b[1;32melse\u001b[0m\u001b[1;33m:\u001b[0m\u001b[1;33m\u001b[0m\u001b[0m\n\u001b[1;32m--> 415\u001b[1;33m         \u001b[0mfid\u001b[0m \u001b[1;33m=\u001b[0m \u001b[0mopen\u001b[0m\u001b[1;33m(\u001b[0m\u001b[0mos_fspath\u001b[0m\u001b[1;33m(\u001b[0m\u001b[0mfile\u001b[0m\u001b[1;33m)\u001b[0m\u001b[1;33m,\u001b[0m \u001b[1;34m\"rb\"\u001b[0m\u001b[1;33m)\u001b[0m\u001b[1;33m\u001b[0m\u001b[0m\n\u001b[0m\u001b[0;32m    416\u001b[0m         \u001b[0mown_fid\u001b[0m \u001b[1;33m=\u001b[0m \u001b[1;32mTrue\u001b[0m\u001b[1;33m\u001b[0m\u001b[0m\n\u001b[0;32m    417\u001b[0m \u001b[1;33m\u001b[0m\u001b[0m\n",
      "\u001b[1;31mFileNotFoundError\u001b[0m: [Errno 2] No such file or directory: 'X_test.npy'"
     ]
    }
   ],
   "source": [
    "X_test = np.load(\"X_test.npy\")\n",
    "y_test = np.load(\"y_test.npy\")\n",
    "person_train_valid = np.load(\"person_train_valid.npy\")\n",
    "X_train_valid = np.load(\"X_train_valid.npy\")\n",
    "y_train_valid = np.load(\"y_train_valid.npy\")\n",
    "person_test = np.load(\"person_test.npy\")\n",
    "print ('Training/Valid data shape: {}'.format(X_train_valid.shape))\n",
    "print ('Test data shape: {}'.format(X_test.shape))\n",
    "print ('Training/Valid target shape: {}'.format(y_train_valid.shape))\n",
    "print ('Test target shape: {}'.format(y_test.shape))\n",
    "print ('Person train/valid shape: {}'.format(person_train_valid.shape))\n",
    "print ('Person test shape: {}'.format(person_test.shape))"
   ]
  },
  {
   "cell_type": "code",
   "execution_count": 5,
   "metadata": {},
   "outputs": [
    {
     "name": "stdout",
     "output_type": "stream",
     "text": [
      "Counter({771: 543, 772: 530, 769: 529, 770: 513})\n",
      "Counter({6.0: 238, 0.0: 237, 1.0: 236, 2.0: 236, 5.0: 236, 4.0: 235, 3.0: 234, 7.0: 232, 8.0: 231})\n",
      "Counter({770: 127, 769: 111, 772: 109, 771: 96})\n",
      "Counter({0.0: 50, 1.0: 50, 2.0: 50, 3.0: 50, 6.0: 50, 7.0: 50, 5.0: 49, 4.0: 47, 8.0: 47})\n"
     ]
    }
   ],
   "source": [
    "c1 = Counter(y_train_valid)\n",
    "d1 = Counter(person_train_valid[:,0])\n",
    "print(c1)\n",
    "print(d1)\n",
    "c2 = Counter(y_test)\n",
    "d2 = Counter(person_test[:,0])\n",
    "print(c2)\n",
    "print(d2)"
   ]
  },
  {
   "cell_type": "code",
   "execution_count": 6,
   "metadata": {},
   "outputs": [
    {
     "data": {
      "text/html": [
       "<div>\n",
       "<style scoped>\n",
       "    .dataframe tbody tr th:only-of-type {\n",
       "        vertical-align: middle;\n",
       "    }\n",
       "\n",
       "    .dataframe tbody tr th {\n",
       "        vertical-align: top;\n",
       "    }\n",
       "\n",
       "    .dataframe thead th {\n",
       "        text-align: right;\n",
       "    }\n",
       "</style>\n",
       "<table border=\"1\" class=\"dataframe\">\n",
       "  <thead>\n",
       "    <tr style=\"text-align: right;\">\n",
       "      <th></th>\n",
       "      <th>Subject_0</th>\n",
       "      <th>Subject_1</th>\n",
       "      <th>Subject_2</th>\n",
       "      <th>Subject_3</th>\n",
       "      <th>Subject_4</th>\n",
       "      <th>Subject_5</th>\n",
       "      <th>Subject_6</th>\n",
       "      <th>Subject_7</th>\n",
       "      <th>Subject_8</th>\n",
       "    </tr>\n",
       "  </thead>\n",
       "  <tbody>\n",
       "    <tr>\n",
       "      <th>left</th>\n",
       "      <td>60</td>\n",
       "      <td>60</td>\n",
       "      <td>56</td>\n",
       "      <td>66</td>\n",
       "      <td>55</td>\n",
       "      <td>57</td>\n",
       "      <td>59</td>\n",
       "      <td>60</td>\n",
       "      <td>56</td>\n",
       "    </tr>\n",
       "    <tr>\n",
       "      <th>right</th>\n",
       "      <td>59</td>\n",
       "      <td>57</td>\n",
       "      <td>60</td>\n",
       "      <td>54</td>\n",
       "      <td>60</td>\n",
       "      <td>55</td>\n",
       "      <td>54</td>\n",
       "      <td>56</td>\n",
       "      <td>58</td>\n",
       "    </tr>\n",
       "    <tr>\n",
       "      <th>foot</th>\n",
       "      <td>58</td>\n",
       "      <td>62</td>\n",
       "      <td>63</td>\n",
       "      <td>56</td>\n",
       "      <td>59</td>\n",
       "      <td>62</td>\n",
       "      <td>64</td>\n",
       "      <td>60</td>\n",
       "      <td>59</td>\n",
       "    </tr>\n",
       "    <tr>\n",
       "      <th>tongue</th>\n",
       "      <td>60</td>\n",
       "      <td>57</td>\n",
       "      <td>57</td>\n",
       "      <td>58</td>\n",
       "      <td>61</td>\n",
       "      <td>62</td>\n",
       "      <td>61</td>\n",
       "      <td>56</td>\n",
       "      <td>58</td>\n",
       "    </tr>\n",
       "  </tbody>\n",
       "</table>\n",
       "</div>"
      ],
      "text/plain": [
       "        Subject_0  Subject_1  Subject_2  Subject_3  Subject_4  Subject_5  \\\n",
       "left           60         60         56         66         55         57   \n",
       "right          59         57         60         54         60         55   \n",
       "foot           58         62         63         56         59         62   \n",
       "tongue         60         57         57         58         61         62   \n",
       "\n",
       "        Subject_6  Subject_7  Subject_8  \n",
       "left           59         60         56  \n",
       "right          54         56         58  \n",
       "foot           64         60         59  \n",
       "tongue         61         56         58  "
      ]
     },
     "execution_count": 6,
     "metadata": {},
     "output_type": "execute_result"
    }
   ],
   "source": [
    "Subject=np.array([0,1,2,3,4,5,6,7,8])\n",
    "Class =np.array([769,770,771,772])\n",
    "data=np.zeros([4,9])\n",
    "for i in range(4):\n",
    "    for j in range(9):\n",
    "        loc=np.argwhere(person_train_valid==Subject[j])[:,0]\n",
    "        data[i,j]=sum(y_train_valid[loc]==Class[i])\n",
    "\n",
    "idx_name=['left','right','foot','tongue']\n",
    "column_name=['Subject_0', 'Subject_1','Subject_2','Subject_3','Subject_4','Subject_5','Subject_6','Subject_7','Subject_8']\n",
    "df = pd.DataFrame(data=data,index=idx_name, columns=column_name)\n",
    "df.astype(np.int64)"
   ]
  },
  {
   "cell_type": "code",
   "execution_count": 7,
   "metadata": {},
   "outputs": [
    {
     "name": "stdout",
     "output_type": "stream",
     "text": [
      "237\n",
      "50\n"
     ]
    }
   ],
   "source": [
    "# Splitting data by subject \n",
    "person_train_valid = person_train_valid.astype(int)\n",
    "person_test = person_test.astype(int)\n",
    "\n",
    "ids = range(0, 9) # IDs 0-8 inclusive\n",
    "\n",
    "train_valid_subject_idx = defaultdict(list) # key: id 0-8, value: list of indices of training data for that id \n",
    "test_subject_idx = defaultdict(list)\n",
    "\n",
    "num_trials, num_channels, num_bins = X_train_valid.shape\n",
    "num_test = X_test.shape[0]\n",
    "\n",
    "for i in range(num_trials):\n",
    "    train_valid_subject_idx[person_train_valid[i][0]].append(i)\n",
    "    \n",
    "for i in range(num_test):\n",
    "    test_subject_idx[person_test[i][0]].append(i)\n",
    "# Sanity check to see if partitioning by subject ID worked\n",
    "\n",
    "print(len(train_valid_subject_idx[0]))\n",
    "print(len(test_subject_idx[0]))   \n",
    "# change the label in one-hot encoding\n",
    "y_train_valid-=769\n",
    "y_test-=769\n",
    "y_train_valid_onehot = to_categorical(y_train_valid)\n",
    "y_test_onehot= to_categorical(y_test)"
   ]
  },
  {
   "cell_type": "code",
   "execution_count": 8,
   "metadata": {},
   "outputs": [
    {
     "name": "stdout",
     "output_type": "stream",
     "text": [
      "Training/Valid data shape: (2115, 22, 1000, 1)\n",
      "Test data shape: (443, 22, 1000, 1)\n",
      "Original Training data shape: (1692, 22, 1000, 1)\n",
      "Original Validation data shape: (423, 22, 1000, 1)\n",
      "Original Testing data shape: (443, 22, 1000, 1)\n",
      "3Second Training data shape: (1692, 22, 750, 1)\n",
      "3Second Validation data shape: (423, 22, 750, 1)\n",
      "3Second Testing data shape: (443, 22, 750, 1)\n"
     ]
    }
   ],
   "source": [
    "# Split the training data and Validation data\n",
    "# Remove the 1st decond which is the cue period\n",
    "EEG_22=True\n",
    "is_3s=False\n",
    "n_sub = 10\n",
    "split_size=0.2\n",
    "#True:{1,2,3,5,10,15} False:{1,2,4,5,8,10,20}\n",
    "if EEG_22==True:\n",
    "    EEG_train_valid = X_train_valid[:,:22,:].reshape(-1,22,1000,1)\n",
    "    EEG_test  = X_test[:,:22,:].reshape(-1,22,1000,1)\n",
    "else:\n",
    "    EEG_train_valid = X_train_valid[:,:25,:].reshape(-1,25,1000,1)\n",
    "    EEG_test  = X_test[:,:25,:].reshape(-1,25,1000,1)\n",
    "\n",
    "print ('Training/Valid data shape: {}'.format(EEG_train_valid.shape))\n",
    "print ('Test data shape: {}'.format(EEG_test.shape))\n",
    "\n",
    "n_train=int(2115*(1-split_size))\n",
    "n_valid=int(2115*split_size)\n",
    "n_test=443\n",
    "\n",
    "EEG_train, EEG_valid, y_train, y_valid = train_test_split(\n",
    "    EEG_train_valid, y_train_valid_onehot, test_size=split_size, shuffle=True)\n",
    "\n",
    "print ('Original Training data shape: {}'.format(EEG_train.shape))\n",
    "print ('Original Validation data shape: {}'.format(EEG_valid.shape))\n",
    "print ('Original Testing data shape: {}'.format(EEG_test.shape))\n",
    "EEG_3s_train=EEG_train[:,:,250:1000,:]\n",
    "EEG_3s_valid=EEG_valid[:,:,250:1000,:]\n",
    "EEG_3s_test=EEG_test[:,:,250:1000,:]\n",
    "print ('3Second Training data shape: {}'.format(EEG_3s_train.shape))\n",
    "print ('3Second Validation data shape: {}'.format(EEG_3s_valid.shape))\n",
    "print ('3Second Testing data shape: {}'.format(EEG_3s_test.shape))"
   ]
  },
  {
   "cell_type": "markdown",
   "metadata": {},
   "source": [
    "### Down sample the original data"
   ]
  },
  {
   "cell_type": "code",
   "execution_count": 9,
   "metadata": {},
   "outputs": [
    {
     "name": "stdout",
     "output_type": "stream",
     "text": [
      "use the 4-seconds data:\n",
      "New Training data shape: (16920, 22, 100, 1)\n",
      "New Validation data shape: (4230, 22, 100, 1)\n",
      "New Testing data shape: (4430, 22, 100, 1)\n"
     ]
    }
   ],
   "source": [
    "if is_3s==True:\n",
    "    print(\"use the 3-seconds data:\")\n",
    "    new_train=np.zeros([n_train*n_sub,EEG_train.shape[1],750//n_sub,1],dtype='float64')\n",
    "    new_valid=np.zeros([n_valid*n_sub,EEG_train.shape[1],750//n_sub,1],dtype='float64')\n",
    "    new_test=np.zeros([n_test*n_sub,EEG_train.shape[1],750//n_sub,1],dtype='float64')    \n",
    "else:\n",
    "    print(\"use the 4-seconds data:\")\n",
    "    new_train=np.zeros([n_train*n_sub,EEG_train.shape[1],1000//n_sub,1],dtype='float64')\n",
    "    new_valid=np.zeros([n_valid*n_sub,EEG_train.shape[1],1000//n_sub,1],dtype='float64')\n",
    "    new_test=np.zeros([n_test*n_sub,EEG_train.shape[1],1000//n_sub,1],dtype='float64')\n",
    "yy_train= np.zeros([new_train.shape[0],4],dtype='float64')\n",
    "yy_valid= np.zeros([new_valid.shape[0],4],dtype='float64')\n",
    "yy_test_onehot= np.zeros([new_test.shape[0],4],dtype='float64')\n",
    "for i in range(n_sub)  :\n",
    "    if is_3s==True:\n",
    "        new_train[i*n_train:(i+1)*n_train]=EEG_3s_train[:,:,i:750:n_sub,:]\n",
    "        new_valid[i*n_valid:(i+1)*n_valid]=EEG_3s_valid[:,:,i:750:n_sub,:]\n",
    "        new_test[i*n_test:(i+1)*n_test]=EEG_3s_test[:,:,i:750:n_sub,:]\n",
    "    else:\n",
    "        new_train[i*n_train:(i+1)*n_train]=EEG_train[:,:,i:1000:n_sub,:]\n",
    "        new_valid[i*n_valid:(i+1)*n_valid]=EEG_valid[:,:,i:1000:n_sub,:]\n",
    "        new_test[i*n_test:(i+1)*n_test]=EEG_test[:,:,i:1000:n_sub,:]\n",
    "    yy_train[i*n_train:(i+1)*n_train]= y_train\n",
    "    yy_valid[i*n_valid:(i+1)*n_valid]=y_valid\n",
    "    yy_test_onehot[i*n_test:(i+1)*n_test]=y_test_onehot\n",
    "print ('New Training data shape: {}'.format(new_train.shape))\n",
    "print ('New Validation data shape: {}'.format(new_valid.shape))\n",
    "print ('New Testing data shape: {}'.format(new_test.shape))"
   ]
  },
  {
   "cell_type": "markdown",
   "metadata": {},
   "source": [
    "### CNN Deep ConvNet Architecture (with down sample Data)\n",
    "Input Dimension: 22x100x1\n",
    "0. `Reshape`\n",
    "<br>  Reshape: 100x22x1\n",
    "1. `Conv-Pool Block`\n",
    "<br>Convolutional layer with 25 10x1 kernels, with stride 1,1, same padding\n",
    "<br>  $\\longrightarrow$ 100x22x1"
   ]
  },
  {
   "cell_type": "code",
   "execution_count": 10,
   "metadata": {},
   "outputs": [
    {
     "name": "stdout",
     "output_type": "stream",
     "text": [
      "_________________________________________________________________\n",
      "Layer (type)                 Output Shape              Param #   \n",
      "=================================================================\n",
      "permute_1 (Permute)          (None, 100, 22, 1)        0         \n",
      "_________________________________________________________________\n",
      "conv2d_1 (Conv2D)            (None, 91, 22, 25)        275       \n",
      "_________________________________________________________________\n",
      "conv2d_2 (Conv2D)            (None, 91, 1, 25)         13775     \n",
      "_________________________________________________________________\n",
      "batch_normalization_1 (Batch (None, 91, 1, 25)         4         \n",
      "_________________________________________________________________\n",
      "activation_1 (Activation)    (None, 91, 1, 25)         0         \n",
      "_________________________________________________________________\n",
      "max_pooling2d_1 (MaxPooling2 (None, 30, 1, 25)         0         \n",
      "_________________________________________________________________\n",
      "reshape_1 (Reshape)          (None, 30, 25)            0         \n",
      "_________________________________________________________________\n",
      "conv1d_1 (Conv1D)            (None, 30, 50)            3800      \n",
      "_________________________________________________________________\n",
      "batch_normalization_2 (Batch (None, 30, 50)            120       \n",
      "_________________________________________________________________\n",
      "activation_2 (Activation)    (None, 30, 50)            0         \n",
      "_________________________________________________________________\n",
      "max_pooling1d_1 (MaxPooling1 (None, 10, 50)            0         \n",
      "_________________________________________________________________\n",
      "spatial_dropout1d_1 (Spatial (None, 10, 50)            0         \n",
      "_________________________________________________________________\n",
      "conv1d_2 (Conv1D)            (None, 10, 100)           15100     \n",
      "_________________________________________________________________\n",
      "batch_normalization_3 (Batch (None, 10, 100)           40        \n",
      "_________________________________________________________________\n",
      "activation_3 (Activation)    (None, 10, 100)           0         \n",
      "_________________________________________________________________\n",
      "max_pooling1d_2 (MaxPooling1 (None, 3, 100)            0         \n",
      "_________________________________________________________________\n",
      "conv1d_3 (Conv1D)            (None, 3, 200)            60200     \n",
      "_________________________________________________________________\n",
      "activation_4 (Activation)    (None, 3, 200)            0         \n",
      "_________________________________________________________________\n",
      "max_pooling1d_3 (MaxPooling1 (None, 1, 200)            0         \n",
      "_________________________________________________________________\n",
      "flatten_1 (Flatten)          (None, 200)               0         \n",
      "_________________________________________________________________\n",
      "dense_1 (Dense)              (None, 4)                 804       \n",
      "=================================================================\n",
      "Total params: 94,118\n",
      "Trainable params: 94,036\n",
      "Non-trainable params: 82\n",
      "_________________________________________________________________\n",
      "None\n"
     ]
    }
   ],
   "source": [
    "model = Sequential()\n",
    "#model.add(Flatten(input_shape=(22,100,1)))\n",
    "#model.add(Dense(11250,kernel_regularizer=regularizers.l2(0.01)))\n",
    "#model.add(Reshape((30, 375,1)))\n",
    "#model.add(Activation('elu'))\n",
    "VarianceScaling=keras.initializers.VarianceScaling(scale=2.0, mode='fan_in', distribution='normal', seed=None)\n",
    "\n",
    "model.add(Permute(( 2,1,3),input_shape=(22,100,1)))\n",
    "\n",
    "model.add(Conv2D(25, kernel_size=(10,1),kernel_regularizer=regularizers.l2(0.01)))\n",
    "model.add(Conv2D(25, kernel_size=(1,22),kernel_regularizer=regularizers.l2(0.01)))\n",
    "model.add(BatchNormalization(axis=2))\n",
    "model.add(Activation('elu'))\n",
    "model.add(MaxPooling2D(pool_size=(3, 1), strides=(3,1)))\n",
    "\n",
    "model.add(Reshape((30,25)))\n",
    "model.add(Conv1D(filters=50,kernel_size=3,activation=None, padding = 'same', kernel_regularizer=regularizers.l2(0.01))) \n",
    "model.add(BatchNormalization(axis=1))\n",
    "model.add(Activation('elu'))\n",
    "model.add(MaxPooling1D(pool_size=3,strides=3))\n",
    "\n",
    "model.add(SpatialDropout1D(rate=0.5))\n",
    "model.add(Conv1D(filters=100,kernel_size=3,activation=None, padding = 'same', kernel_regularizer=regularizers.l2(0.01)))\n",
    "model.add(BatchNormalization(axis=1))\n",
    "model.add(Activation('elu'))\n",
    "model.add(MaxPooling1D(pool_size=3,strides=3))\n",
    "\n",
    "model.add(Conv1D(filters=200,kernel_size=3,activation=None, padding = 'same', kernel_regularizer=regularizers.l2(0.01)))\n",
    "#model.add(BatchNormalization(axis=1))\n",
    "model.add(Activation('elu'))\n",
    "model.add(MaxPooling1D(pool_size=3,strides=3))\n",
    "\n",
    "model.add(Flatten())\n",
    "model.add(Dense(units=4,use_bias=True,activation='softmax', kernel_regularizer=regularizers.l2(0.01)))\n",
    "\n",
    "print(model.summary())\n",
    "sgd = optimizers.SGD(lr=0.001, decay=1e-6, momentum=0.9, nesterov=True)\n",
    "adam= optimizers.Adam(lr=0.001, beta_1=0.9, beta_2=0.999, epsilon=None, decay=0.0, amsgrad=False)\n",
    "rmsprop= optimizers.RMSprop(lr=0.001, rho=0.9, epsilon=None, decay=0.0)\n",
    "#model.compile(optimizer=sgd,loss='sparse_categorical_crossentropy',metrics=['accuracy'])\n",
    "model.compile(optimizer=sgd,loss='categorical_crossentropy',metrics=['accuracy'])\n",
    "#model.compile(optimizer='rmsprop',loss='categorical_crossentropy',metrics=['accuracy'])"
   ]
  },
  {
   "cell_type": "code",
   "execution_count": 11,
   "metadata": {
    "scrolled": true
   },
   "outputs": [
    {
     "name": "stdout",
     "output_type": "stream",
     "text": [
      "Train on 16920 samples, validate on 4230 samples\n",
      "Epoch 1/100\n",
      "16920/16920 [==============================] - 22s 1ms/step - loss: 3.9448 - acc: 0.2936 - val_loss: 3.7735 - val_acc: 0.2976\n",
      "Epoch 2/100\n",
      "16920/16920 [==============================] - 2s 132us/step - loss: 3.6103 - acc: 0.3441 - val_loss: 3.4872 - val_acc: 0.3314\n",
      "Epoch 3/100\n",
      "16920/16920 [==============================] - 2s 132us/step - loss: 3.3190 - acc: 0.3991 - val_loss: 3.2096 - val_acc: 0.3936\n",
      "Epoch 4/100\n",
      "16920/16920 [==============================] - 2s 133us/step - loss: 3.0292 - acc: 0.4652 - val_loss: 2.9150 - val_acc: 0.4610\n",
      "Epoch 5/100\n",
      "16920/16920 [==============================] - 2s 135us/step - loss: 2.7554 - acc: 0.5216 - val_loss: 2.6576 - val_acc: 0.5258\n",
      "Epoch 6/100\n",
      "16920/16920 [==============================] - 2s 135us/step - loss: 2.5157 - acc: 0.5665 - val_loss: 2.4671 - val_acc: 0.5426\n",
      "Epoch 7/100\n",
      "16920/16920 [==============================] - 2s 134us/step - loss: 2.2960 - acc: 0.6042 - val_loss: 2.3160 - val_acc: 0.5496\n",
      "Epoch 8/100\n",
      "16920/16920 [==============================] - 2s 135us/step - loss: 2.1123 - acc: 0.6307 - val_loss: 2.1286 - val_acc: 0.5872\n",
      "Epoch 9/100\n",
      "16920/16920 [==============================] - 2s 134us/step - loss: 1.9390 - acc: 0.6583 - val_loss: 2.0228 - val_acc: 0.5924\n",
      "Epoch 10/100\n",
      "16920/16920 [==============================] - 2s 134us/step - loss: 1.7943 - acc: 0.6797 - val_loss: 1.8946 - val_acc: 0.6064\n",
      "Epoch 11/100\n",
      "16920/16920 [==============================] - 2s 135us/step - loss: 1.6650 - acc: 0.6947 - val_loss: 1.7766 - val_acc: 0.6199\n",
      "Epoch 12/100\n",
      "16920/16920 [==============================] - 2s 134us/step - loss: 1.5535 - acc: 0.7077 - val_loss: 1.6992 - val_acc: 0.6206\n",
      "Epoch 13/100\n",
      "16920/16920 [==============================] - 2s 134us/step - loss: 1.4457 - acc: 0.7229 - val_loss: 1.6408 - val_acc: 0.6196\n",
      "Epoch 14/100\n",
      "16920/16920 [==============================] - 2s 134us/step - loss: 1.3609 - acc: 0.7325 - val_loss: 1.6231 - val_acc: 0.6071\n",
      "Epoch 15/100\n",
      "16920/16920 [==============================] - 2s 134us/step - loss: 1.2827 - acc: 0.7403 - val_loss: 1.4908 - val_acc: 0.6362\n",
      "Epoch 16/100\n",
      "16920/16920 [==============================] - 2s 134us/step - loss: 1.2019 - acc: 0.7557 - val_loss: 1.4710 - val_acc: 0.6286\n",
      "Epoch 17/100\n",
      "16920/16920 [==============================] - 2s 135us/step - loss: 1.1405 - acc: 0.7643 - val_loss: 1.4056 - val_acc: 0.6390\n",
      "Epoch 18/100\n",
      "16920/16920 [==============================] - 2s 134us/step - loss: 1.0846 - acc: 0.7735 - val_loss: 1.3578 - val_acc: 0.6475\n",
      "Epoch 19/100\n",
      "16920/16920 [==============================] - 2s 134us/step - loss: 1.0209 - acc: 0.7833 - val_loss: 1.3438 - val_acc: 0.6459\n",
      "Epoch 20/100\n",
      "16920/16920 [==============================] - 2s 133us/step - loss: 0.9811 - acc: 0.7868 - val_loss: 1.4383 - val_acc: 0.6118\n",
      "Epoch 21/100\n",
      "16920/16920 [==============================] - 2s 134us/step - loss: 0.9371 - acc: 0.7968 - val_loss: 1.2811 - val_acc: 0.6487\n",
      "Epoch 22/100\n",
      "16920/16920 [==============================] - 2s 134us/step - loss: 0.8983 - acc: 0.8013 - val_loss: 1.2819 - val_acc: 0.6355\n",
      "Epoch 23/100\n",
      "16920/16920 [==============================] - 2s 134us/step - loss: 0.8627 - acc: 0.8057 - val_loss: 1.2818 - val_acc: 0.6423\n",
      "Epoch 24/100\n",
      "16920/16920 [==============================] - 2s 134us/step - loss: 0.8357 - acc: 0.8116 - val_loss: 1.3130 - val_acc: 0.6336\n",
      "Epoch 25/100\n",
      "16920/16920 [==============================] - 2s 134us/step - loss: 0.8114 - acc: 0.8111 - val_loss: 1.2090 - val_acc: 0.6537\n",
      "Epoch 26/100\n",
      "16920/16920 [==============================] - 2s 133us/step - loss: 0.7842 - acc: 0.8201 - val_loss: 1.2423 - val_acc: 0.6496\n",
      "Epoch 27/100\n",
      "16920/16920 [==============================] - 2s 134us/step - loss: 0.7653 - acc: 0.8219 - val_loss: 1.2175 - val_acc: 0.6487\n",
      "Epoch 28/100\n",
      "16920/16920 [==============================] - 2s 134us/step - loss: 0.7409 - acc: 0.8300 - val_loss: 1.2439 - val_acc: 0.6416\n",
      "Epoch 29/100\n",
      "16920/16920 [==============================] - 2s 135us/step - loss: 0.7192 - acc: 0.8335 - val_loss: 1.2127 - val_acc: 0.6513\n",
      "Epoch 30/100\n",
      "16920/16920 [==============================] - 2s 135us/step - loss: 0.7132 - acc: 0.8329 - val_loss: 1.2060 - val_acc: 0.6435\n",
      "Epoch 31/100\n",
      "16920/16920 [==============================] - 2s 137us/step - loss: 0.6995 - acc: 0.8362 - val_loss: 1.2314 - val_acc: 0.6496\n",
      "Epoch 32/100\n",
      "16920/16920 [==============================] - 2s 134us/step - loss: 0.6803 - acc: 0.8401 - val_loss: 1.2016 - val_acc: 0.6527\n",
      "Epoch 33/100\n",
      "16920/16920 [==============================] - 2s 137us/step - loss: 0.6677 - acc: 0.8471 - val_loss: 1.1844 - val_acc: 0.6643\n",
      "Epoch 34/100\n",
      "16920/16920 [==============================] - 2s 137us/step - loss: 0.6574 - acc: 0.8481 - val_loss: 1.2857 - val_acc: 0.6392\n",
      "Epoch 35/100\n",
      "16920/16920 [==============================] - 2s 134us/step - loss: 0.6543 - acc: 0.8458 - val_loss: 1.2421 - val_acc: 0.6527\n",
      "Epoch 36/100\n",
      "16920/16920 [==============================] - 2s 134us/step - loss: 0.6393 - acc: 0.8520 - val_loss: 1.1632 - val_acc: 0.6551\n",
      "Epoch 37/100\n",
      "16920/16920 [==============================] - 2s 134us/step - loss: 0.6281 - acc: 0.8542 - val_loss: 1.2220 - val_acc: 0.6688\n",
      "Epoch 38/100\n",
      "16920/16920 [==============================] - 2s 133us/step - loss: 0.6224 - acc: 0.8538 - val_loss: 1.1676 - val_acc: 0.6690\n",
      "Epoch 39/100\n",
      "16920/16920 [==============================] - 2s 134us/step - loss: 0.6112 - acc: 0.8595 - val_loss: 1.2194 - val_acc: 0.6428\n",
      "Epoch 40/100\n",
      "16920/16920 [==============================] - 2s 134us/step - loss: 0.6166 - acc: 0.8546 - val_loss: 1.2063 - val_acc: 0.6626\n",
      "Epoch 41/100\n",
      "16920/16920 [==============================] - 2s 135us/step - loss: 0.6046 - acc: 0.8619 - val_loss: 1.2125 - val_acc: 0.6641\n",
      "Epoch 42/100\n",
      "16920/16920 [==============================] - 2s 134us/step - loss: 0.6053 - acc: 0.8590 - val_loss: 1.2013 - val_acc: 0.6655\n",
      "Epoch 43/100\n",
      "16920/16920 [==============================] - 2s 135us/step - loss: 0.6024 - acc: 0.8592 - val_loss: 1.1822 - val_acc: 0.6612\n",
      "Epoch 44/100\n",
      "16920/16920 [==============================] - 2s 134us/step - loss: 0.5895 - acc: 0.8694 - val_loss: 1.1560 - val_acc: 0.6657\n",
      "Epoch 45/100\n",
      "16920/16920 [==============================] - 2s 133us/step - loss: 0.5878 - acc: 0.8678 - val_loss: 1.1994 - val_acc: 0.6662\n",
      "Epoch 46/100\n",
      "16920/16920 [==============================] - 2s 134us/step - loss: 0.5884 - acc: 0.8642 - val_loss: 1.2150 - val_acc: 0.6608\n",
      "Epoch 47/100\n",
      "16920/16920 [==============================] - 2s 134us/step - loss: 0.5813 - acc: 0.8687 - val_loss: 1.1825 - val_acc: 0.6624\n",
      "Epoch 48/100\n",
      "16920/16920 [==============================] - 2s 134us/step - loss: 0.5753 - acc: 0.8700 - val_loss: 1.1751 - val_acc: 0.6690\n",
      "Epoch 49/100\n",
      "16920/16920 [==============================] - 2s 134us/step - loss: 0.5709 - acc: 0.8724 - val_loss: 1.2137 - val_acc: 0.6681\n",
      "Epoch 50/100\n",
      "16920/16920 [==============================] - 2s 134us/step - loss: 0.5735 - acc: 0.8719 - val_loss: 1.2091 - val_acc: 0.6615\n",
      "Epoch 51/100\n",
      "16920/16920 [==============================] - 2s 134us/step - loss: 0.5644 - acc: 0.8737 - val_loss: 1.1955 - val_acc: 0.6683\n",
      "Epoch 52/100\n",
      "16920/16920 [==============================] - 2s 135us/step - loss: 0.5611 - acc: 0.8775 - val_loss: 1.1696 - val_acc: 0.6610\n",
      "Epoch 53/100\n",
      "16920/16920 [==============================] - 2s 135us/step - loss: 0.5607 - acc: 0.8778 - val_loss: 1.2118 - val_acc: 0.6671\n",
      "Epoch 54/100\n",
      "16920/16920 [==============================] - 2s 135us/step - loss: 0.5502 - acc: 0.8823 - val_loss: 1.1662 - val_acc: 0.6702\n",
      "Epoch 55/100\n",
      "16920/16920 [==============================] - 2s 136us/step - loss: 0.5571 - acc: 0.8786 - val_loss: 1.1815 - val_acc: 0.6664\n",
      "Epoch 56/100\n",
      "16920/16920 [==============================] - 2s 135us/step - loss: 0.5655 - acc: 0.8747 - val_loss: 1.1846 - val_acc: 0.6612\n",
      "Epoch 57/100\n",
      "16920/16920 [==============================] - 2s 135us/step - loss: 0.5447 - acc: 0.8849 - val_loss: 1.2523 - val_acc: 0.6461\n",
      "Epoch 58/100\n",
      "16920/16920 [==============================] - 2s 136us/step - loss: 0.5513 - acc: 0.8796 - val_loss: 1.1789 - val_acc: 0.6738\n",
      "Epoch 59/100\n",
      "16920/16920 [==============================] - 2s 136us/step - loss: 0.5492 - acc: 0.8817 - val_loss: 1.1944 - val_acc: 0.6697\n",
      "Epoch 60/100\n",
      "16920/16920 [==============================] - 2s 132us/step - loss: 0.5482 - acc: 0.8797 - val_loss: 1.1540 - val_acc: 0.6816\n",
      "Epoch 61/100\n",
      "16920/16920 [==============================] - 2s 134us/step - loss: 0.5378 - acc: 0.8875 - val_loss: 1.2156 - val_acc: 0.6631\n",
      "Epoch 62/100\n",
      "16920/16920 [==============================] - 2s 134us/step - loss: 0.5431 - acc: 0.8821 - val_loss: 1.1873 - val_acc: 0.6626\n",
      "Epoch 63/100\n",
      "16920/16920 [==============================] - 2s 133us/step - loss: 0.5281 - acc: 0.8865 - val_loss: 1.2274 - val_acc: 0.6645\n",
      "Epoch 64/100\n",
      "16920/16920 [==============================] - 2s 133us/step - loss: 0.5401 - acc: 0.8855 - val_loss: 1.1970 - val_acc: 0.6636\n",
      "Epoch 65/100\n",
      "16920/16920 [==============================] - 2s 135us/step - loss: 0.5373 - acc: 0.8859 - val_loss: 1.1925 - val_acc: 0.6707\n",
      "Epoch 66/100\n",
      "16920/16920 [==============================] - 2s 133us/step - loss: 0.5399 - acc: 0.8848 - val_loss: 1.2378 - val_acc: 0.6638\n",
      "Epoch 67/100\n",
      "16920/16920 [==============================] - 2s 133us/step - loss: 0.5275 - acc: 0.8923 - val_loss: 1.2428 - val_acc: 0.6600\n",
      "Epoch 68/100\n",
      "16920/16920 [==============================] - 2s 134us/step - loss: 0.5272 - acc: 0.8898 - val_loss: 1.1339 - val_acc: 0.6877\n",
      "Epoch 69/100\n",
      "16920/16920 [==============================] - 2s 138us/step - loss: 0.5354 - acc: 0.8858 - val_loss: 1.2373 - val_acc: 0.6726\n",
      "Epoch 70/100\n",
      "16920/16920 [==============================] - 2s 136us/step - loss: 0.5340 - acc: 0.8850 - val_loss: 1.1547 - val_acc: 0.6742\n",
      "Epoch 71/100\n",
      "16920/16920 [==============================] - 2s 137us/step - loss: 0.5286 - acc: 0.8913 - val_loss: 1.1763 - val_acc: 0.6714\n",
      "Epoch 72/100\n",
      "16920/16920 [==============================] - 2s 134us/step - loss: 0.5303 - acc: 0.8906 - val_loss: 1.1534 - val_acc: 0.6768\n",
      "Epoch 73/100\n",
      "16920/16920 [==============================] - 2s 134us/step - loss: 0.5238 - acc: 0.8892 - val_loss: 1.3048 - val_acc: 0.6527\n",
      "Epoch 74/100\n",
      "16920/16920 [==============================] - 2s 134us/step - loss: 0.5258 - acc: 0.8913 - val_loss: 1.2211 - val_acc: 0.6645\n",
      "Epoch 75/100\n",
      "16920/16920 [==============================] - 2s 135us/step - loss: 0.5235 - acc: 0.8911 - val_loss: 1.1749 - val_acc: 0.6676\n",
      "Epoch 76/100\n",
      "16920/16920 [==============================] - 2s 133us/step - loss: 0.5139 - acc: 0.8979 - val_loss: 1.3009 - val_acc: 0.6456\n",
      "Epoch 77/100\n",
      "16920/16920 [==============================] - 2s 135us/step - loss: 0.5216 - acc: 0.8952 - val_loss: 1.1808 - val_acc: 0.6771\n",
      "Epoch 78/100\n",
      "16920/16920 [==============================] - 2s 136us/step - loss: 0.5157 - acc: 0.8945 - val_loss: 1.2335 - val_acc: 0.6709\n",
      "Epoch 79/100\n",
      "16920/16920 [==============================] - 2s 139us/step - loss: 0.5183 - acc: 0.8937 - val_loss: 1.2885 - val_acc: 0.6593\n",
      "Epoch 80/100\n",
      "16920/16920 [==============================] - 2s 138us/step - loss: 0.5184 - acc: 0.8920 - val_loss: 1.1887 - val_acc: 0.6749\n",
      "Epoch 81/100\n",
      "16920/16920 [==============================] - 2s 134us/step - loss: 0.5199 - acc: 0.8911 - val_loss: 1.2424 - val_acc: 0.6716\n",
      "Epoch 82/100\n",
      "16920/16920 [==============================] - 2s 138us/step - loss: 0.5101 - acc: 0.8948 - val_loss: 1.1967 - val_acc: 0.6754\n",
      "Epoch 83/100\n",
      "16920/16920 [==============================] - 2s 139us/step - loss: 0.5121 - acc: 0.8944 - val_loss: 1.1904 - val_acc: 0.6709\n",
      "Epoch 84/100\n",
      "16920/16920 [==============================] - 2s 135us/step - loss: 0.5158 - acc: 0.8930 - val_loss: 1.2260 - val_acc: 0.6619\n",
      "Epoch 85/100\n",
      "16920/16920 [==============================] - 2s 134us/step - loss: 0.5094 - acc: 0.8972 - val_loss: 1.2111 - val_acc: 0.6702\n",
      "Epoch 86/100\n",
      "16920/16920 [==============================] - 2s 137us/step - loss: 0.5069 - acc: 0.8988 - val_loss: 1.2286 - val_acc: 0.6579\n",
      "Epoch 87/100\n",
      "16920/16920 [==============================] - 2s 135us/step - loss: 0.5004 - acc: 0.9025 - val_loss: 1.2535 - val_acc: 0.6634\n",
      "Epoch 88/100\n",
      "16920/16920 [==============================] - 2s 138us/step - loss: 0.5117 - acc: 0.8954 - val_loss: 1.1953 - val_acc: 0.6818\n",
      "Epoch 89/100\n",
      "16920/16920 [==============================] - 2s 137us/step - loss: 0.5091 - acc: 0.8977 - val_loss: 1.2374 - val_acc: 0.6702\n",
      "Epoch 90/100\n",
      "16920/16920 [==============================] - 2s 138us/step - loss: 0.5095 - acc: 0.8973 - val_loss: 1.2231 - val_acc: 0.6693\n",
      "Epoch 91/100\n",
      "16920/16920 [==============================] - 2s 134us/step - loss: 0.4983 - acc: 0.9022 - val_loss: 1.1639 - val_acc: 0.6832\n",
      "Epoch 92/100\n",
      "16920/16920 [==============================] - 2s 134us/step - loss: 0.4977 - acc: 0.9017 - val_loss: 1.2233 - val_acc: 0.6790\n",
      "Epoch 93/100\n",
      "16920/16920 [==============================] - 2s 135us/step - loss: 0.4955 - acc: 0.9017 - val_loss: 1.1837 - val_acc: 0.6771\n",
      "Epoch 94/100\n",
      "16920/16920 [==============================] - 2s 136us/step - loss: 0.5050 - acc: 0.8989 - val_loss: 1.2154 - val_acc: 0.6697\n",
      "Epoch 95/100\n",
      "16920/16920 [==============================] - 2s 135us/step - loss: 0.4960 - acc: 0.9033 - val_loss: 1.2040 - val_acc: 0.6697\n",
      "Epoch 96/100\n",
      "16920/16920 [==============================] - 2s 134us/step - loss: 0.5059 - acc: 0.9011 - val_loss: 1.2111 - val_acc: 0.6617\n",
      "Epoch 97/100\n",
      "16920/16920 [==============================] - 2s 134us/step - loss: 0.5026 - acc: 0.9013 - val_loss: 1.1836 - val_acc: 0.6690\n",
      "Epoch 98/100\n",
      "16920/16920 [==============================] - 2s 135us/step - loss: 0.4990 - acc: 0.9017 - val_loss: 1.2428 - val_acc: 0.6596\n",
      "Epoch 99/100\n",
      "16920/16920 [==============================] - 2s 134us/step - loss: 0.4944 - acc: 0.9028 - val_loss: 1.2495 - val_acc: 0.6558\n",
      "Epoch 100/100\n",
      "16920/16920 [==============================] - 2s 135us/step - loss: 0.4980 - acc: 0.9012 - val_loss: 1.2071 - val_acc: 0.6752\n",
      "4430/4430 [==============================] - 0s 74us/step\n"
     ]
    },
    {
     "data": {
      "text/plain": [
       "[1.2252564137999145, 0.6652370202891176]"
      ]
     },
     "execution_count": 11,
     "metadata": {},
     "output_type": "execute_result"
    }
   ],
   "source": [
    "early_stopping = EarlyStopping(monitor='val_loss', patience=3)\n",
    "with tf.Session( config = tf.ConfigProto( log_device_placement = True ) ):\n",
    "    #model.fit(new_train,yy_train,validation_data=(new_valid,yy_valid),epochs=500,batch_size=60,shuffle=True,callbacks=[early_stopping])\n",
    "    history=model.fit(new_train,yy_train,validation_data=(new_valid,yy_valid),epochs=100,batch_size=60,shuffle=True)\n",
    "    model.evaluate(x=new_test, y=yy_test_onehot)\n",
    "    score=model.predict(x=new_test)    "
   ]
  },
  {
   "cell_type": "code",
   "execution_count": 12,
   "metadata": {},
   "outputs": [
    {
     "name": "stdout",
     "output_type": "stream",
     "text": [
      "Testing data accuracy is: 0.6975169300225733\n"
     ]
    }
   ],
   "source": [
    "y_score=np.zeros([y_test.shape[0],4],dtype='float64')\n",
    "for i in range(n_sub)  :\n",
    "    y_score+=np.log(score[i*n_test:(i+1)*n_test])\n",
    "y_pred=np.argmax(y_score,axis=1)\n",
    "print ('Testing data accuracy is: {}'.format(sum(y_pred==y_test)/y_test.shape[0]))"
   ]
  },
  {
   "cell_type": "code",
   "execution_count": 13,
   "metadata": {},
   "outputs": [
    {
     "name": "stdout",
     "output_type": "stream",
     "text": [
      "dict_keys(['val_loss', 'val_acc', 'loss', 'acc'])\n"
     ]
    },
    {
     "data": {
      "text/plain": [
       "[<matplotlib.lines.Line2D at 0x1af29d28fd0>]"
      ]
     },
     "execution_count": 13,
     "metadata": {},
     "output_type": "execute_result"
    },
    {
     "data": {
      "text/plain": [
       "[<matplotlib.lines.Line2D at 0x1af29d31550>]"
      ]
     },
     "execution_count": 13,
     "metadata": {},
     "output_type": "execute_result"
    },
    {
     "data": {
      "text/plain": [
       "Text(0.5, 1.0, 'model accuracy')"
      ]
     },
     "execution_count": 13,
     "metadata": {},
     "output_type": "execute_result"
    },
    {
     "data": {
      "text/plain": [
       "Text(0, 0.5, 'accuracy')"
      ]
     },
     "execution_count": 13,
     "metadata": {},
     "output_type": "execute_result"
    },
    {
     "data": {
      "text/plain": [
       "Text(0.5, 0, 'epoch')"
      ]
     },
     "execution_count": 13,
     "metadata": {},
     "output_type": "execute_result"
    },
    {
     "data": {
      "text/plain": [
       "<matplotlib.legend.Legend at 0x1af29d31940>"
      ]
     },
     "execution_count": 13,
     "metadata": {},
     "output_type": "execute_result"
    },
    {
     "data": {
      "image/png": "[encoded data removed]",
      "text/plain": [
       "<Figure size 432x288 with 1 Axes>"
      ]
     },
     "metadata": {
      "needs_background": "light"
     },
     "output_type": "display_data"
    },
    {
     "data": {
      "text/plain": [
       "[<matplotlib.lines.Line2D at 0x1af29a06668>]"
      ]
     },
     "execution_count": 13,
     "metadata": {},
     "output_type": "execute_result"
    },
    {
     "data": {
      "text/plain": [
       "[<matplotlib.lines.Line2D at 0x1af29d1aac8>]"
      ]
     },
     "execution_count": 13,
     "metadata": {},
     "output_type": "execute_result"
    },
    {
     "data": {
      "text/plain": [
       "Text(0.5, 1.0, 'model loss')"
      ]
     },
     "execution_count": 13,
     "metadata": {},
     "output_type": "execute_result"
    },
    {
     "data": {
      "text/plain": [
       "Text(0, 0.5, 'loss')"
      ]
     },
     "execution_count": 13,
     "metadata": {},
     "output_type": "execute_result"
    },
    {
     "data": {
      "text/plain": [
       "Text(0.5, 0, 'epoch')"
      ]
     },
     "execution_count": 13,
     "metadata": {},
     "output_type": "execute_result"
    },
    {
     "data": {
      "text/plain": [
       "<matplotlib.legend.Legend at 0x1af299f6278>"
      ]
     },
     "execution_count": 13,
     "metadata": {},
     "output_type": "execute_result"
    },
    {
     "data": {
      "image/png": "[encoded data removed]",
      "text/plain": [
       "<Figure size 432x288 with 1 Axes>"
      ]
     },
     "metadata": {
      "needs_background": "light"
     },
     "output_type": "display_data"
    }
   ],
   "source": [
    "# list all data in history\n",
    "print(history.history.keys())\n",
    "# summarize history for accuracy\n",
    "plt.plot(history.history['acc'])\n",
    "plt.plot(history.history['val_acc'])\n",
    "plt.title('model accuracy')\n",
    "plt.ylabel('accuracy')\n",
    "plt.xlabel('epoch')\n",
    "plt.legend(['train', 'validation'], loc='upper left')\n",
    "plt.show()\n",
    "# summarize history for loss\n",
    "plt.plot(history.history['loss'])\n",
    "plt.plot(history.history['val_loss'])\n",
    "plt.title('model loss')\n",
    "plt.ylabel('loss')\n",
    "plt.xlabel('epoch')\n",
    "plt.legend(['train', 'validation'], loc='upper left')\n",
    "plt.show()"
   ]
  },
  {
   "cell_type": "markdown",
   "metadata": {},
   "source": [
    "### Confusion Matrix"
   ]
  },
  {
   "cell_type": "code",
   "execution_count": 14,
   "metadata": {},
   "outputs": [
    {
     "data": {
      "text/plain": [
       "<matplotlib.axes._subplots.AxesSubplot at 0x1af29a62780>"
      ]
     },
     "execution_count": 14,
     "metadata": {},
     "output_type": "execute_result"
    },
    {
     "data": {
      "text/plain": [
       "<matplotlib.axes._subplots.AxesSubplot at 0x1af29d80550>"
      ]
     },
     "execution_count": 14,
     "metadata": {},
     "output_type": "execute_result"
    },
    {
     "data": {
      "image/png": "[encoded data removed]",
      "text/plain": [
       "<Figure size 432x288 with 2 Axes>"
      ]
     },
     "metadata": {
      "needs_background": "light"
     },
     "output_type": "display_data"
    },
    {
     "data": {
      "image/png": "[encoded data removed]",
      "text/plain": [
       "<Figure size 432x288 with 2 Axes>"
      ]
     },
     "metadata": {
      "needs_background": "light"
     },
     "output_type": "display_data"
    }
   ],
   "source": [
    "class_names = np.array(['left','right','foot','tongue'])\n",
    "def plot_confusion_matrix(y_true, y_pred, classes,\n",
    "                          normalize=False,\n",
    "                          title=None,\n",
    "                          cmap=plt.cm.Blues):\n",
    "    \"\"\"\n",
    "    This function prints and plots the confusion matrix.\n",
    "    Normalization can be applied by setting `normalize=True`.\n",
    "    \"\"\"\n",
    "    if not title:\n",
    "        if normalize:\n",
    "            title = 'Normalized confusion matrix'\n",
    "        else:\n",
    "            title = 'Confusion matrix, without normalization'\n",
    "\n",
    "    # Compute confusion matrix\n",
    "    cm = confusion_matrix(y_true, y_pred)\n",
    "    # Only use the labels that appear in the data\n",
    "    classes = classes[unique_labels(y_true,y_pred)]\n",
    "    if normalize:\n",
    "        cm = cm.astype('float') / cm.sum(axis=1)[:, np.newaxis]\n",
    "        #print(\"Normalized confusion matrix\")\n",
    "   # else:\n",
    "        #print('Confusion matrix, without normalization')\n",
    "\n",
    "    #print(cm)\n",
    "\n",
    "    fig, ax = plt.subplots()\n",
    "    im = ax.imshow(cm, interpolation='nearest', cmap=cmap)\n",
    "    ax.figure.colorbar(im, ax=ax)\n",
    "    # We want to show all ticks...\n",
    "    ax.set(xticks=np.arange(cm.shape[1]),\n",
    "           yticks=np.arange(cm.shape[0]),\n",
    "           # ... and label them with the respective list entries\n",
    "           xticklabels=classes, yticklabels=classes,\n",
    "           title=title,\n",
    "           ylabel='True label',\n",
    "           xlabel='Predicted label')\n",
    "\n",
    "    # Rotate the tick labels and set their alignment.\n",
    "    plt.setp(ax.get_xticklabels(), rotation=45, ha=\"right\",\n",
    "             rotation_mode=\"anchor\")\n",
    "\n",
    "    # Loop over data dimensions and create text annotations.\n",
    "    fmt = '.2f' if normalize else 'd'\n",
    "    thresh = cm.max() / 2.\n",
    "    for i in range(cm.shape[0]):\n",
    "        for j in range(cm.shape[1]):\n",
    "            ax.text(j, i, format(cm[i, j], fmt),\n",
    "                    ha=\"center\", va=\"center\",\n",
    "                    color=\"white\" if cm[i, j] > thresh else \"black\")\n",
    "    fig.tight_layout()\n",
    "    return ax\n",
    "plot_confusion_matrix(y_test, y_pred, classes=class_names,\n",
    "                      title='Confusion matrix, without normalization')\n",
    "plot_confusion_matrix(y_test, y_pred, classes=class_names,normalize=True,\n",
    "                      title='Confusion matrix, with normalization')"
   ]
  },
  {
   "cell_type": "markdown",
   "metadata": {},
   "source": [
    "### The accuracy for each subject"
   ]
  },
  {
   "cell_type": "code",
   "execution_count": 15,
   "metadata": {},
   "outputs": [
    {
     "data": {
      "text/html": [
       "<div>\n",
       "<style scoped>\n",
       "    .dataframe tbody tr th:only-of-type {\n",
       "        vertical-align: middle;\n",
       "    }\n",
       "\n",
       "    .dataframe tbody tr th {\n",
       "        vertical-align: top;\n",
       "    }\n",
       "\n",
       "    .dataframe thead th {\n",
       "        text-align: right;\n",
       "    }\n",
       "</style>\n",
       "<table border=\"1\" class=\"dataframe\">\n",
       "  <thead>\n",
       "    <tr style=\"text-align: right;\">\n",
       "      <th></th>\n",
       "      <th>CNN++</th>\n",
       "    </tr>\n",
       "  </thead>\n",
       "  <tbody>\n",
       "    <tr>\n",
       "      <th>Subject_0</th>\n",
       "      <td>0.620000</td>\n",
       "    </tr>\n",
       "    <tr>\n",
       "      <th>Subject_1</th>\n",
       "      <td>0.520000</td>\n",
       "    </tr>\n",
       "    <tr>\n",
       "      <th>Subject_2</th>\n",
       "      <td>0.860000</td>\n",
       "    </tr>\n",
       "    <tr>\n",
       "      <th>Subject_3</th>\n",
       "      <td>0.720000</td>\n",
       "    </tr>\n",
       "    <tr>\n",
       "      <th>Subject_4</th>\n",
       "      <td>0.787234</td>\n",
       "    </tr>\n",
       "    <tr>\n",
       "      <th>Subject_5</th>\n",
       "      <td>0.612245</td>\n",
       "    </tr>\n",
       "    <tr>\n",
       "      <th>Subject_6</th>\n",
       "      <td>0.720000</td>\n",
       "    </tr>\n",
       "    <tr>\n",
       "      <th>Subject_7</th>\n",
       "      <td>0.720000</td>\n",
       "    </tr>\n",
       "    <tr>\n",
       "      <th>Subject_8</th>\n",
       "      <td>0.723404</td>\n",
       "    </tr>\n",
       "  </tbody>\n",
       "</table>\n",
       "</div>"
      ],
      "text/plain": [
       "              CNN++\n",
       "Subject_0  0.620000\n",
       "Subject_1  0.520000\n",
       "Subject_2  0.860000\n",
       "Subject_3  0.720000\n",
       "Subject_4  0.787234\n",
       "Subject_5  0.612245\n",
       "Subject_6  0.720000\n",
       "Subject_7  0.720000\n",
       "Subject_8  0.723404"
      ]
     },
     "execution_count": 15,
     "metadata": {},
     "output_type": "execute_result"
    }
   ],
   "source": [
    "data=np.zeros([9,1])\n",
    "for i in range(9):\n",
    "        data[i]=sum(y_pred[test_subject_idx[i]]==y_test[test_subject_idx[i]])/len(test_subject_idx[i])\n",
    "\n",
    "column_name=['CNN++']\n",
    "idx_name=['Subject_0', 'Subject_1','Subject_2','Subject_3','Subject_4','Subject_5','Subject_6','Subject_7','Subject_8']\n",
    "df = pd.DataFrame(data=data,index=idx_name, columns=column_name)\n",
    "df"
   ]
  }
 ],
 "metadata": {
  "kernelspec": {
   "display_name": "Python 3",
   "language": "python",
   "name": "python3"
  },
  "language_info": {
   "codemirror_mode": {
    "name": "ipython",
    "version": 3
   },
   "file_extension": ".py",
   "mimetype": "text/x-python",
   "name": "python",
   "nbconvert_exporter": "python",
   "pygments_lexer": "ipython3",
   "version": "3.6.5"
  }
 },
 "nbformat": 4,
 "nbformat_minor": 2
}
