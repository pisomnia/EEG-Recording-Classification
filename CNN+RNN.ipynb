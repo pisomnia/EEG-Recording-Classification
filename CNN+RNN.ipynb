{
 "cells": [
  {
   "cell_type": "raw",
   "metadata": {},
   "source": [
    "reset"
   ]
  },
  {
   "cell_type": "code",
   "execution_count": 14,
   "metadata": {},
   "outputs": [],
   "source": [
    "from IPython.core.interactiveshell import InteractiveShell\n",
    "InteractiveShell.ast_node_interactivity = \"all\"\n",
    "import warnings\n",
    "warnings.filterwarnings('ignore')\n",
    "\n",
    "import os\n",
    "import math\n",
    "import numpy as np\n",
    "import pandas as pd\n",
    "from collections import Counter\n",
    "from collections import defaultdict\n",
    "import tensorflow as tf\n",
    "from sklearn.preprocessing import OneHotEncoder\n",
    "from sklearn.model_selection import train_test_split\n",
    "%matplotlib inline\n",
    "import numpy as np\n",
    "import matplotlib.pyplot as plt"
   ]
  },
  {
   "cell_type": "code",
   "execution_count": 15,
   "metadata": {},
   "outputs": [],
   "source": [
    "import keras\n",
    "from keras.utils import to_categorical\n",
    "from keras.models import Sequential\n",
    "from keras.layers import Dense, Conv2D, Flatten,MaxPool2D,Reshape,Activation,BatchNormalization,Dropout,Permute\n",
    "from keras import regularizers\n",
    "from keras import optimizers\n",
    "from keras.callbacks import EarlyStopping\n",
    "from sklearn.metrics import confusion_matrix\n",
    "from sklearn.utils.multiclass import unique_labels\n",
    "from tensorflow.contrib import rnn"
   ]
  },
  {
   "cell_type": "code",
   "execution_count": 16,
   "metadata": {},
   "outputs": [
    {
     "name": "stdout",
     "output_type": "stream",
     "text": [
      "Training/Valid data shape: (2115, 25, 1000)\n",
      "Test data shape: (443, 25, 1000)\n",
      "Training/Valid target shape: (2115,)\n",
      "Test target shape: (443,)\n",
      "Person train/valid shape: (2115, 1)\n",
      "Person test shape: (443, 1)\n"
     ]
    }
   ],
   "source": [
    "X_test = np.load(\"X_test.npy\")\n",
    "y_test = np.load(\"y_test.npy\")\n",
    "person_train_valid = np.load(\"person_train_valid.npy\")\n",
    "X_train_valid = np.load(\"X_train_valid.npy\")\n",
    "y_train_valid = np.load(\"y_train_valid.npy\")\n",
    "person_test = np.load(\"person_test.npy\")\n",
    "print ('Training/Valid data shape: {}'.format(X_train_valid.shape))\n",
    "print ('Test data shape: {}'.format(X_test.shape))\n",
    "print ('Training/Valid target shape: {}'.format(y_train_valid.shape))\n",
    "print ('Test target shape: {}'.format(y_test.shape))\n",
    "print ('Person train/valid shape: {}'.format(person_train_valid.shape))\n",
    "print ('Person test shape: {}'.format(person_test.shape))"
   ]
  },
  {
   "cell_type": "code",
   "execution_count": 17,
   "metadata": {
    "scrolled": true
   },
   "outputs": [
    {
     "name": "stdout",
     "output_type": "stream",
     "text": [
      "Counter({771: 543, 772: 530, 769: 529, 770: 513})\n",
      "Counter({6.0: 238, 0.0: 237, 1.0: 236, 2.0: 236, 5.0: 236, 4.0: 235, 3.0: 234, 7.0: 232, 8.0: 231})\n",
      "Counter({770: 127, 769: 111, 772: 109, 771: 96})\n",
      "Counter({0.0: 50, 1.0: 50, 2.0: 50, 3.0: 50, 6.0: 50, 7.0: 50, 5.0: 49, 4.0: 47, 8.0: 47})\n"
     ]
    }
   ],
   "source": [
    "c1 = Counter(y_train_valid)\n",
    "d1 = Counter(person_train_valid[:,0])\n",
    "print(c1)\n",
    "print(d1)\n",
    "c2 = Counter(y_test)\n",
    "d2 = Counter(person_test[:,0])\n",
    "print(c2)\n",
    "print(d2)"
   ]
  },
  {
   "cell_type": "code",
   "execution_count": 18,
   "metadata": {},
   "outputs": [
    {
     "data": {
      "text/html": [
       "<div>\n",
       "<style scoped>\n",
       "    .dataframe tbody tr th:only-of-type {\n",
       "        vertical-align: middle;\n",
       "    }\n",
       "\n",
       "    .dataframe tbody tr th {\n",
       "        vertical-align: top;\n",
       "    }\n",
       "\n",
       "    .dataframe thead th {\n",
       "        text-align: right;\n",
       "    }\n",
       "</style>\n",
       "<table border=\"1\" class=\"dataframe\">\n",
       "  <thead>\n",
       "    <tr style=\"text-align: right;\">\n",
       "      <th></th>\n",
       "      <th>Subject_0</th>\n",
       "      <th>Subject_1</th>\n",
       "      <th>Subject_2</th>\n",
       "      <th>Subject_3</th>\n",
       "      <th>Subject_4</th>\n",
       "      <th>Subject_5</th>\n",
       "      <th>Subject_6</th>\n",
       "      <th>Subject_7</th>\n",
       "      <th>Subject_8</th>\n",
       "    </tr>\n",
       "  </thead>\n",
       "  <tbody>\n",
       "    <tr>\n",
       "      <th>left</th>\n",
       "      <td>60</td>\n",
       "      <td>60</td>\n",
       "      <td>56</td>\n",
       "      <td>66</td>\n",
       "      <td>55</td>\n",
       "      <td>57</td>\n",
       "      <td>59</td>\n",
       "      <td>60</td>\n",
       "      <td>56</td>\n",
       "    </tr>\n",
       "    <tr>\n",
       "      <th>right</th>\n",
       "      <td>59</td>\n",
       "      <td>57</td>\n",
       "      <td>60</td>\n",
       "      <td>54</td>\n",
       "      <td>60</td>\n",
       "      <td>55</td>\n",
       "      <td>54</td>\n",
       "      <td>56</td>\n",
       "      <td>58</td>\n",
       "    </tr>\n",
       "    <tr>\n",
       "      <th>foot</th>\n",
       "      <td>58</td>\n",
       "      <td>62</td>\n",
       "      <td>63</td>\n",
       "      <td>56</td>\n",
       "      <td>59</td>\n",
       "      <td>62</td>\n",
       "      <td>64</td>\n",
       "      <td>60</td>\n",
       "      <td>59</td>\n",
       "    </tr>\n",
       "    <tr>\n",
       "      <th>tongue</th>\n",
       "      <td>60</td>\n",
       "      <td>57</td>\n",
       "      <td>57</td>\n",
       "      <td>58</td>\n",
       "      <td>61</td>\n",
       "      <td>62</td>\n",
       "      <td>61</td>\n",
       "      <td>56</td>\n",
       "      <td>58</td>\n",
       "    </tr>\n",
       "  </tbody>\n",
       "</table>\n",
       "</div>"
      ],
      "text/plain": [
       "        Subject_0  Subject_1  Subject_2  Subject_3  Subject_4  Subject_5  \\\n",
       "left           60         60         56         66         55         57   \n",
       "right          59         57         60         54         60         55   \n",
       "foot           58         62         63         56         59         62   \n",
       "tongue         60         57         57         58         61         62   \n",
       "\n",
       "        Subject_6  Subject_7  Subject_8  \n",
       "left           59         60         56  \n",
       "right          54         56         58  \n",
       "foot           64         60         59  \n",
       "tongue         61         56         58  "
      ]
     },
     "execution_count": 18,
     "metadata": {},
     "output_type": "execute_result"
    }
   ],
   "source": [
    "Subject=np.array([0,1,2,3,4,5,6,7,8])\n",
    "Class =np.array([769,770,771,772])\n",
    "data=np.zeros([4,9])\n",
    "for i in range(4):\n",
    "    for j in range(9):\n",
    "        loc=np.argwhere(person_train_valid==Subject[j])[:,0]\n",
    "        data[i,j]=sum(y_train_valid[loc]==Class[i])\n",
    "\n",
    "idx_name=['left','right','foot','tongue']\n",
    "column_name=['Subject_0', 'Subject_1','Subject_2','Subject_3','Subject_4','Subject_5','Subject_6','Subject_7','Subject_8']\n",
    "df = pd.DataFrame(data=data,index=idx_name, columns=column_name)\n",
    "df.astype(np.int64)"
   ]
  },
  {
   "cell_type": "code",
   "execution_count": 19,
   "metadata": {},
   "outputs": [
    {
     "name": "stdout",
     "output_type": "stream",
     "text": [
      "237\n",
      "50\n"
     ]
    }
   ],
   "source": [
    "# Splitting data by subject \n",
    "person_train_valid = person_train_valid.astype(int)\n",
    "person_test = person_test.astype(int)\n",
    "\n",
    "ids = range(0, 9) # IDs 0-8 inclusive\n",
    "\n",
    "train_valid_subject_idx = defaultdict(list) # key: id 0-8, value: list of indices of training data for that id \n",
    "test_subject_idx = defaultdict(list)\n",
    "\n",
    "num_trials, num_channels, num_bins = X_train_valid.shape\n",
    "num_test = X_test.shape[0]\n",
    "\n",
    "for i in range(num_trials):\n",
    "    train_valid_subject_idx[person_train_valid[i][0]].append(i)\n",
    "    \n",
    "for i in range(num_test):\n",
    "    test_subject_idx[person_test[i][0]].append(i)\n",
    "# Sanity check to see if partitioning by subject ID worked\n",
    "\n",
    "print(len(train_valid_subject_idx[0]))\n",
    "print(len(test_subject_idx[0]))   \n",
    "# change the label in one-hot encoding\n",
    "y_train_valid-=769\n",
    "y_test-=769\n",
    "#y_train_valid_onehot = to_categorical(y_train_valid)\n",
    "#y_test_onehot= to_categorical(y_test)"
   ]
  },
  {
   "cell_type": "code",
   "execution_count": 20,
   "metadata": {},
   "outputs": [
    {
     "name": "stdout",
     "output_type": "stream",
     "text": [
      "Training/Valid data shape: (2115, 25, 1000, 1)\n",
      "Test data shape: (443, 25, 1000, 1)\n",
      "Original Training data shape: (1692, 25, 1000, 1)\n",
      "Original Validation data shape: (423, 25, 1000, 1)\n",
      "Original Testing data shape: (443, 25, 1000, 1)\n",
      "3Second Training data shape: (1692, 25, 750, 1)\n",
      "3Second Validation data shape: (423, 25, 750, 1)\n",
      "3Second Testing data shape: (443, 25, 750, 1)\n"
     ]
    }
   ],
   "source": [
    "# Split the training data and Validation data\n",
    "# Remove the 1st decond which is the cue period\n",
    "EEG_22=False\n",
    "is_3s=True\n",
    "n_sub = 2\n",
    "split_size=0.2\n",
    "#True:{1,2,3,5,10,15} False:{1,2,4,5,8,10,20}\n",
    "if EEG_22==True:\n",
    "    EEG_train_valid = X_train_valid[:,:22,:].reshape(-1,22,1000,1)\n",
    "    EEG_test  = X_test[:,:22,:].reshape(-1,22,1000,1)\n",
    "else:\n",
    "    EEG_train_valid = X_train_valid[:,:25,:].reshape(-1,25,1000,1)\n",
    "    EEG_test  = X_test[:,:25,:].reshape(-1,25,1000,1)\n",
    "\n",
    "print ('Training/Valid data shape: {}'.format(EEG_train_valid.shape))\n",
    "print ('Test data shape: {}'.format(EEG_test.shape))\n",
    "\n",
    "n_train=int(2115*(1-split_size))\n",
    "n_valid=int(2115*split_size)\n",
    "n_test=443\n",
    "\n",
    "EEG_train, EEG_valid, y_train, y_valid = train_test_split(\n",
    "    EEG_train_valid, y_train_valid, test_size=split_size, shuffle=True)\n",
    "\n",
    "print ('Original Training data shape: {}'.format(EEG_train.shape))\n",
    "print ('Original Validation data shape: {}'.format(EEG_valid.shape))\n",
    "print ('Original Testing data shape: {}'.format(EEG_test.shape))\n",
    "EEG_3s_train=EEG_train[:,:,250:1000,:]\n",
    "EEG_3s_valid=EEG_valid[:,:,250:1000,:]\n",
    "EEG_3s_test=EEG_test[:,:,250:1000,:]\n",
    "print ('3Second Training data shape: {}'.format(EEG_3s_train.shape))\n",
    "print ('3Second Validation data shape: {}'.format(EEG_3s_valid.shape))\n",
    "print ('3Second Testing data shape: {}'.format(EEG_3s_test.shape))"
   ]
  },
  {
   "cell_type": "markdown",
   "metadata": {},
   "source": [
    "### Down sample the original data\n"
   ]
  },
  {
   "cell_type": "code",
   "execution_count": 21,
   "metadata": {},
   "outputs": [
    {
     "name": "stdout",
     "output_type": "stream",
     "text": [
      "use the 3-seconds data:\n",
      "New Training data shape: (3384, 25, 375, 1)\n",
      "New Validation data shape: (846, 25, 375, 1)\n",
      "New Testing data shape: (886, 25, 375, 1)\n"
     ]
    }
   ],
   "source": [
    "if is_3s==True:\n",
    "    print(\"use the 3-seconds data:\")\n",
    "    new_train=np.zeros([n_train*n_sub,EEG_train.shape[1],750//n_sub,1],dtype='float64')\n",
    "    new_valid=np.zeros([n_valid*n_sub,EEG_train.shape[1],750//n_sub,1],dtype='float64')\n",
    "    new_test=np.zeros([n_test*n_sub,EEG_train.shape[1],750//n_sub,1],dtype='float64')    \n",
    "else:\n",
    "    print(\"use the 4-seconds data:\")\n",
    "    new_train=np.zeros([n_train*n_sub,EEG_train.shape[1],1000//n_sub,1],dtype='float64')\n",
    "    new_valid=np.zeros([n_valid*n_sub,EEG_train.shape[1],1000//n_sub,1],dtype='float64')\n",
    "    new_test=np.zeros([n_test*n_sub,EEG_train.shape[1],1000//n_sub,1],dtype='float64')\n",
    "yy_train= np.zeros([new_train.shape[0]],dtype='float64')\n",
    "yy_valid= np.zeros([new_valid.shape[0]],dtype='float64')\n",
    "yy_test= np.zeros([new_test.shape[0]],dtype='float64')\n",
    "for i in range(n_sub)  :\n",
    "    if is_3s==True:\n",
    "        new_train[i*n_train:(i+1)*n_train]=EEG_3s_train[:,:,i:750:n_sub,:]\n",
    "        new_valid[i*n_valid:(i+1)*n_valid]=EEG_3s_valid[:,:,i:750:n_sub,:]\n",
    "        new_test[i*n_test:(i+1)*n_test]=EEG_3s_test[:,:,i:750:n_sub,:]\n",
    "    else:\n",
    "        new_train[i*n_train:(i+1)*n_train]=EEG_train[:,:,i:1000:n_sub,:]\n",
    "        new_valid[i*n_valid:(i+1)*n_valid]=EEG_valid[:,:,i:1000:n_sub,:]\n",
    "        new_test[i*n_test:(i+1)*n_test]=EEG_test[:,:,i:1000:n_sub,:]\n",
    "    yy_train[i*n_train:(i+1)*n_train]= y_train\n",
    "    yy_valid[i*n_valid:(i+1)*n_valid]=y_valid\n",
    "    yy_test[i*n_test:(i+1)*n_test]=y_test\n",
    "print ('New Training data shape: {}'.format(new_train.shape))\n",
    "print ('New Validation data shape: {}'.format(new_valid.shape))\n",
    "print ('New Testing data shape: {}'.format(new_test.shape))"
   ]
  },
  {
   "cell_type": "markdown",
   "metadata": {},
   "source": [
    "### CNN  ConvNet Architecture (with down sample Data)\n",
    "Input Dimension: 25x75x1\n",
    "0. `Projected FC Block`\n",
    "<br>Fully connected layer\n",
    "<br>  $\\longrightarrow$ 30x75x1\n",
    "1. `Conv-Pool Block`\n",
    "<br>Convolutional layer with 40 1x6 kernels, with stride 1,1, valid padding\n",
    "<br>  $\\longrightarrow$ 30x70x40\n",
    "<br>ELU \n",
    "<br>Max Pooling Stride 1x2 with same padding \n",
    "<br>  $\\longrightarrow$ 30x35x40\n",
    "2. `Conv-Pool Block`\n",
    "<br>Convolutional layer with 40 1x4 kernels, with stride 1,1,valid padding\n",
    "<br>  $\\longrightarrow$ 30x32x40\n",
    "<br>ELU\n",
    "<br>Max Pooling Stride 1x2 with same padding \n",
    "<br>  $\\longrightarrow$ 30x16x40\n",
    "3. `Conv-Pool Block`\n",
    "<br>Convolutional layer with 60 30x1 kernels, with stride 1,1,valid padding\n",
    "<br>  $\\longrightarrow$ 1x16x60\n",
    "<br>ELU\n",
    "\n",
    "4. `Conv-Pool Block`\n",
    "<br>Convolutional layer with 80 1x3 kernels, with stride 1,1,same padding\n",
    "<br>  $\\longrightarrow$ 1x16x80\n",
    "<br>ELU\n",
    "<br>Max Pooling Stride 1x2, same padding\n",
    "<br>  $\\longrightarrow$ 1x8x80\n",
    "5. `Conv-Pool Block`\n",
    "<br>Convolutional layer with 80 1x3 kernels, with stride 1,1,same padding\n",
    "<br>  $\\longrightarrow$ 1x6x80\n",
    "<br>ELU\n",
    "<br>Max Pooling Stride 1x2, same padding\n",
    "<br>  $\\longrightarrow$ 1x3x80\n",
    "5. `GRU`\n",
    "<br> GRU\n",
    "<br>  $\\longrightarrow$ \n",
    "<br> GRU \n",
    "<br>  $\\longrightarrow$ \n",
    "6. `Classification Layer`\n",
    "<br> Average of the hidden states from 5 frames\n",
    "<br> Softmax"
   ]
  },
  {
   "cell_type": "code",
   "execution_count": 22,
   "metadata": {},
   "outputs": [],
   "source": [
    "class Dataset(object):\n",
    "    def __init__(self, X, y, batch_size, shuffle=False):\n",
    "        \"\"\"\n",
    "        Construct a Dataset object to iterate over data X and labels y\n",
    "        \n",
    "        Inputs:\n",
    "        - X: Numpy array of data, of any shape\n",
    "        - y: Numpy array of labels, of any shape but with y.shape[0] == X.shape[0]\n",
    "        - batch_size: Integer giving number of elements per minibatch\n",
    "        - shuffle: (optional) Boolean, whether to shuffle the data on each epoch\n",
    "        \"\"\"\n",
    "        assert X.shape[0] == y.shape[0], 'Got different numbers of data and labels'\n",
    "        self.X, self.y = X, y\n",
    "        self.batch_size, self.shuffle = batch_size, shuffle\n",
    "\n",
    "    def __iter__(self):\n",
    "        N, B = self.X.shape[0], self.batch_size\n",
    "        idxs = np.arange(N)\n",
    "        if self.shuffle:\n",
    "            np.random.shuffle(idxs)\n",
    "        return iter((self.X[i:i+B], self.y[i:i+B]) for i in range(0, N, B))\n"
   ]
  },
  {
   "cell_type": "code",
   "execution_count": 23,
   "metadata": {},
   "outputs": [
    {
     "name": "stdout",
     "output_type": "stream",
     "text": [
      "Using device:  /cpu:0\n"
     ]
    }
   ],
   "source": [
    "# Set up some global variables\n",
    "USE_GPU = False\n",
    "\n",
    "if USE_GPU:\n",
    "    device = '/device:GPU:0'\n",
    "else:\n",
    "    device = '/cpu:0'\n",
    "print('Using device: ', device)"
   ]
  },
  {
   "cell_type": "code",
   "execution_count": 24,
   "metadata": {},
   "outputs": [],
   "source": [
    "def check_accuracy(sess, dset, x1,x2,x3,x4,x5, scores, is_training=None):\n",
    "    \"\"\"\n",
    "    Check accuracy on a classification model.\n",
    "    Inputs:\n",
    "    - sess: A TensorFlow Session that will be used to run the graph\n",
    "    - dset: A Dataset object on which to check accuracy\n",
    "    - x: A TensorFlow placeholder Tensor where input images should be fed\n",
    "    - scores: A TensorFlow Tensor representing the scores output from the\n",
    "      model; this is the Tensor we will ask TensorFlow to evaluate.    \n",
    "    Returns: Nothing, but prints the accuracy of the model\n",
    "    \"\"\"\n",
    "    num_correct, num_samples = 0, 0\n",
    "    for x_batch, y_batch in dset:\n",
    "        x1_np=x_batch[:,:,0:75,:]\n",
    "        x2_np=x_batch[:,:,75:150,:]\n",
    "        x3_np=x_batch[:,:,150:225,:]\n",
    "        x4_np=x_batch[:,:,225:300,:]\n",
    "        x5_np=x_batch[:,:,300:375,:]\n",
    "        feed_dict = {x1: x1_np,x2: x2_np,x3: x3_np,x4: x4_np,x5: x5_np, is_training: 0}\n",
    "        scores_np = sess.run(scores, feed_dict=feed_dict)\n",
    "        #y_pred = np.zeros(scores_up.shape,dtype=int)\n",
    "        #y_pred[[range(y_pred.shape[0])],scores_np.argmax(axis=1)]=1\n",
    "        #scores_np\n",
    "        y_pred = scores_np.argmax(axis=1)\n",
    "        num_samples += x_batch.shape[0]\n",
    "        num_correct += (y_pred == y_batch).sum()\n",
    "    acc = float(num_correct) / num_samples\n",
    "    print('Got %d / %d correct (%.2f%%)' % (num_correct, num_samples, 100 * acc))\n",
    "    return scores_np"
   ]
  },
  {
   "cell_type": "code",
   "execution_count": 25,
   "metadata": {},
   "outputs": [],
   "source": [
    "tf.reset_default_graph()\n",
    "with tf.device(device):\n",
    "    is_training = tf.placeholder(tf.bool, name='is_training')\n",
    "\n",
    "    # Set up placeholders for the data and labels\n",
    "    x1 = tf.placeholder(tf.float32, [None, 25, 75, 1])\n",
    "    x2 = tf.placeholder(tf.float32, [None, 25, 75, 1])\n",
    "    x3 = tf.placeholder(tf.float32, [None, 25, 75, 1])\n",
    "    x4 = tf.placeholder(tf.float32, [None, 25, 75, 1])\n",
    "    x5 = tf.placeholder(tf.float32, [None, 25, 75, 1])\n",
    "    y = tf.placeholder(tf.int32, [None])\n",
    "\n",
    "    # Network architecture: (conv -> relu -> batchnorm -> maxpool) * 2 -> FC\n",
    "    with tf.variable_scope('CNN',reuse=tf.AUTO_REUSE):\n",
    "        ## For 1st frame \n",
    "        f1_x1=tf.transpose(x1,perm=[0,3,2,1],name='Transpose1')\n",
    "        f1_x1=tf.layers.dense(f1_x1,30,name='Dense1')\n",
    "        f1_x1=tf.transpose(f1_x1,perm=[0,3,2,1],name='Transpose2')\n",
    "        f2_x1=tf.layers.conv2d(f1_x1, 40, (1, 6), padding='valid',name='Conv1')\n",
    "        f2_x1= tf.layers.batch_normalization(f2_x1,name='BN1',training=is_training)\n",
    "        f2_x1= tf.nn.elu(f2_x1,name='ELU1')\n",
    "        f2_x1= tf.layers.max_pooling2d(f2_x1,(1,2),(1,2),padding='same',name='Pool1')\n",
    "        f2_x1= tf.layers.dropout(f2_x1,rate=0.5,name='Dropout1',training=is_training)\n",
    "        f3_x1=tf.layers.conv2d(f2_x1, 40, (1, 4), padding='valid',name='Conv2')\n",
    "        f3_x1= tf.layers.batch_normalization(f3_x1,name='BN2',training=is_training)\n",
    "        f3_x1= tf.nn.elu(f3_x1,name='ELU2')\n",
    "        f3_x1= tf.layers.max_pooling2d(f3_x1,(1,2),(1,2),padding='same',name='Pool2')\n",
    "        f3_x1= tf.layers.dropout(f3_x1,rate=0.5,name='Dropout2',training=is_training)\n",
    "        f4_x1=tf.layers.conv2d(f3_x1, 60, (30, 1), padding='valid',name='Conv3')\n",
    "        f4_x1= tf.layers.batch_normalization(f4_x1,name='BN3',training=is_training)\n",
    "        f4_x1= tf.nn.elu(f4_x1,name='ELU3')\n",
    "        f5_x1=tf.layers.conv2d(f4_x1, 80, (1, 3), padding='same',name='Conv4')\n",
    "        f5_x1= tf.layers.batch_normalization(f5_x1,name='BN4',training=is_training)\n",
    "        f5_x1= tf.nn.elu(f5_x1,name='ELU4')\n",
    "        f5_x1= tf.layers.max_pooling2d(f5_x1,(1,2),(1,2),padding='same',name='Pool3')\n",
    "        f5_x1= tf.layers.dropout(f5_x1,rate=0.5,name='Dropout3',training=is_training)\n",
    "        f6_x1=tf.layers.conv2d(f5_x1, 80, (1, 3), padding='valid',name='Conv5')\n",
    "        f6_x1= tf.layers.batch_normalization(f6_x1,name='BN5',training=is_training)\n",
    "        f6_x1= tf.nn.elu(f6_x1,name='ELU5')\n",
    "        f6_x1= tf.layers.max_pooling2d(f6_x1,(1,2),(1,2),padding='same',name='Pool4')\n",
    "        f6_x1= tf.layers.dropout(f6_x1,rate=0.5,name='Dropout4',training=is_training)\n",
    "        f6_x1= tf.reshape(f6_x1,[-1,3,80])\n",
    "        #f6_x1=tf.transpose(f6_x1,perm=[0,2,1],name='Transpose3')\n",
    "        ## For 2nd frame\n",
    "        f1_x2=tf.transpose(x2,perm=[0,3,2,1],name='Transpose1')\n",
    "        f1_x2=tf.layers.dense(f1_x2,30,name='Dense1')\n",
    "        f1_x2=tf.transpose(f1_x2,perm=[0,3,2,1],name='Transpose2')\n",
    "        f2_x2=tf.layers.conv2d(f1_x2, 40, (1, 6), padding='valid',name='Conv1')\n",
    "        f2_x2= tf.layers.batch_normalization(f2_x2,name='BN1',training=is_training)\n",
    "        f2_x2= tf.nn.elu(f2_x2,name='ELU1')\n",
    "        f2_x2= tf.layers.max_pooling2d(f2_x2,(1,2),(1,2),padding='same',name='Pool1')\n",
    "        f2_x2= tf.layers.dropout(f2_x2,rate=0.5,name='Dropout1',training=is_training)\n",
    "        f3_x2=tf.layers.conv2d(f2_x2, 40, (1, 4), padding='valid',name='Conv2')\n",
    "        f3_x2= tf.layers.batch_normalization(f3_x2,name='BN2',training=is_training)\n",
    "        f3_x2= tf.nn.elu(f3_x2,name='ELU2')\n",
    "        f3_x2= tf.layers.max_pooling2d(f3_x2,(1,2),(1,2),padding='same',name='Pool2')\n",
    "        f3_x2= tf.layers.dropout(f3_x2,rate=0.5,name='Dropout2',training=is_training)\n",
    "        f4_x2=tf.layers.conv2d(f3_x2, 60, (30, 1), padding='valid',name='Conv3')\n",
    "        f4_x2= tf.layers.batch_normalization(f4_x2,name='BN3',training=is_training)\n",
    "        f4_x2= tf.nn.elu(f4_x2,name='ELU3')\n",
    "        f5_x2=tf.layers.conv2d(f4_x2, 80, (1, 3), padding='same',name='Conv4')\n",
    "        f5_x2= tf.layers.batch_normalization(f5_x2,name='BN4',training=is_training)\n",
    "        f5_x2= tf.nn.elu(f5_x2,name='ELU4')\n",
    "        f5_x2= tf.layers.max_pooling2d(f5_x2,(1,2),(1,2),padding='same',name='Pool3')\n",
    "        f5_x2= tf.layers.dropout(f5_x2,rate=0.5,name='Dropout3',training=is_training)\n",
    "        f6_x2=tf.layers.conv2d(f5_x2, 80, (1, 3), padding='valid',name='Conv5')\n",
    "        f6_x2= tf.layers.batch_normalization(f6_x2,name='BN5',training=is_training)\n",
    "        f6_x2= tf.nn.elu(f6_x2,name='ELU5')\n",
    "        f6_x2= tf.layers.max_pooling2d(f6_x2,(1,2),(1,2),padding='same',name='Pool4')\n",
    "        f6_x2= tf.layers.dropout(f6_x2,rate=0.5,name='Dropout4',training=is_training)\n",
    "        f6_x2= tf.reshape(f6_x2,[-1,3,80])\n",
    "        #f6_x2=tf.transpose(f6_x2,perm=[0,2,1],name='Transpose3')\n",
    "        ## For 3rd frame\n",
    "        f1_x3=tf.transpose(x3,perm=[0,3,2,1],name='Transpose1')\n",
    "        f1_x3=tf.layers.dense(f1_x3,30,name='Dense1')\n",
    "        f1_x3=tf.transpose(f1_x3,perm=[0,3,2,1],name='Transpose2')\n",
    "        f2_x3=tf.layers.conv2d(f1_x3, 40, (1, 6), padding='valid',name='Conv1')\n",
    "        f2_x3= tf.layers.batch_normalization(f2_x3,name='BN1',training=is_training)\n",
    "        f2_x3= tf.nn.elu(f2_x3,name='ELU1')\n",
    "        f2_x3= tf.layers.max_pooling2d(f2_x3,(1,2),(1,2),padding='same',name='Pool1')\n",
    "        f2_x3= tf.layers.dropout(f2_x3,rate=0.5,name='Dropout1',training=is_training)\n",
    "        f3_x3=tf.layers.conv2d(f2_x3, 40, (1, 4), padding='valid',name='Conv2')\n",
    "        f3_x3= tf.layers.batch_normalization(f3_x3,name='BN2',training=is_training)\n",
    "        f3_x3= tf.nn.elu(f3_x3,name='ELU2')\n",
    "        f3_x3= tf.layers.max_pooling2d(f3_x3,(1,2),(1,2),padding='same',name='Pool2')\n",
    "        f3_x3= tf.layers.dropout(f3_x3,rate=0.5,name='Dropout2',training=is_training)\n",
    "        f4_x3=tf.layers.conv2d(f3_x3, 60, (30, 1), padding='valid',name='Conv3')\n",
    "        f4_x3= tf.layers.batch_normalization(f4_x3,name='BN3',training=is_training)\n",
    "        f4_x3= tf.nn.elu(f4_x3,name='ELU3')\n",
    "        f5_x3=tf.layers.conv2d(f4_x3, 80, (1, 3), padding='same',name='Conv4')\n",
    "        f5_x3= tf.layers.batch_normalization(f5_x3,name='BN4',training=is_training)\n",
    "        f5_x3= tf.nn.elu(f5_x3,name='ELU4')\n",
    "        f5_x3= tf.layers.max_pooling2d(f5_x3,(1,2),(1,2),padding='same',name='Pool3')\n",
    "        f5_x3= tf.layers.dropout(f5_x3,rate=0.5,name='Dropout3',training=is_training)\n",
    "        f6_x3=tf.layers.conv2d(f5_x3, 80, (1, 3), padding='valid',name='Conv5')\n",
    "        f6_x3= tf.layers.batch_normalization(f6_x3,name='BN5',training=is_training)\n",
    "        f6_x3= tf.nn.elu(f6_x3,name='ELU5')\n",
    "        f6_x3= tf.layers.max_pooling2d(f6_x3,(1,2),(1,2),padding='same',name='Pool4')\n",
    "        f6_x3= tf.layers.dropout(f6_x3,rate=0.5,name='Dropout4',training=is_training)\n",
    "        f6_x3= tf.reshape(f6_x3,[-1,3,80])\n",
    "        #f6_x3=tf.transpose(f6_x3,perm=[0,2,1],name='Transpose3')\n",
    "        ## For 4th frame\n",
    "        f1_x4=tf.transpose(x4,perm=[0,3,2,1],name='Transpose1')\n",
    "        f1_x4=tf.layers.dense(f1_x4,30,name='Dense1')\n",
    "        f1_x4=tf.transpose(f1_x4,perm=[0,3,2,1],name='Transpose2')\n",
    "        f2_x4=tf.layers.conv2d(f1_x4, 40, (1, 6), padding='valid',name='Conv1')\n",
    "        f2_x4= tf.layers.batch_normalization(f2_x4,name='BN1',training=is_training)\n",
    "        f2_x4= tf.nn.elu(f2_x4,name='ELU1')\n",
    "        f2_x4= tf.layers.max_pooling2d(f2_x4,(1,2),(1,2),padding='same',name='Pool1')\n",
    "        f2_x4= tf.layers.dropout(f2_x4,rate=0.5,name='Dropout1',training=is_training)\n",
    "        f3_x4=tf.layers.conv2d(f2_x4, 40, (1, 4), padding='valid',name='Conv2')\n",
    "        f3_x4= tf.layers.batch_normalization(f3_x4,name='BN2',training=is_training)\n",
    "        f3_x4= tf.nn.elu(f3_x4,name='ELU2')\n",
    "        f3_x4= tf.layers.max_pooling2d(f3_x4,(1,2),(1,2),padding='same',name='Pool2')\n",
    "        f3_x4= tf.layers.dropout(f3_x4,rate=0.5,name='Dropout2',training=is_training)\n",
    "        f4_x4=tf.layers.conv2d(f3_x4, 60, (30, 1), padding='valid',name='Conv3')\n",
    "        f4_x4= tf.layers.batch_normalization(f4_x4,name='BN3',training=is_training)\n",
    "        f4_x4= tf.nn.elu(f4_x4,name='ELU3')\n",
    "        f5_x4=tf.layers.conv2d(f4_x4, 80, (1, 3), padding='same',name='Conv4')\n",
    "        f5_x4= tf.layers.batch_normalization(f5_x4,name='BN4',training=is_training)\n",
    "        f5_x4= tf.nn.elu(f5_x4,name='ELU4')\n",
    "        f5_x4= tf.layers.max_pooling2d(f5_x4,(1,2),(1,2),padding='same',name='Pool3')\n",
    "        f5_x4= tf.layers.dropout(f5_x4,rate=0.5,name='Dropout3',training=is_training)\n",
    "        f6_x4=tf.layers.conv2d(f5_x4, 80, (1, 3), padding='valid',name='Conv5')\n",
    "        f6_x4= tf.layers.batch_normalization(f6_x4,name='BN5',training=is_training)\n",
    "        f6_x4= tf.nn.elu(f6_x4,name='ELU5')\n",
    "        f6_x4= tf.layers.max_pooling2d(f6_x4,(1,2),(1,2),padding='same',name='Pool4')\n",
    "        f6_x4= tf.layers.dropout(f6_x4,rate=0.5,name='Dropout4',training=is_training)\n",
    "        f6_x4= tf.reshape(f6_x4,[-1,3,80])\n",
    "        #f6_x4=tf.transpose(f6_x4,perm=[0,2,1],name='Transpose3')\n",
    "        ## For 5th frame\n",
    "        f1_x5=tf.transpose(x5,perm=[0,3,2,1],name='Transpose1')\n",
    "        f1_x5=tf.layers.dense(f1_x5,30,name='Dense1')\n",
    "        f1_x5=tf.transpose(f1_x5,perm=[0,3,2,1],name='Transpose2')\n",
    "        f2_x5=tf.layers.conv2d(f1_x5, 40, (1, 6), padding='valid',name='Conv1')\n",
    "        f2_x5= tf.layers.batch_normalization(f2_x5,name='BN1',training=is_training)\n",
    "        f2_x5= tf.nn.elu(f2_x5,name='ELU1')\n",
    "        f2_x5= tf.layers.max_pooling2d(f2_x5,(1,2),(1,2),padding='same',name='Pool1')\n",
    "        f2_x5= tf.layers.dropout(f2_x5,rate=0.5,name='Dropout1',training=is_training)\n",
    "        f3_x5=tf.layers.conv2d(f2_x5, 40, (1, 4), padding='valid',name='Conv2')\n",
    "        f3_x5= tf.layers.batch_normalization(f3_x5,name='BN2',training=is_training)\n",
    "        f3_x5= tf.nn.elu(f3_x5,name='ELU2')\n",
    "        f3_x5= tf.layers.max_pooling2d(f3_x5,(1,2),(1,2),padding='same',name='Pool2')\n",
    "        f3_x5= tf.layers.dropout(f3_x5,rate=0.5,name='Dropout2',training=is_training)\n",
    "        f4_x5=tf.layers.conv2d(f3_x5, 60, (30, 1), padding='valid',name='Conv3')\n",
    "        f4_x5= tf.layers.batch_normalization(f4_x5,name='BN3',training=is_training)\n",
    "        f4_x5= tf.nn.elu(f4_x5,name='ELU3')\n",
    "        f5_x5=tf.layers.conv2d(f4_x5, 80, (1, 3), padding='same',name='Conv4')\n",
    "        f5_x5= tf.layers.batch_normalization(f5_x5,name='BN4',training=is_training)\n",
    "        f5_x5= tf.nn.elu(f5_x5,name='ELU4')\n",
    "        f5_x5= tf.layers.max_pooling2d(f5_x5,(1,2),(1,2),padding='same',name='Pool3')\n",
    "        f5_x5= tf.layers.dropout(f5_x5,rate=0.5,name='Dropout3',training=is_training)\n",
    "        f6_x5=tf.layers.conv2d(f5_x5, 80, (1, 3), padding='valid',name='Conv5')\n",
    "        f6_x5= tf.layers.batch_normalization(f6_x5,name='BN5',training=is_training)\n",
    "        f6_x5= tf.nn.elu(f6_x5,name='ELU5')\n",
    "        f6_x5= tf.layers.max_pooling2d(f6_x5,(1,2),(1,2),padding='same',name='Pool4')\n",
    "        f6_x5= tf.layers.dropout(f6_x5,rate=0.5,name='Dropout4',training=is_training)\n",
    "        f6_x5= tf.reshape(f6_x5,[-1,3,80])  \n",
    "        #f6_x5=tf.transpose(f6_x5,perm=[0,2,1],name='Transpose3')\n",
    "    with tf.variable_scope('GRU1'):\n",
    "        ## For 1st frame\n",
    "        layers_x1 = [tf.nn.rnn_cell.GRUCell(80) for _ in range(2)]\n",
    "        mgru_x1 = tf.nn.rnn_cell.MultiRNNCell(layers_x1)\n",
    "        output_x1, state_x1 = tf.nn.dynamic_rnn(mgru_x1, f6_x1, dtype=tf.float32)\n",
    "        h_state_x1 =output_x1[:,-1,:]\n",
    "    with tf.variable_scope('GRU2'):\n",
    "        ## For 2nd frame\n",
    "        layers_x2 = [tf.nn.rnn_cell.GRUCell(80) for _ in range(2)]\n",
    "        mgru_x2 = tf.nn.rnn_cell.MultiRNNCell(layers_x2)\n",
    "        output_x2, state_x2 = tf.nn.dynamic_rnn(mgru_x2, f6_x2, dtype=tf.float32)\n",
    "        h_state_x2 =output_x2[:,-1,:]\n",
    "    with tf.variable_scope('GRU3'):\n",
    "        ## For 3rd frame\n",
    "        layers_x3 = [tf.nn.rnn_cell.GRUCell(80) for _ in range(2)]\n",
    "        mgru_x3 = tf.nn.rnn_cell.MultiRNNCell(layers_x3)\n",
    "        output_x3, state_x3 = tf.nn.dynamic_rnn(mgru_x3, f6_x3, dtype=tf.float32)\n",
    "        h_state_x3 =output_x3[:,-1,:]\n",
    "    with tf.variable_scope('GRU4'):\n",
    "        ## For 4th frame\n",
    "        layers_x4 = [tf.nn.rnn_cell.GRUCell(80) for _ in range(2)]\n",
    "        mgru_x4 = tf.nn.rnn_cell.MultiRNNCell(layers_x4)\n",
    "        output_x4, state_x4 = tf.nn.dynamic_rnn(mgru_x4, f6_x4, dtype=tf.float32)\n",
    "        h_state_x4 =output_x4[:,-1,:]\n",
    "    with tf.variable_scope('GRU5'):\n",
    "        ## For 5th frame\n",
    "        layers_x5 = [tf.nn.rnn_cell.GRUCell(80) for _ in range(2)]\n",
    "        mgru_x5 = tf.nn.rnn_cell.MultiRNNCell(layers_x5)\n",
    "        output_x5, state_x5 = tf.nn.dynamic_rnn(mgru_x5, f6_x5, dtype=tf.float32)\n",
    "        h_state_x5 =output_x5[:,-1,:]\n",
    "        \n",
    "        output=1.0/5.0*(h_state_x1 +h_state_x2 +h_state_x3 +h_state_x4 +h_state_x5)\n",
    "        scores = tf.contrib.layers.fully_connected(output, 4, activation_fn=None)\n",
    "        loss = tf.reduce_mean(tf.nn.sparse_softmax_cross_entropy_with_logits(labels=y, logits=scores))\n",
    "        train_step = tf.train.AdamOptimizer(learning_rate=1e-3).minimize(loss)"
   ]
  },
  {
   "cell_type": "code",
   "execution_count": 26,
   "metadata": {},
   "outputs": [
    {
     "name": "stdout",
     "output_type": "stream",
     "text": [
      "Starting epoch 0\n",
      "Epoch 0, loss = 1.2410973310470581\n",
      "Training Accuracy:\n",
      "Got 1073 / 3384 correct (31.71%)\n",
      "Validation Accuracy:\n",
      "Got 261 / 846 correct (30.85%)\n",
      "Testing Accuracy:\n",
      "Got 311 / 886 correct (35.10%)\n",
      "- - - - - - - - - - - - - - - - -\n",
      "Starting epoch 1\n",
      "Epoch 1, loss = 1.1831814050674438\n",
      "Training Accuracy:\n",
      "Got 1293 / 3384 correct (38.21%)\n",
      "Validation Accuracy:\n",
      "Got 309 / 846 correct (36.52%)\n",
      "Testing Accuracy:\n",
      "Got 348 / 886 correct (39.28%)\n",
      "- - - - - - - - - - - - - - - - -\n",
      "Starting epoch 2\n",
      "Epoch 2, loss = 1.1385354995727539\n",
      "Training Accuracy:\n",
      "Got 1579 / 3384 correct (46.66%)\n",
      "Validation Accuracy:\n",
      "Got 352 / 846 correct (41.61%)\n",
      "Testing Accuracy:\n",
      "Got 417 / 886 correct (47.07%)\n",
      "- - - - - - - - - - - - - - - - -\n",
      "Starting epoch 3\n",
      "Epoch 3, loss = 1.0090379714965820\n",
      "Training Accuracy:\n",
      "Got 1652 / 3384 correct (48.82%)\n",
      "Validation Accuracy:\n",
      "Got 374 / 846 correct (44.21%)\n",
      "Testing Accuracy:\n",
      "Got 424 / 886 correct (47.86%)\n",
      "- - - - - - - - - - - - - - - - -\n",
      "Training Accuracy:\n",
      "Got 1652 / 3384 correct (48.82%)\n",
      "Validation Accuracy:\n",
      "Got 374 / 846 correct (44.21%)\n",
      "Final Testing Accuracy:\n",
      "Got 424 / 886 correct (47.86%)\n"
     ]
    }
   ],
   "source": [
    "# Now we actually run the graph many times using the training data\n",
    "with tf.Session() as sess:\n",
    "    # Initialize variables that will live in the graph\n",
    "    sess.run(tf.global_variables_initializer())\n",
    "    for epoch in range(4):\n",
    "      train_dset = Dataset(new_train, yy_train, batch_size=40, shuffle=True)\n",
    "      valid_dset = Dataset(new_valid, yy_valid, batch_size=846, shuffle=False)\n",
    "      test_dset = Dataset(new_test, yy_test, batch_size=886, shuffle=False)\n",
    "      for t, (x_np, y_np) in enumerate(train_dset):\n",
    "          # Run the graph on a batch of training data; recall that asking\n",
    "          # TensorFlow to evaluate loss will cause an SGD step to happen.\n",
    "          x1_np=x_np[:,:,0:75,:]\n",
    "          x2_np=x_np[:,:,75:150,:]\n",
    "          x3_np=x_np[:,:,150:225,:]\n",
    "          x4_np=x_np[:,:,225:300,:]\n",
    "          x5_np=x_np[:,:,300:375,:]\n",
    "          feed_dict = {x1: x1_np,x2: x2_np,x3: x3_np,x4: x4_np,x5: x5_np, y: y_np,is_training:1}\n",
    "          loss_np, _ = sess.run([loss, train_step], feed_dict=feed_dict)\n",
    "      if epoch %1 ==0:\n",
    "          print('Starting epoch %d' % epoch)\n",
    "          print('Epoch %d, loss = %.16f' % (epoch, loss_np))\n",
    "          print('Training Accuracy:')\n",
    "          check1=check_accuracy(sess, train_dset, x1,x2,x3,x4,x5, scores, is_training)\n",
    "          print('Validation Accuracy:')\n",
    "          check2=check_accuracy(sess, valid_dset, x1,x2,x3,x4,x5, scores, is_training)\n",
    "          print('Testing Accuracy:')\n",
    "          check3=check_accuracy(sess, test_dset, x1,x2,x3,x4,x5, scores, is_training)\n",
    "          print('- - - - - - - - - - - - - - - - -')\n",
    "    print('Training Accuracy:')\n",
    "    check_train=check_accuracy(sess, train_dset, x1,x2,x3,x4,x5, scores, is_training)\n",
    "    print('Validation Accuracy:')\n",
    "    check_valid=check_accuracy(sess, valid_dset, x1,x2,x3,x4,x5, scores, is_training)\n",
    "    print('Final Testing Accuracy:')\n",
    "    score=check_accuracy(sess, test_dset, x1,x2,x3,x4,x5, scores, is_training) "
   ]
  },
  {
   "cell_type": "code",
   "execution_count": 28,
   "metadata": {},
   "outputs": [
    {
     "name": "stdout",
     "output_type": "stream",
     "text": [
      "Testing data accuracy is: 0.14221218961625282\n"
     ]
    }
   ],
   "source": [
    "y_score=np.zeros([y_test.shape[0],4],dtype='float64')\n",
    "\n",
    "for i in range(n_sub)  :\n",
    "    y_score+=np.log(score[i*n_test:(i+1)*n_test])\n",
    "y_pred=np.argmax(y_score,axis=1)\n",
    "print ('Testing data accuracy is: {}'.format(sum(y_pred==y_test)/y_test.shape[0]))"
   ]
  },
  {
   "cell_type": "code",
   "execution_count": 42,
   "metadata": {},
   "outputs": [
    {
     "data": {
      "text/plain": [
       "(886, 4)"
      ]
     },
     "execution_count": 42,
     "metadata": {},
     "output_type": "execute_result"
    },
    {
     "data": {
      "text/plain": [
       "(443,)"
      ]
     },
     "execution_count": 42,
     "metadata": {},
     "output_type": "execute_result"
    },
    {
     "data": {
      "text/plain": [
       "(443,)"
      ]
     },
     "execution_count": 42,
     "metadata": {},
     "output_type": "execute_result"
    }
   ],
   "source": [
    "score.shape\n",
    "y_test.shape\n",
    "y_pred.shape\n",
    "y_score=np.zeros([y_test.shape[0],4],dtype='float64')\n",
    "y_score=score[0:443]+score[443:886]"
   ]
  },
  {
   "cell_type": "code",
   "execution_count": 43,
   "metadata": {},
   "outputs": [
    {
     "name": "stdout",
     "output_type": "stream",
     "text": [
      "Testing data accuracy is: 0.14221218961625282\n"
     ]
    }
   ],
   "source": [
    "y_pred=np.argmax(y_score,axis=1)\n",
    "print ('Testing data accuracy is: {}'.format(sum(y_pred==y_test)/y_test.shape[0]))"
   ]
  },
  {
   "cell_type": "code",
   "execution_count": 40,
   "metadata": {
    "scrolled": true
   },
   "outputs": [
    {
     "data": {
      "text/plain": [
       "<matplotlib.axes._subplots.AxesSubplot at 0x1c947eaf470>"
      ]
     },
     "execution_count": 40,
     "metadata": {},
     "output_type": "execute_result"
    },
    {
     "data": {
      "text/plain": [
       "<matplotlib.axes._subplots.AxesSubplot at 0x1c947f47978>"
      ]
     },
     "execution_count": 40,
     "metadata": {},
     "output_type": "execute_result"
    },
    {
     "data": {
      "image/png": "[encoded data removed]",
      "text/plain": [
       "<Figure size 432x288 with 2 Axes>"
      ]
     },
     "metadata": {
      "needs_background": "light"
     },
     "output_type": "display_data"
    },
    {
     "data": {
      "image/png": "[encoded data removed]",
      "text/plain": [
       "<Figure size 432x288 with 2 Axes>"
      ]
     },
     "metadata": {
      "needs_background": "light"
     },
     "output_type": "display_data"
    }
   ],
   "source": [
    "class_names = np.array(['left','right','foot','tongue'])\n",
    "def plot_confusion_matrix(y_true, y_pred, classes,\n",
    "                          normalize=False,\n",
    "                          title=None,\n",
    "                          cmap=plt.cm.Blues):\n",
    "    \"\"\"\n",
    "    This function prints and plots the confusion matrix.\n",
    "    Normalization can be applied by setting `normalize=True`.\n",
    "    \"\"\"\n",
    "    if not title:\n",
    "        if normalize:\n",
    "            title = 'Normalized confusion matrix'\n",
    "        else:\n",
    "            title = 'Confusion matrix, without normalization'\n",
    "\n",
    "    # Compute confusion matrix\n",
    "    cm = confusion_matrix(y_true, y_pred)\n",
    "    # Only use the labels that appear in the data\n",
    "    classes = classes[unique_labels(y_true,y_pred)]\n",
    "    if normalize:\n",
    "        cm = cm.astype('float') / cm.sum(axis=1)[:, np.newaxis]\n",
    "        #print(\"Normalized confusion matrix\")\n",
    "   # else:\n",
    "        #print('Confusion matrix, without normalization')\n",
    "\n",
    "    #print(cm)\n",
    "\n",
    "    fig, ax = plt.subplots()\n",
    "    im = ax.imshow(cm, interpolation='nearest', cmap=cmap)\n",
    "    ax.figure.colorbar(im, ax=ax)\n",
    "    # We want to show all ticks...\n",
    "    ax.set(xticks=np.arange(cm.shape[1]),\n",
    "           yticks=np.arange(cm.shape[0]),\n",
    "           # ... and label them with the respective list entries\n",
    "           xticklabels=classes, yticklabels=classes,\n",
    "           title=title,\n",
    "           ylabel='True label',\n",
    "           xlabel='Predicted label')\n",
    "\n",
    "    # Rotate the tick labels and set their alignment.\n",
    "    plt.setp(ax.get_xticklabels(), rotation=45, ha=\"right\",\n",
    "             rotation_mode=\"anchor\")\n",
    "\n",
    "    # Loop over data dimensions and create text annotations.\n",
    "    fmt = '.2f' if normalize else 'd'\n",
    "    thresh = cm.max() / 2.\n",
    "    for i in range(cm.shape[0]):\n",
    "        for j in range(cm.shape[1]):\n",
    "            ax.text(j, i, format(cm[i, j], fmt),\n",
    "                    ha=\"center\", va=\"center\",\n",
    "                    color=\"white\" if cm[i, j] > thresh else \"black\")\n",
    "    fig.tight_layout()\n",
    "    return ax\n",
    "plot_confusion_matrix(y_test, y_pred, classes=class_names,\n",
    "                      title='Confusion matrix, without normalization')\n",
    "plot_confusion_matrix(y_test, y_pred, classes=class_names,normalize=True,\n",
    "                      title='Confusion matrix, with normalization')"
   ]
  },
  {
   "cell_type": "code",
   "execution_count": 31,
   "metadata": {},
   "outputs": [
    {
     "data": {
      "text/plain": [
       "(443,)"
      ]
     },
     "execution_count": 31,
     "metadata": {},
     "output_type": "execute_result"
    },
    {
     "data": {
      "text/plain": [
       "(443,)"
      ]
     },
     "execution_count": 31,
     "metadata": {},
     "output_type": "execute_result"
    }
   ],
   "source": [
    "y_test.shape\n",
    "y_pred.shape"
   ]
  },
  {
   "cell_type": "markdown",
   "metadata": {},
   "source": [
    "### The accuracy for each subject"
   ]
  },
  {
   "cell_type": "code",
   "execution_count": 41,
   "metadata": {},
   "outputs": [
    {
     "data": {
      "text/html": [
       "<div>\n",
       "<style scoped>\n",
       "    .dataframe tbody tr th:only-of-type {\n",
       "        vertical-align: middle;\n",
       "    }\n",
       "\n",
       "    .dataframe tbody tr th {\n",
       "        vertical-align: top;\n",
       "    }\n",
       "\n",
       "    .dataframe thead th {\n",
       "        text-align: right;\n",
       "    }\n",
       "</style>\n",
       "<table border=\"1\" class=\"dataframe\">\n",
       "  <thead>\n",
       "    <tr style=\"text-align: right;\">\n",
       "      <th></th>\n",
       "      <th>CNN++</th>\n",
       "    </tr>\n",
       "  </thead>\n",
       "  <tbody>\n",
       "    <tr>\n",
       "      <th>Subject_0</th>\n",
       "      <td>0.340000</td>\n",
       "    </tr>\n",
       "    <tr>\n",
       "      <th>Subject_1</th>\n",
       "      <td>0.500000</td>\n",
       "    </tr>\n",
       "    <tr>\n",
       "      <th>Subject_2</th>\n",
       "      <td>0.420000</td>\n",
       "    </tr>\n",
       "    <tr>\n",
       "      <th>Subject_3</th>\n",
       "      <td>0.460000</td>\n",
       "    </tr>\n",
       "    <tr>\n",
       "      <th>Subject_4</th>\n",
       "      <td>0.531915</td>\n",
       "    </tr>\n",
       "    <tr>\n",
       "      <th>Subject_5</th>\n",
       "      <td>0.367347</td>\n",
       "    </tr>\n",
       "    <tr>\n",
       "      <th>Subject_6</th>\n",
       "      <td>0.680000</td>\n",
       "    </tr>\n",
       "    <tr>\n",
       "      <th>Subject_7</th>\n",
       "      <td>0.600000</td>\n",
       "    </tr>\n",
       "    <tr>\n",
       "      <th>Subject_8</th>\n",
       "      <td>0.361702</td>\n",
       "    </tr>\n",
       "  </tbody>\n",
       "</table>\n",
       "</div>"
      ],
      "text/plain": [
       "              CNN++\n",
       "Subject_0  0.340000\n",
       "Subject_1  0.500000\n",
       "Subject_2  0.420000\n",
       "Subject_3  0.460000\n",
       "Subject_4  0.531915\n",
       "Subject_5  0.367347\n",
       "Subject_6  0.680000\n",
       "Subject_7  0.600000\n",
       "Subject_8  0.361702"
      ]
     },
     "execution_count": 41,
     "metadata": {},
     "output_type": "execute_result"
    }
   ],
   "source": [
    "data=np.zeros([9,1])\n",
    "for i in range(9):\n",
    "        data[i]=sum(y_pred[test_subject_idx[i]]==y_test[test_subject_idx[i]])/len(test_subject_idx[i])\n",
    "\n",
    "column_name=['CNN++']\n",
    "idx_name=['Subject_0', 'Subject_1','Subject_2','Subject_3','Subject_4','Subject_5','Subject_6','Subject_7','Subject_8']\n",
    "df = pd.DataFrame(data=data,index=idx_name, columns=column_name)\n",
    "df"
   ]
  }
 ],
 "metadata": {
  "kernelspec": {
   "display_name": "Python 3",
   "language": "python",
   "name": "python3"
  },
  "language_info": {
   "codemirror_mode": {
    "name": "ipython",
    "version": 3
   },
   "file_extension": ".py",
   "mimetype": "text/x-python",
   "name": "python",
   "nbconvert_exporter": "python",
   "pygments_lexer": "ipython3",
   "version": "3.6.5"
  }
 },
 "nbformat": 4,
 "nbformat_minor": 2
}
