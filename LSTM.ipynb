{
  "nbformat": 4,
  "nbformat_minor": 0,
  "metadata": {
    "colab": {
      "name": "rnn1_mar12_5pm.ipynb",
      "version": "0.3.2",
      "provenance": [],
      "collapsed_sections": [],
      "toc_visible": true
    },
    "kernelspec": {
      "name": "python3",
      "display_name": "Python 3"
    },
    "accelerator": "GPU"
  },
  "cells": [
    {
      "metadata": {
        "id": "WalMYaKqW0n1",
        "colab_type": "code",
        "colab": {}
      },
      "cell_type": "code",
      "source": [
        "import numpy as np"
      ],
      "execution_count": 0,
      "outputs": []
    },
    {
      "metadata": {
        "id": "JxeOz-G4W0oH",
        "colab_type": "code",
        "outputId": "1288028f-000f-46f1-fb44-dc0d2d5ddcc7",
        "colab": {
          "base_uri": "https://localhost:8080/",
          "height": 70
        }
      },
      "cell_type": "code",
      "source": [
        "import numpy as np\n",
        "\n",
        "from google.colab import drive\n",
        "drive.mount('/content/drive')\n",
        "\n",
        "\"\"\"\n",
        "X_test = np.load(\"X_test.npy\")\n",
        "y_test = np.load(\"y_test.npy\")\n",
        "person_train_valid = np.load(\"person_train_valid.npy\")\n",
        "X_train_valid = np.load(\"X_train_valid.npy\")\n",
        "y_train_valid = np.load(\"y_train_valid.npy\")\n",
        "person_test = np.load(\"person_test.npy\")\n",
        "\"\"\"\n",
        "\n"
      ],
      "execution_count": 101,
      "outputs": [
        {
          "output_type": "stream",
          "text": [
            "Drive already mounted at /content/drive; to attempt to forcibly remount, call drive.mount(\"/content/drive\", force_remount=True).\n"
          ],
          "name": "stdout"
        },
        {
          "output_type": "execute_result",
          "data": {
            "text/plain": [
              "'\\nX_test = np.load(\"X_test.npy\")\\ny_test = np.load(\"y_test.npy\")\\nperson_train_valid = np.load(\"person_train_valid.npy\")\\nX_train_valid = np.load(\"X_train_valid.npy\")\\ny_train_valid = np.load(\"y_train_valid.npy\")\\nperson_test = np.load(\"person_test.npy\")\\n'"
            ]
          },
          "metadata": {
            "tags": []
          },
          "execution_count": 101
        }
      ]
    },
    {
      "metadata": {
        "id": "UM30b8uibvBJ",
        "colab_type": "code",
        "outputId": "9691f311-52fe-4c96-89c4-fc35abac157c",
        "colab": {
          "base_uri": "https://localhost:8080/",
          "height": 34
        }
      },
      "cell_type": "code",
      "source": [
        "#drive.mount(\"/content/drive\", force_remount=True)"
      ],
      "execution_count": 0,
      "outputs": [
        {
          "output_type": "stream",
          "text": [
            "Mounted at /content/drive\n"
          ],
          "name": "stdout"
        }
      ]
    },
    {
      "metadata": {
        "id": "VDVfakZSYfzy",
        "colab_type": "code",
        "colab": {}
      },
      "cell_type": "code",
      "source": [
        "prefix = \"/content/drive/My Drive/\"\n",
        "X_test = np.load(prefix + \"X_test.npy\")\n",
        "y_test = np.load(prefix + \"y_test.npy\")\n",
        "person_train_valid = np.load(prefix + \"person_train_valid.npy\")\n",
        "X_train_valid = np.load(prefix + \"X_train_valid.npy\")\n",
        "y_train_valid = np.load(prefix + \"y_train_valid.npy\")\n",
        "person_test = np.load(prefix + \"person_test.npy\")\n",
        "\n",
        "transpose = False\n",
        "\"\"\" TRANSPOSE \"\"\"\n",
        "if transpose:\n",
        "    X_train_valid = np.transpose(X_train_valid, (0, 2, 1))\n",
        "    X_test = np.transpose(X_test, (0, 2, 1))\n"
      ],
      "execution_count": 0,
      "outputs": []
    },
    {
      "metadata": {
        "id": "ZbBIqAQPW0oV",
        "colab_type": "text"
      },
      "cell_type": "markdown",
      "source": [
        "### Shape of data"
      ]
    },
    {
      "metadata": {
        "id": "4uDurS4XW0oZ",
        "colab_type": "code",
        "outputId": "2f500e8c-bc84-4f51-c0c1-df203b1791a2",
        "colab": {
          "base_uri": "https://localhost:8080/",
          "height": 118
        }
      },
      "cell_type": "code",
      "source": [
        "print ('Training/Valid data shape: {}'.format(X_train_valid.shape))\n",
        "print ('Test data shape: {}'.format(X_test.shape))\n",
        "print ('Training/Valid target shape: {}'.format(y_train_valid.shape))\n",
        "print ('Test target shape: {}'.format(y_test.shape))\n",
        "print ('Person train/valid shape: {}'.format(person_train_valid.shape))\n",
        "print ('Person test shape: {}'.format(person_test.shape))\n",
        "\n"
      ],
      "execution_count": 103,
      "outputs": [
        {
          "output_type": "stream",
          "text": [
            "Training/Valid data shape: (2115, 25, 1000)\n",
            "Test data shape: (443, 25, 1000)\n",
            "Training/Valid target shape: (2115,)\n",
            "Test target shape: (443,)\n",
            "Person train/valid shape: (2115, 1)\n",
            "Person test shape: (443, 1)\n"
          ],
          "name": "stdout"
        }
      ]
    },
    {
      "metadata": {
        "id": "wsp_hlKSW0o0",
        "colab_type": "text"
      },
      "cell_type": "markdown",
      "source": [
        "# Remove last 3 channels"
      ]
    },
    {
      "metadata": {
        "id": "-2O2lJ-FW0o4",
        "colab_type": "code",
        "colab": {}
      },
      "cell_type": "code",
      "source": [
        "if transpose:\n",
        "    X_train_valid = np.delete(X_train_valid, np.s_[22:], axis=2)\n",
        "    X_test = np.delete(X_test, np.s_[22:], axis=2)\n",
        "else:\n",
        "    X_train_valid = np.delete(X_train_valid, np.s_[22:], axis=1)\n",
        "    X_test = np.delete(X_test, np.s_[22:], axis=1)"
      ],
      "execution_count": 0,
      "outputs": []
    },
    {
      "metadata": {
        "id": "b3_dk2TBW0pE",
        "colab_type": "code",
        "outputId": "d91e33a0-f826-4f81-e2a1-7edbcfada23f",
        "colab": {
          "base_uri": "https://localhost:8080/",
          "height": 118
        }
      },
      "cell_type": "code",
      "source": [
        "print ('Training/Valid data shape: {}'.format(X_train_valid.shape))\n",
        "print ('Test data shape: {}'.format(X_test.shape))\n",
        "print ('Training/Valid target shape: {}'.format(y_train_valid.shape))\n",
        "print ('Test target shape: {}'.format(y_test.shape))\n",
        "print ('Person train/valid shape: {}'.format(person_train_valid.shape))\n",
        "print ('Person test shape: {}'.format(person_test.shape))"
      ],
      "execution_count": 105,
      "outputs": [
        {
          "output_type": "stream",
          "text": [
            "Training/Valid data shape: (2115, 22, 1000)\n",
            "Test data shape: (443, 22, 1000)\n",
            "Training/Valid target shape: (2115,)\n",
            "Test target shape: (443,)\n",
            "Person train/valid shape: (2115, 1)\n",
            "Person test shape: (443, 1)\n"
          ],
          "name": "stdout"
        }
      ]
    },
    {
      "metadata": {
        "id": "uVfZglhTW0ph",
        "colab_type": "text"
      },
      "cell_type": "markdown",
      "source": [
        "# Resuming preprocessing..."
      ]
    },
    {
      "metadata": {
        "id": "LvHIJvwLW0pk",
        "colab_type": "text"
      },
      "cell_type": "markdown",
      "source": [
        "### Standardization: every channel gets a mean and std dev across all time bins and samples"
      ]
    },
    {
      "metadata": {
        "id": "liBH-MDfW0pn",
        "colab_type": "code",
        "colab": {}
      },
      "cell_type": "code",
      "source": [
        "standardize = False"
      ],
      "execution_count": 0,
      "outputs": []
    },
    {
      "metadata": {
        "id": "O7b4CYYDW0pt",
        "colab_type": "code",
        "colab": {}
      },
      "cell_type": "code",
      "source": [
        "if standardize:\n",
        "    \"\"\" OPTIONAL TO RUN \"\"\"\n",
        "    # standardize across all data \n",
        "    if transpose:\n",
        "        num_samples, num_bins, num_channels = X_train_valid.shape\n",
        "    else:\n",
        "        num_samples, num_channels, num_bins = X_train_valid.shape\n",
        "    num_test_samples = X_test.shape[0]\n",
        "    means = [] # index indicates channel\n",
        "    std_devs = []\n",
        "    thisSum = 0\n",
        "\n",
        "    # get means\n",
        "    for i in range(num_channels):\n",
        "        thisSum = 0\n",
        "        for j in range(num_samples + num_test_samples):\n",
        "            for k in range(num_bins):\n",
        "                if j < num_samples: # get from train/valid set \n",
        "                    thisSum += X_train_valid[j][k][i]\n",
        "                else: # get from test set\n",
        "                    thisSum += X_test[j-num_samples][k][i]\n",
        "        means.append(thisSum / ((num_samples + num_test_samples)*num_bins))\n",
        "        print(means[i])\n",
        "\n",
        "    # get std devs \n",
        "    tmp = 0\n",
        "    for i in range(num_channels):\n",
        "        thisSum = 0\n",
        "        for j in range(num_samples + num_test_samples):\n",
        "            for k in range(num_bins):\n",
        "                if j < num_samples: # get from train/valid set \n",
        "                    thisSum += (X_train_valid[j][k][i] - means[i])**2\n",
        "                else: # get from test set\n",
        "                    thisSum += (X_test[j-num_samples][k][i] - means[i])**2\n",
        "        tmp = thisSum / ((num_samples + num_test_samples)*num_bins)\n",
        "        std_devs.append(np.sqrt(tmp))\n",
        "        print(std_devs[i])\n",
        "    "
      ],
      "execution_count": 0,
      "outputs": []
    },
    {
      "metadata": {
        "id": "s_SYz8ucW0p1",
        "colab_type": "code",
        "colab": {}
      },
      "cell_type": "code",
      "source": [
        "if standardize:\n",
        "    \"\"\" OPTIONAL TO RUN \"\"\"\n",
        "    # print means and std devs so you dont have to do for loop again\n",
        "    print(means)\n",
        "    print(std_devs)"
      ],
      "execution_count": 0,
      "outputs": []
    },
    {
      "metadata": {
        "id": "mZrfgDCvW0p8",
        "colab_type": "code",
        "colab": {}
      },
      "cell_type": "code",
      "source": [
        "if standardize:\n",
        "    # set means, std_devs\n",
        "    means = [0.24706498683663997, 0.29313554443168494, 0.2828193909120895, 0.2836442960809226, 0.28152991228498825, 0.3077003174782545, 0.3744230722243941, 0.3553291947138878, 0.29904645810936276, 0.28901048411234365, 0.286649191873534, 0.32929849751392687, 0.3410243674868061, 0.37840727924648165, 0.3727627441788018, 0.37829269158644446, 0.31371026177067046, 0.33319172922571344, 0.2970165977448202, 0.3461631172424746, 0.3622499610596658, 0.33083847320294174]\n",
        "\n",
        "    std_devs = [11.230263244641073, 10.233296507827058, 10.90975275266063, 11.483403098109935, 11.202650478466019, 10.880442182604929, 8.713139254994436, 10.064753939480944, 10.694670003031371, 11.336495594434043, 10.979137249291673, 10.896807622386243, 10.108512304596564, 10.333026920981442, 10.641437047832842, 11.098857594037897, 10.994570838557536, 11.102551197490161, 10.798327657785737, 11.241502209783333, 11.164537611117643, 11.342013636811844]"
      ],
      "execution_count": 0,
      "outputs": []
    },
    {
      "metadata": {
        "id": "3VaYuFysW0qC",
        "colab_type": "code",
        "colab": {}
      },
      "cell_type": "code",
      "source": [
        "if standardize:\n",
        "    # standardize data  \n",
        "    for i in range(num_channels):\n",
        "        X_train_valid[:][:][i] -= means[i] \n",
        "        X_train_valid[:][:][i] /= std_devs[i]\n",
        "        X_test[:][:][i] -= means[i] \n",
        "        X_test[:][:][i] /= std_devs[i]"
      ],
      "execution_count": 0,
      "outputs": []
    },
    {
      "metadata": {
        "id": "W7B8ypWxW0qI",
        "colab_type": "text"
      },
      "cell_type": "markdown",
      "source": [
        "### For windows smaller than the original 4 seconds, generate many more samples by cropping the data and sliding the window over each original sample, and have samples of shorter time bins "
      ]
    },
    {
      "metadata": {
        "id": "P-uzap14W0qK",
        "colab_type": "code",
        "colab": {}
      },
      "cell_type": "code",
      "source": [
        "augment = False"
      ],
      "execution_count": 0,
      "outputs": []
    },
    {
      "metadata": {
        "id": "Apz61usPW0qP",
        "colab_type": "code",
        "colab": {}
      },
      "cell_type": "code",
      "source": [
        "if augment:\n",
        "    # initialize new arrays\n",
        "    if transpose:\n",
        "        num_samples, num_bins, num_channels = X_train_valid.shape\n",
        "        \n",
        "    else:\n",
        "        num_samples, num_channels, num_bins = X_train_valid.shape\n",
        "\n",
        "    original_window_size = 4 # in seconds\n",
        "\n",
        "    window_size = 1 # default 2. in seconds \n",
        "\n",
        "    num_test_samples = X_test.shape[0]\n",
        "\n",
        "    #new_num_samples = original_window_size // window_size\n",
        "    stride = 75 # default 50\n",
        "    new_num_bins = num_bins // (original_window_size // window_size)\n",
        "    new_samples_per_sample = (num_bins - (num_bins // (original_window_size // window_size))) // stride\n",
        "    new_num_samples = (num_samples * new_samples_per_sample) \n",
        "    new_num_test_samples = (num_test_samples * new_samples_per_sample)\n",
        "\n",
        "\n",
        "    if transpose:\n",
        "      new_X_train_valid = np.zeros((new_num_samples, new_num_bins, num_channels))\n",
        "      new_X_test = np.zeros((new_num_test_samples, new_num_bins, num_channels))\n",
        "      new_y_train_valid = np.zeros(new_num_samples)\n",
        "      new_y_test = np.zeros(new_num_test_samples)\n",
        "      new_person_train_valid = np.zeros((new_num_samples, 1))\n",
        "      new_person_test = np.zeros((new_num_test_samples, 1))\n",
        "    else:\n",
        "      new_X_train_valid = np.zeros((new_num_samples, num_channels, new_num_bins))\n",
        "      new_X_test = np.zeros((new_num_test_samples, num_channels, new_num_bins))\n",
        "      new_y_train_valid = np.zeros(new_num_samples)\n",
        "      new_y_test = np.zeros(new_num_test_samples)\n",
        "      new_person_train_valid = np.zeros((new_num_samples, 1))\n",
        "      new_person_test = np.zeros((new_num_test_samples, 1))      "
      ],
      "execution_count": 0,
      "outputs": []
    },
    {
      "metadata": {
        "id": "OphcuZRwN0WR",
        "colab_type": "code",
        "colab": {}
      },
      "cell_type": "code",
      "source": [
        "if augment:\n",
        "  print('stride: ', stride)\n",
        "  print('new number of bins: ', new_num_bins)\n",
        "  print('new samples per sample: ', new_samples_per_sample)\n",
        "  print('new number of train/valid samples: ', new_num_samples)\n",
        "  print('new number of test samples: ', new_num_test_samples)"
      ],
      "execution_count": 0,
      "outputs": []
    },
    {
      "metadata": {
        "id": "r449mQQ9W0qW",
        "colab_type": "code",
        "colab": {}
      },
      "cell_type": "code",
      "source": [
        "if augment:\n",
        "    print(new_X_train_valid.shape)\n",
        "    print(new_X_test.shape)\n",
        "    print(new_y_train_valid.shape)\n",
        "    print(new_y_test.shape)\n",
        "    print(new_person_train_valid.shape)\n",
        "    print(new_person_test.shape)"
      ],
      "execution_count": 0,
      "outputs": []
    },
    {
      "metadata": {
        "id": "uupuMfzZW0qd",
        "colab_type": "code",
        "colab": {}
      },
      "cell_type": "code",
      "source": [
        "if augment:\n",
        "  if transpose:\n",
        "    # train/valid first\n",
        "    for sample in range(num_samples):\n",
        "        #for time_bin in range(num_bins):\n",
        "        for i in range(new_samples_per_sample + 1):\n",
        "            #new_X_train_valid[sample*new_samples_per_sample + i][:][:] = X_train_valid[sample][i : i + new_samples_per_sample][:]\n",
        "            #print(i)\n",
        "            try:\n",
        "                code = 0\n",
        "                new_X_train_valid[sample*(new_samples_per_sample) + i][:][:] = X_train_valid[sample][i*stride : i*stride + new_num_bins][:]\n",
        "                code = 1\n",
        "                new_y_train_valid[sample*(new_samples_per_sample) + i] = y_train_valid[sample]\n",
        "                code = 2\n",
        "                new_person_train_valid[sample*(new_samples_per_sample) + i] = person_train_valid[sample]\n",
        "                #print(i*stride, i*stride + new_samples_per_sample)\n",
        "            except:\n",
        "                #pass\n",
        "                print(code, sample, i)\n",
        "\n",
        "    # test \n",
        "    for sample in range(num_test_samples):\n",
        "        #for time_bin in range(num_bins):\n",
        "        for i in range(new_samples_per_sample + 1):\n",
        "            #new_X_train_valid[sample*new_samples_per_sample + i][:][:] = X_train_valid[sample][i : i + new_samples_per_sample][:]\n",
        "            #print(i)\n",
        "            try:\n",
        "                code = 0\n",
        "                new_X_test[sample*(new_samples_per_sample) + i][:][:] = X_test[sample][i*stride : i*stride + new_num_bins][:]\n",
        "                code = 1\n",
        "                new_y_test[sample*(new_samples_per_sample) + i] = y_test[sample]\n",
        "                code = 2\n",
        "                new_person_test[sample*(new_samples_per_sample) + i] = person_test[sample]\n",
        "                #print(i*stride, i*stride + new_samples_per_sample)\n",
        "            except:\n",
        "                #pass\n",
        "                print(code, sample, i)\n",
        "                \n",
        "                \n",
        "  else: # NOT transpose\n",
        "    print(\"NOT transpose\")\n",
        "    \n",
        "    # train/valid\n",
        "    for sample in range(num_samples):\n",
        "      for i in range(new_samples_per_sample + 1):\n",
        "        try:\n",
        "          code = 0\n",
        "          #print('slice: ', i*stride, ' to ', i*stride + new_num_bins, ' - extractant shape: ', X_train_valid.shape, ' - extract slice: ', \n",
        "          #     X_train_valid[sample, 5:10, 5:20].shape)\n",
        "          new_X_train_valid[sample*(new_samples_per_sample) + i][:][:] = X_train_valid[sample, :, i*stride : i*stride + new_num_bins]\n",
        "          code = 1\n",
        "          new_y_train_valid[sample*(new_samples_per_sample) + i] = y_train_valid[sample]\n",
        "          code = 2\n",
        "          new_person_train_valid[sample*(new_samples_per_sample) + i] = person_train_valid[sample]\n",
        "        except Exception as e:\n",
        "          print(code, e, sample, i, 'train')\n",
        "          \n",
        "    # test\n",
        "    for sample in range(num_test_samples):\n",
        "      for i in range(new_samples_per_sample + 1):\n",
        "        try:\n",
        "          new_X_test[sample*(new_samples_per_sample) + i][:][:] = X_test[sample, :, i*stride : i*stride + new_num_bins]\n",
        "          new_y_test[sample*(new_samples_per_sample) + i] = y_test[sample]\n",
        "          new_person_test[sample*(new_samples_per_sample) + i] = person_test[sample]\n",
        "        except:\n",
        "          print(sample, i, 'test')"
      ],
      "execution_count": 0,
      "outputs": []
    },
    {
      "metadata": {
        "id": "4W0lDu6_W0ql",
        "colab_type": "code",
        "colab": {}
      },
      "cell_type": "code",
      "source": [
        "if augment:\n",
        "    new_y_train_valid = new_y_train_valid.astype(int)\n",
        "    new_y_test = new_y_test.astype(int)\n",
        "    new_person_train_valid = new_person_train_valid.astype(int)\n",
        "    new_person_test = new_person_test.astype(int)\n",
        "    "
      ],
      "execution_count": 0,
      "outputs": []
    },
    {
      "metadata": {
        "id": "mkr0xKIpW0q3",
        "colab_type": "code",
        "colab": {}
      },
      "cell_type": "code",
      "source": [
        "if augment:\n",
        "    X_train_valid = new_X_train_valid\n",
        "    X_test = new_X_test\n",
        "    y_train_valid = new_y_train_valid\n",
        "    y_test = new_y_test\n",
        "    person_train_valid = new_person_train_valid\n",
        "    person_test = new_person_test"
      ],
      "execution_count": 0,
      "outputs": []
    },
    {
      "metadata": {
        "id": "x5KAI-g6v5Xt",
        "colab_type": "text"
      },
      "cell_type": "markdown",
      "source": [
        "### Take last 3 seconds?"
      ]
    },
    {
      "metadata": {
        "id": "PN-_3r6Sv-Ca",
        "colab_type": "code",
        "colab": {}
      },
      "cell_type": "code",
      "source": [
        "trim = True"
      ],
      "execution_count": 0,
      "outputs": []
    },
    {
      "metadata": {
        "id": "whUBEsYFwDtI",
        "colab_type": "code",
        "colab": {}
      },
      "cell_type": "code",
      "source": [
        "if trim and transpose:\n",
        "  X_train_valid = np.delete(X_train_valid, np.s_[:250], 1)\n",
        "  X_test = np.delete(X_test, np.s_[:250], 1)\n",
        "\n",
        "  print('New shapes: \\n')\n",
        "  print(X_train_valid.shape)\n",
        "  print(X_test.shape)"
      ],
      "execution_count": 0,
      "outputs": []
    },
    {
      "metadata": {
        "id": "dThAWYZPW0rB",
        "colab_type": "text"
      },
      "cell_type": "markdown",
      "source": [
        "### Continue from old preprocessing"
      ]
    },
    {
      "metadata": {
        "id": "TwsCuiojW0rE",
        "colab_type": "code",
        "colab": {}
      },
      "cell_type": "code",
      "source": [
        "from collections import Counter\n",
        "\n",
        "c = Counter(y_train_valid)\n",
        "d = Counter(person_train_valid[:,0])"
      ],
      "execution_count": 0,
      "outputs": []
    },
    {
      "metadata": {
        "id": "_-VBDHMtW0rK",
        "colab_type": "code",
        "outputId": "5787b5b0-a7cc-4d3a-ce5a-bbb519741bd4",
        "colab": {
          "base_uri": "https://localhost:8080/",
          "height": 50
        }
      },
      "cell_type": "code",
      "source": [
        "print(c)\n",
        "print(d)"
      ],
      "execution_count": 121,
      "outputs": [
        {
          "output_type": "stream",
          "text": [
            "Counter({771: 543, 772: 530, 769: 529, 770: 513})\n",
            "Counter({6.0: 238, 0.0: 237, 1.0: 236, 2.0: 236, 5.0: 236, 4.0: 235, 3.0: 234, 7.0: 232, 8.0: 231})\n"
          ],
          "name": "stdout"
        }
      ]
    },
    {
      "metadata": {
        "id": "TuxFxdY4W0rS",
        "colab_type": "text"
      },
      "cell_type": "markdown",
      "source": [
        "X_train_valid: 2115 trials. Each trial has 25 channels across 1000 time bins.\n",
        "\n",
        "X_test: 443 trials. (same as X_train_valid)\n",
        "\n",
        "y_train_valid: 2115 labels of 769 (left hand), 770 (right hand), 771 (foot), and 772 (tongue).\n",
        "\n",
        "y_test: 442 labels as above. \n",
        "\n",
        "person_train_valid: 2115 labels of subject IDs 0-9\n",
        "\n",
        "person_test: 443 subject IDs 0-8"
      ]
    },
    {
      "metadata": {
        "id": "i_vPpGH2W0rT",
        "colab_type": "code",
        "colab": {}
      },
      "cell_type": "code",
      "source": [
        "# Splitting data by subject \n",
        "\n",
        "from collections import defaultdict\n",
        "\n",
        "# Make IDs to integers instead of floats\n",
        "person_train_valid = person_train_valid.astype(int)\n",
        "person_test = person_test.astype(int)\n",
        "\n",
        "ids = range(0, 9) # IDs 0-8 inclusive\n",
        "\n",
        "trials_by_id_train_idx = defaultdict(list) # key: id 0-8, value: list of indices of training data for that id \n",
        "trials_by_id_test_idx = defaultdict(list)\n",
        "\n",
        "if transpose:\n",
        "    num_trials, num_bins, num_channels = X_train_valid.shape\n",
        "else:\n",
        "    num_trials, num_channels, num_bins = X_train_valid.shape\n",
        "    \n",
        "num_test = X_test.shape[0]\n",
        "\n",
        "for i in range(num_trials):\n",
        "    trials_by_id_train_idx[person_train_valid[i][0]].append(i)\n",
        "    \n",
        "for i in range(num_test):\n",
        "    trials_by_id_test_idx[person_test[i][0]].append(i)\n",
        "    "
      ],
      "execution_count": 0,
      "outputs": []
    },
    {
      "metadata": {
        "scrolled": true,
        "id": "5c9TDfvpW0rY",
        "colab_type": "code",
        "outputId": "3e18b20b-7fff-420c-cfae-392f97ead0a4",
        "colab": {
          "base_uri": "https://localhost:8080/",
          "height": 4069
        }
      },
      "cell_type": "code",
      "source": [
        "# Sanity check to see if partitioning by subject ID worked\n",
        "\n",
        "print(len(trials_by_id_train_idx[0]))\n",
        "print(len(person_train_valid[trials_by_id_train_idx[0]]))\n",
        "\n",
        "print(trials_by_id_train_idx[0])\n",
        "print(person_train_valid[trials_by_id_train_idx[0]])\n"
      ],
      "execution_count": 123,
      "outputs": [
        {
          "output_type": "stream",
          "text": [
            "237\n",
            "237\n",
            "[0, 1, 2, 3, 4, 5, 6, 7, 8, 9, 10, 11, 12, 13, 14, 15, 16, 17, 18, 19, 20, 21, 22, 23, 24, 25, 26, 27, 28, 29, 30, 31, 32, 33, 34, 35, 36, 37, 38, 39, 40, 41, 42, 43, 44, 45, 46, 47, 48, 49, 50, 51, 52, 53, 54, 55, 56, 57, 58, 59, 60, 61, 62, 63, 64, 65, 66, 67, 68, 69, 70, 71, 72, 73, 74, 75, 76, 77, 78, 79, 80, 81, 82, 83, 84, 85, 86, 87, 88, 89, 90, 91, 92, 93, 94, 95, 96, 97, 98, 99, 100, 101, 102, 103, 104, 105, 106, 107, 108, 109, 110, 111, 112, 113, 114, 115, 116, 117, 118, 119, 120, 121, 122, 123, 124, 125, 126, 127, 128, 129, 130, 131, 132, 133, 134, 135, 136, 137, 138, 139, 140, 141, 142, 143, 144, 145, 146, 147, 148, 149, 150, 151, 152, 153, 154, 155, 156, 157, 158, 159, 160, 161, 162, 163, 164, 165, 166, 167, 168, 169, 170, 171, 172, 173, 174, 175, 176, 177, 178, 179, 180, 181, 182, 183, 184, 185, 186, 187, 188, 189, 190, 191, 192, 193, 194, 195, 196, 197, 198, 1777, 1778, 1779, 1780, 1781, 1782, 1783, 1784, 1785, 1786, 1787, 1788, 1789, 1790, 1791, 1792, 1793, 1794, 1795, 1796, 1797, 1798, 1799, 1800, 1801, 1802, 1803, 1804, 1805, 1806, 1807, 1808, 1809, 1810, 1811, 1812, 1813, 1814]\n",
            "[[0]\n",
            " [0]\n",
            " [0]\n",
            " [0]\n",
            " [0]\n",
            " [0]\n",
            " [0]\n",
            " [0]\n",
            " [0]\n",
            " [0]\n",
            " [0]\n",
            " [0]\n",
            " [0]\n",
            " [0]\n",
            " [0]\n",
            " [0]\n",
            " [0]\n",
            " [0]\n",
            " [0]\n",
            " [0]\n",
            " [0]\n",
            " [0]\n",
            " [0]\n",
            " [0]\n",
            " [0]\n",
            " [0]\n",
            " [0]\n",
            " [0]\n",
            " [0]\n",
            " [0]\n",
            " [0]\n",
            " [0]\n",
            " [0]\n",
            " [0]\n",
            " [0]\n",
            " [0]\n",
            " [0]\n",
            " [0]\n",
            " [0]\n",
            " [0]\n",
            " [0]\n",
            " [0]\n",
            " [0]\n",
            " [0]\n",
            " [0]\n",
            " [0]\n",
            " [0]\n",
            " [0]\n",
            " [0]\n",
            " [0]\n",
            " [0]\n",
            " [0]\n",
            " [0]\n",
            " [0]\n",
            " [0]\n",
            " [0]\n",
            " [0]\n",
            " [0]\n",
            " [0]\n",
            " [0]\n",
            " [0]\n",
            " [0]\n",
            " [0]\n",
            " [0]\n",
            " [0]\n",
            " [0]\n",
            " [0]\n",
            " [0]\n",
            " [0]\n",
            " [0]\n",
            " [0]\n",
            " [0]\n",
            " [0]\n",
            " [0]\n",
            " [0]\n",
            " [0]\n",
            " [0]\n",
            " [0]\n",
            " [0]\n",
            " [0]\n",
            " [0]\n",
            " [0]\n",
            " [0]\n",
            " [0]\n",
            " [0]\n",
            " [0]\n",
            " [0]\n",
            " [0]\n",
            " [0]\n",
            " [0]\n",
            " [0]\n",
            " [0]\n",
            " [0]\n",
            " [0]\n",
            " [0]\n",
            " [0]\n",
            " [0]\n",
            " [0]\n",
            " [0]\n",
            " [0]\n",
            " [0]\n",
            " [0]\n",
            " [0]\n",
            " [0]\n",
            " [0]\n",
            " [0]\n",
            " [0]\n",
            " [0]\n",
            " [0]\n",
            " [0]\n",
            " [0]\n",
            " [0]\n",
            " [0]\n",
            " [0]\n",
            " [0]\n",
            " [0]\n",
            " [0]\n",
            " [0]\n",
            " [0]\n",
            " [0]\n",
            " [0]\n",
            " [0]\n",
            " [0]\n",
            " [0]\n",
            " [0]\n",
            " [0]\n",
            " [0]\n",
            " [0]\n",
            " [0]\n",
            " [0]\n",
            " [0]\n",
            " [0]\n",
            " [0]\n",
            " [0]\n",
            " [0]\n",
            " [0]\n",
            " [0]\n",
            " [0]\n",
            " [0]\n",
            " [0]\n",
            " [0]\n",
            " [0]\n",
            " [0]\n",
            " [0]\n",
            " [0]\n",
            " [0]\n",
            " [0]\n",
            " [0]\n",
            " [0]\n",
            " [0]\n",
            " [0]\n",
            " [0]\n",
            " [0]\n",
            " [0]\n",
            " [0]\n",
            " [0]\n",
            " [0]\n",
            " [0]\n",
            " [0]\n",
            " [0]\n",
            " [0]\n",
            " [0]\n",
            " [0]\n",
            " [0]\n",
            " [0]\n",
            " [0]\n",
            " [0]\n",
            " [0]\n",
            " [0]\n",
            " [0]\n",
            " [0]\n",
            " [0]\n",
            " [0]\n",
            " [0]\n",
            " [0]\n",
            " [0]\n",
            " [0]\n",
            " [0]\n",
            " [0]\n",
            " [0]\n",
            " [0]\n",
            " [0]\n",
            " [0]\n",
            " [0]\n",
            " [0]\n",
            " [0]\n",
            " [0]\n",
            " [0]\n",
            " [0]\n",
            " [0]\n",
            " [0]\n",
            " [0]\n",
            " [0]\n",
            " [0]\n",
            " [0]\n",
            " [0]\n",
            " [0]\n",
            " [0]\n",
            " [0]\n",
            " [0]\n",
            " [0]\n",
            " [0]\n",
            " [0]\n",
            " [0]\n",
            " [0]\n",
            " [0]\n",
            " [0]\n",
            " [0]\n",
            " [0]\n",
            " [0]\n",
            " [0]\n",
            " [0]\n",
            " [0]\n",
            " [0]\n",
            " [0]\n",
            " [0]\n",
            " [0]\n",
            " [0]\n",
            " [0]\n",
            " [0]\n",
            " [0]\n",
            " [0]\n",
            " [0]\n",
            " [0]\n",
            " [0]\n",
            " [0]\n",
            " [0]\n",
            " [0]\n",
            " [0]\n",
            " [0]\n",
            " [0]\n",
            " [0]\n",
            " [0]\n",
            " [0]\n",
            " [0]\n",
            " [0]\n",
            " [0]]\n"
          ],
          "name": "stdout"
        }
      ]
    },
    {
      "metadata": {
        "id": "KVuCkbU8W0rf",
        "colab_type": "code",
        "outputId": "2b937fdd-2378-4f4a-deb8-0a53d5ba0601",
        "colab": {
          "base_uri": "https://localhost:8080/",
          "height": 34
        }
      },
      "cell_type": "code",
      "source": [
        "# Sanity check 2\n",
        "trials_by_id_train_idx.keys()"
      ],
      "execution_count": 124,
      "outputs": [
        {
          "output_type": "execute_result",
          "data": {
            "text/plain": [
              "dict_keys([0, 1, 2, 3, 4, 5, 6, 7, 8])"
            ]
          },
          "metadata": {
            "tags": []
          },
          "execution_count": 124
        }
      ]
    },
    {
      "metadata": {
        "id": "5oXIR-qmW0rm",
        "colab_type": "code",
        "colab": {}
      },
      "cell_type": "code",
      "source": [
        "y_train_valid -= 769\n",
        "y_test -= 769 \n",
        "# for one hot encoding, convert all values to 0 1 2 3"
      ],
      "execution_count": 0,
      "outputs": []
    },
    {
      "metadata": {
        "id": "4Q4v7he8W0r0",
        "colab_type": "text"
      },
      "cell_type": "markdown",
      "source": [
        "# Make preprocessed dataset ready for training"
      ]
    },
    {
      "metadata": {
        "id": "kd4HJWDWW0r3",
        "colab_type": "code",
        "colab": {}
      },
      "cell_type": "code",
      "source": [
        "from keras.utils import to_categorical\n",
        "from sklearn.model_selection import train_test_split\n",
        "\n",
        "X_train_valid_id = defaultdict(np.array)\n",
        "X_train_id = defaultdict(np.array)\n",
        "X_valid_id = defaultdict(np.array)\n",
        "X_test_id = defaultdict(np.array)\n",
        "\n",
        "y_train_valid_id = defaultdict(np.array)\n",
        "y_train_id = defaultdict(np.array)\n",
        "y_valid_id = defaultdict(np.array)\n",
        "y_test_id = defaultdict(np.array)\n",
        "\n",
        "y_train_valid_id_1hot = defaultdict(np.array)\n",
        "y_train_id_1hot = defaultdict(np.array)\n",
        "y_valid_id_1hot = defaultdict(np.array)\n",
        "y_test_id_1hot = defaultdict(np.array)\n",
        "\n",
        "\n",
        "\n",
        "# key: subject ID 0-8, value: trials for that subject\n",
        "for id in ids:\n",
        "    #print(id)\n",
        "    X_train_valid_id[id] = X_train_valid[trials_by_id_train_idx[id]]\n",
        "    X_test_id[id] = X_test[trials_by_id_test_idx[id]]\n",
        "    \n",
        "    \n",
        "    y_train_valid_id[id] = y_train_valid[trials_by_id_train_idx[id]]\n",
        "    y_test_id[id] = y_test[trials_by_id_test_idx[id]]\n",
        "    \n",
        "    X_train_id[id], X_valid_id[id], y_train_id[id], y_valid_id[id] = train_test_split(X_train_valid_id[id], \n",
        "                                                                          y_train_valid_id[id], \n",
        "                                                                          test_size=0.2, \n",
        "                                                                          random_state=98)\n",
        "\n",
        "    y_train_id_1hot[id] = to_categorical(y_train_id[id])\n",
        "    y_valid_id_1hot[id] = to_categorical(y_valid_id[id])\n",
        "    y_test_id_1hot[id] = to_categorical(y_test_id[id])\n",
        "    \n",
        "    y_train_valid_id_1hot[id] = to_categorical(y_train_valid_id[id])\n",
        "    \n",
        "    \n",
        "y_train_valid_1hot = to_categorical(y_train_valid)    "
      ],
      "execution_count": 0,
      "outputs": []
    },
    {
      "metadata": {
        "id": "QBBMbBhzW0r_",
        "colab_type": "code",
        "outputId": "3f8ff7ec-78d5-42a3-ebfb-8eac498a33a1",
        "colab": {
          "base_uri": "https://localhost:8080/",
          "height": 84
        }
      },
      "cell_type": "code",
      "source": [
        "# Sanity check\n",
        "#print(X_train_valid_id[0].shape)\n",
        "print(X_train_id[0].shape)\n",
        "print(X_valid_id[0].shape)\n",
        "print(y_train_id[0].shape)\n",
        "print(y_valid_id[0].shape)"
      ],
      "execution_count": 127,
      "outputs": [
        {
          "output_type": "stream",
          "text": [
            "(189, 22, 1000)\n",
            "(48, 22, 1000)\n",
            "(189,)\n",
            "(48,)\n"
          ],
          "name": "stdout"
        }
      ]
    },
    {
      "metadata": {
        "id": "GssflzuXW0sF",
        "colab_type": "code",
        "colab": {}
      },
      "cell_type": "code",
      "source": [
        "# (Not separated by ID)\n",
        "X_train, X_valid, y_train, y_valid = train_test_split(X_train_valid, y_train_valid, test_size=0.2, random_state=98)\n",
        "\n",
        "y_train_1hot = to_categorical(y_train)\n",
        "y_valid_1hot = to_categorical(y_valid)\n",
        "y_test_1hot = to_categorical(y_test)"
      ],
      "execution_count": 0,
      "outputs": []
    },
    {
      "metadata": {
        "id": "VhPLVuEdW0sL",
        "colab_type": "text"
      },
      "cell_type": "markdown",
      "source": [
        "# Model definition"
      ]
    },
    {
      "metadata": {
        "id": "AluXzZ2SW0sN",
        "colab_type": "code",
        "colab": {}
      },
      "cell_type": "code",
      "source": [
        "from keras.models import Sequential\n",
        "from keras.layers import Dense, Dropout, Activation, Input, Conv1D, MaxPooling1D, GlobalAveragePooling1D\n",
        "from keras.layers import Embedding, Bidirectional\n",
        "from keras.layers import LSTM, BatchNormalization\n",
        "from keras.regularizers import l2\n",
        "from keras.initializers import glorot_normal, Zeros, Ones, Orthogonal\n",
        "from keras.optimizers import Adam, Nadam\n",
        "\n",
        "\n",
        "batch_size = 16\n",
        "num_epochs = 200\n",
        "\n",
        "def getModel():\n",
        "    num_lstm_units = 128\n",
        "    num_hidden_units = 64\n",
        "    num_filters = num_lstm_units # default 32\n",
        "    kernel_size = 4 # default 4\n",
        "    pool_size = 4 # default 4\n",
        "    \n",
        "    reg = 0.001 #default 0.01\n",
        "    lr = 0.0001  #default 0.001\n",
        "    decay = 0.0 #default 0.0\n",
        "    optimizer = Adam(lr=lr, decay=decay)\n",
        "    \n",
        "    model = Sequential()\n",
        "    #model.add(Input(shape=(num_channels, num_bins)))\n",
        "    \n",
        "    \"\"\"1D CONV and POOL\"\"\" \n",
        "    \"\"\"\n",
        "    model.add(Conv1D(filters=128, kernel_size=kernel_size, activation='relu'))\n",
        "    model.add(Conv1D(filters=128, kernel_size=kernel_size, activation='relu'))\n",
        "    \n",
        "    model.add(MaxPooling1D(pool_size=pool_size))\n",
        "    \n",
        "    model.add(Conv1D(filters=128, kernel_size=kernel_size, activation='relu'))\n",
        "    model.add(Conv1D(filters=128, kernel_size=kernel_size, activation='relu'))\n",
        "    model.add(MaxPooling1D(pool_size=pool_size))\n",
        "    \"\"\"\n",
        "    #model.add(GlobalAveragePooling1D())\n",
        "    \n",
        "    \n",
        "    \n",
        "    \"\"\" PRE-LSTM DENSE \"\"\"\n",
        "    \"\"\"\n",
        "    model.add(Dense(num_hidden_units, activation='linear',kernel_regularizer=l2(reg),bias_regularizer=l2(reg),activity_regularizer=l2(reg)))\n",
        "    \n",
        "    model.add(BatchNormalization(gamma_initializer=Ones(), beta_initializer=Zeros(),\n",
        "                                gamma_regularizer=l2(reg), beta_regularizer=l2(reg)))\n",
        "    model.add(Activation('relu'))\n",
        "    model.add(Dropout(0.5))\n",
        "    \"\"\"\n",
        "    \n",
        "    \n",
        "    \"\"\" LSTM \"\"\"\n",
        "    #model.add(Embedding(max_features, output_dim=256))\n",
        "    #model.add(LSTM(128, input_shape=(num_bins, num_channels)))\n",
        "    #model.add(LSTM(num_lstm_units, input_shape=(num_bins, num_channels), return_sequences=True))\n",
        "    #model.add(LSTM(num_lstm_units, input_shape=(num_channels, num_bins)))\n",
        "    \n",
        "    \n",
        "    model.add(LSTM(num_lstm_units, \n",
        "                   #input_shape=(num_bins, num_channels), \n",
        "                   input_shape=(num_channels, num_bins),\n",
        "                   #return_sequences=True, \n",
        "                   dropout=0.5, recurrent_dropout=0.5,\n",
        "                   kernel_regularizer=l2(reg),\n",
        "                   recurrent_regularizer=l2(reg),\n",
        "                   bias_regularizer=l2(reg),\n",
        "                   activity_regularizer=l2(reg),\n",
        "                   kernel_initializer=Orthogonal(seed=98),#glorot_normal(seed=98),\n",
        "                   recurrent_initializer=Orthogonal(seed=89),#glorot_normal(seed=98),\n",
        "                   bias_initializer=Zeros())) \n",
        "    \n",
        "\n",
        "    model.add(BatchNormalization(gamma_initializer=Ones(), beta_initializer=Zeros(),\n",
        "                                gamma_regularizer=l2(reg), beta_regularizer=l2(reg)))\n",
        "    \n",
        "    model.add(Dropout(0.5))\n",
        "    \n",
        "\n",
        "    #model.add(LSTM(num_lstm_units, input_shape=(num_channels, num_bins), return_sequences=True))\n",
        "    \n",
        "    \"\"\"\n",
        "    model.add(LSTM(num_lstm_units, \n",
        "                   return_sequences=True,\n",
        "                   dropout=0.5, recurrent_dropout=0.5,\n",
        "                   kernel_regularizer=l2(reg),\n",
        "                   recurrent_regularizer=l2(reg),\n",
        "                   bias_regularizer=l2(reg),\n",
        "                   activity_regularizer=l2(reg),\n",
        "                   kernel_initializer=Orthogonal(seed=180),\n",
        "                   recurrent_initializer=Orthogonal(seed=360),\n",
        "                   bias_initializer=Zeros()))\n",
        "    \n",
        "    model.add(BatchNormalization(gamma_initializer=Ones(), beta_initializer=Zeros(),\n",
        "                            gamma_regularizer=l2(reg), beta_regularizer=l2(reg)))\n",
        "\n",
        "    model.add(Dropout(0.5))\n",
        "    \"\"\"\n",
        "    \"\"\"\n",
        "    model.add(LSTM(num_lstm_units, \n",
        "                   dropout=0.5, recurrent_dropout=0.5,\n",
        "                   kernel_regularizer=l2(reg),\n",
        "                   recurrent_regularizer=l2(reg),\n",
        "                   bias_regularizer=l2(reg),\n",
        "                   activity_regularizer=l2(reg),\n",
        "                   kernel_initializer=Orthogonal(seed=908),\n",
        "                   recurrent_initializer=Orthogonal(seed=980),\n",
        "                   bias_initializer=Zeros()))\n",
        "    \n",
        "    model.add(BatchNormalization(gamma_initializer=Ones(), beta_initializer=Zeros(),\n",
        "                            gamma_regularizer=l2(reg), beta_regularizer=l2(reg)))\n",
        "\n",
        "    model.add(Dropout(0.5))\n",
        "    \"\"\"    \n",
        "    \n",
        "    #model.add(LSTM(num_lstm_units, input_shape=(num_channels, num_bins), return_sequences=True))\n",
        "    #model.add(LSTM(num_lstm_units, return_sequences=True, dropout=0.5, recurrent_dropout=0.5))\n",
        "    #model.add(Dropout(0.5))\n",
        "    \n",
        "    #model.add(LSTM(num_lstm_units, input_shape=(num_channels, num_bins)))\n",
        "    #model.add(LSTM(num_lstm_units//2, dropout=0.5, recurrent_dropout=0.5))\n",
        "    #model.add(Dropout(0.5))\n",
        "\n",
        "    \"\"\" POST-LSTM DENSE \"\"\"\n",
        "    \"\"\"\n",
        "    model.add(Dense(num_hidden_units, activation='linear',kernel_regularizer=l2(reg),bias_regularizer=l2(reg),activity_regularizer=l2(reg)))\n",
        "    \n",
        "    model.add(BatchNormalization(gamma_initializer=Ones(), beta_initializer=Zeros(),\n",
        "                                gamma_regularizer=l2(reg), beta_regularizer=l2(reg)))\n",
        "    model.add(Activation('relu'))\n",
        "    model.add(Dropout(0.5))\n",
        "    \"\"\"\n",
        "    \n",
        "    #model.add(Dense(64, activation='sigmoid'))\n",
        "    #model.add(Dense(32, activation='sigmoid',kernel_regularizer=l2(reg),bias_regularizer=l2(reg),activity_regularizer=l2(reg)))\n",
        "    #model.add(Dense(16, activation='relu'))\n",
        "    #model.add(Dropout(0.5))\n",
        "    #model.add(Dense(4, activation='sigmoid'))\n",
        "    model.add(Dense(4, activation='softmax', kernel_regularizer=l2(reg),bias_regularizer=l2(reg),activity_regularizer=l2(reg)))\n",
        "\n",
        "    model.compile(loss='categorical_crossentropy',\n",
        "                  optimizer='rmsprop',\n",
        "                  metrics=['accuracy'])\n",
        "    #print(model.summary())\n",
        "    return model\n",
        "\n",
        "\n"
      ],
      "execution_count": 0,
      "outputs": []
    },
    {
      "metadata": {
        "id": "uoq3r0LzW0sT",
        "colab_type": "code",
        "outputId": "5f431a29-e548-4efc-f256-b2f816158d85",
        "colab": {
          "base_uri": "https://localhost:8080/",
          "height": 34
        }
      },
      "cell_type": "code",
      "source": [
        "# Using gpu?\n",
        "# Maybe follow https://www.quantinsti.com/blog/install-tensorflow-gpu\n",
        "from keras import backend as K\n",
        "K.tensorflow_backend._get_available_gpus()"
      ],
      "execution_count": 95,
      "outputs": [
        {
          "output_type": "execute_result",
          "data": {
            "text/plain": [
              "['/job:localhost/replica:0/task:0/device:GPU:0']"
            ]
          },
          "metadata": {
            "tags": []
          },
          "execution_count": 95
        }
      ]
    },
    {
      "metadata": {
        "id": "NKj00t1ca-3K",
        "colab_type": "code",
        "colab": {}
      },
      "cell_type": "code",
      "source": [
        "from sklearn.model_selection import StratifiedKFold"
      ],
      "execution_count": 0,
      "outputs": []
    },
    {
      "metadata": {
        "id": "P1PypkJvW0sZ",
        "colab_type": "text"
      },
      "cell_type": "markdown",
      "source": [
        "# Optimize classification accuracy for subject 1. Does it help to train across all subjects?"
      ]
    },
    {
      "metadata": {
        "scrolled": false,
        "id": "jvbdcVAgW0sb",
        "colab_type": "code",
        "outputId": "7bcb7bcf-eb84-4e24-9c9c-a8a30223a771",
        "colab": {
          "base_uri": "https://localhost:8080/",
          "height": 20365
        }
      },
      "cell_type": "code",
      "source": [
        "\n",
        "#print(X_train_valid_id_t.shape)\n",
        "#model.fit(X_train_valid_id_t, y_train_valid_id_1hot[1], batch_size=16, epochs=10)\n",
        "#score = model.evaluate(X_test_id_t, y_test_id_1hot[1], batch_size=16)\n",
        "num_trials1 = 3\n",
        "scores1 = []\n",
        "models1 = []\n",
        "histories1 = []\n",
        "\n",
        "\n",
        "\n",
        "\n",
        "kf = StratifiedKFold(n_splits = num_trials1)\n",
        "\n",
        "for train, valid in kf.split(X_train_valid_id[1], y_train_valid_id[1]): # for subject 1's training data\n",
        "  this_X_train_id, this_X_valid_id = X_train_valid_id[1][train], X_train_valid_id[1][valid] \n",
        "  this_y_train_id_1hot, this_y_valid_id_1hot = y_train_valid_id_1hot[1][train], y_train_valid_id_1hot[1][valid]\n",
        "  \n",
        "  model = getModel()\n",
        "  \n",
        "  history = model.fit(this_X_train_id, this_y_train_id_1hot, batch_size=batch_size, epochs=num_epochs,\n",
        "             validation_data=(this_X_valid_id, this_y_valid_id_1hot), # just included to track val loss\n",
        "             verbose=1) # default verbose=1\n",
        "  \n",
        "  _, score = model.evaluate(this_X_valid_id, this_y_valid_id_1hot, batch_size=batch_size)\n",
        "  scores1.append(score)\n",
        "  models1.append(model)\n",
        "  histories1.append(history)\n",
        "  print('########## TEST ACCURACY ', score)\n",
        "\n",
        "\"\"\" OLD BAGGING/EVAL METHOD \"\"\"\n",
        "\"\"\"\n",
        "#num_train = len(X_train_id[1])\n",
        "#bag_idx_size = int(num_train * 0.2) # https://www.elen.ucl.ac.be/Proceedings/esann/esannpdf/es2014-185.pdf\n",
        "\n",
        "for i in range(num_trials1):\n",
        "    model = getModel()\n",
        "    \n",
        "    bag_idx = np.random.choice(num_train, bag_idx_size)\n",
        "    \n",
        "    this_X_train_id = X_train_id[1][bag_idx]\n",
        "    this_y_train_id_1hot = y_train_id_1hot[1][bag_idx]\n",
        "\n",
        "    history = model.fit(this_X_train_id, this_y_train_id_1hot, batch_size=batch_size, epochs=num_epochs,\n",
        "             validation_data=(X_valid_id[1], y_valid_id_1hot[1]),\n",
        "             verbose=0) # default verbose=1\n",
        "    _, score = model.evaluate(X_test_id[1], y_test_id_1hot[1], batch_size=batch_size)\n",
        "    scores1.append(score)\n",
        "    models1.append(model)\n",
        "    histories1.append(history)\n",
        "    print('########## TEST ACCURACY ', score)\n",
        "\"\"\""
      ],
      "execution_count": 97,
      "outputs": [
        {
          "output_type": "stream",
          "text": [
            "Train on 157 samples, validate on 79 samples\n",
            "Epoch 1/200\n",
            "157/157 [==============================] - 7s 45ms/step - loss: 3.2320 - acc: 0.2420 - val_loss: 2.5860 - val_acc: 0.2405\n",
            "Epoch 2/200\n",
            "157/157 [==============================] - 2s 10ms/step - loss: 2.9576 - acc: 0.3121 - val_loss: 2.4945 - val_acc: 0.2278\n",
            "Epoch 3/200\n",
            "157/157 [==============================] - 2s 10ms/step - loss: 2.9633 - acc: 0.2930 - val_loss: 2.3016 - val_acc: 0.2785\n",
            "Epoch 4/200\n",
            "157/157 [==============================] - 2s 10ms/step - loss: 3.0525 - acc: 0.2229 - val_loss: 2.1962 - val_acc: 0.2532\n",
            "Epoch 5/200\n",
            "157/157 [==============================] - 2s 10ms/step - loss: 2.7256 - acc: 0.2739 - val_loss: 2.3254 - val_acc: 0.2658\n",
            "Epoch 6/200\n",
            "157/157 [==============================] - 2s 10ms/step - loss: 2.7396 - acc: 0.2357 - val_loss: 2.3493 - val_acc: 0.2278\n",
            "Epoch 7/200\n",
            "157/157 [==============================] - 2s 10ms/step - loss: 2.7331 - acc: 0.2803 - val_loss: 2.2259 - val_acc: 0.2405\n",
            "Epoch 8/200\n",
            "157/157 [==============================] - 2s 10ms/step - loss: 2.6892 - acc: 0.2357 - val_loss: 2.2443 - val_acc: 0.2152\n",
            "Epoch 9/200\n",
            "157/157 [==============================] - 2s 10ms/step - loss: 2.4789 - acc: 0.3376 - val_loss: 2.1398 - val_acc: 0.1899\n",
            "Epoch 10/200\n",
            "157/157 [==============================] - 2s 10ms/step - loss: 2.6667 - acc: 0.2420 - val_loss: 2.1440 - val_acc: 0.2278\n",
            "Epoch 11/200\n",
            "157/157 [==============================] - 2s 10ms/step - loss: 2.5113 - acc: 0.2548 - val_loss: 2.1072 - val_acc: 0.1899\n",
            "Epoch 12/200\n",
            "157/157 [==============================] - 2s 10ms/step - loss: 2.4010 - acc: 0.2675 - val_loss: 2.0050 - val_acc: 0.3038\n",
            "Epoch 13/200\n",
            "157/157 [==============================] - 2s 10ms/step - loss: 2.3278 - acc: 0.2866 - val_loss: 2.0068 - val_acc: 0.2658\n",
            "Epoch 14/200\n",
            "157/157 [==============================] - 2s 10ms/step - loss: 2.6010 - acc: 0.1847 - val_loss: 2.1118 - val_acc: 0.2532\n",
            "Epoch 15/200\n",
            "157/157 [==============================] - 2s 10ms/step - loss: 2.6707 - acc: 0.1847 - val_loss: 2.0642 - val_acc: 0.2658\n",
            "Epoch 16/200\n",
            "157/157 [==============================] - 2s 10ms/step - loss: 2.4465 - acc: 0.2102 - val_loss: 2.1510 - val_acc: 0.2405\n",
            "Epoch 17/200\n",
            "157/157 [==============================] - 2s 10ms/step - loss: 2.3123 - acc: 0.2803 - val_loss: 2.0060 - val_acc: 0.2152\n",
            "Epoch 18/200\n",
            "157/157 [==============================] - 2s 10ms/step - loss: 2.2568 - acc: 0.1656 - val_loss: 1.9732 - val_acc: 0.2405\n",
            "Epoch 19/200\n",
            "157/157 [==============================] - 2s 10ms/step - loss: 2.3130 - acc: 0.2102 - val_loss: 1.9016 - val_acc: 0.2658\n",
            "Epoch 20/200\n",
            "157/157 [==============================] - 2s 10ms/step - loss: 2.2474 - acc: 0.2038 - val_loss: 1.9801 - val_acc: 0.2658\n",
            "Epoch 21/200\n",
            "157/157 [==============================] - 2s 10ms/step - loss: 2.1182 - acc: 0.2675 - val_loss: 1.8599 - val_acc: 0.2658\n",
            "Epoch 22/200\n",
            "157/157 [==============================] - 2s 10ms/step - loss: 2.1867 - acc: 0.2420 - val_loss: 1.8150 - val_acc: 0.2532\n",
            "Epoch 23/200\n",
            "157/157 [==============================] - 2s 10ms/step - loss: 2.1608 - acc: 0.2357 - val_loss: 1.9188 - val_acc: 0.2658\n",
            "Epoch 24/200\n",
            "157/157 [==============================] - 2s 10ms/step - loss: 2.2342 - acc: 0.2357 - val_loss: 1.8500 - val_acc: 0.3291\n",
            "Epoch 25/200\n",
            "157/157 [==============================] - 2s 10ms/step - loss: 2.0315 - acc: 0.2866 - val_loss: 1.8719 - val_acc: 0.2405\n",
            "Epoch 26/200\n",
            "157/157 [==============================] - 2s 10ms/step - loss: 2.0882 - acc: 0.2611 - val_loss: 1.8496 - val_acc: 0.2025\n",
            "Epoch 27/200\n",
            "157/157 [==============================] - 2s 10ms/step - loss: 2.1613 - acc: 0.2038 - val_loss: 1.8469 - val_acc: 0.2405\n",
            "Epoch 28/200\n",
            "157/157 [==============================] - 2s 10ms/step - loss: 2.0304 - acc: 0.2930 - val_loss: 1.8400 - val_acc: 0.2532\n",
            "Epoch 29/200\n",
            "157/157 [==============================] - 2s 10ms/step - loss: 2.0627 - acc: 0.2675 - val_loss: 1.7561 - val_acc: 0.2532\n",
            "Epoch 30/200\n",
            "157/157 [==============================] - 2s 10ms/step - loss: 2.0005 - acc: 0.2611 - val_loss: 1.7803 - val_acc: 0.2405\n",
            "Epoch 31/200\n",
            "157/157 [==============================] - 2s 10ms/step - loss: 1.9640 - acc: 0.3121 - val_loss: 1.7712 - val_acc: 0.2532\n",
            "Epoch 32/200\n",
            "157/157 [==============================] - 2s 10ms/step - loss: 1.9678 - acc: 0.2675 - val_loss: 1.7710 - val_acc: 0.2658\n",
            "Epoch 33/200\n",
            "157/157 [==============================] - 2s 10ms/step - loss: 1.9681 - acc: 0.1975 - val_loss: 1.7662 - val_acc: 0.2658\n",
            "Epoch 34/200\n",
            "157/157 [==============================] - 2s 10ms/step - loss: 1.8442 - acc: 0.2994 - val_loss: 1.7092 - val_acc: 0.2658\n",
            "Epoch 35/200\n",
            "157/157 [==============================] - 2s 10ms/step - loss: 1.8582 - acc: 0.2166 - val_loss: 1.6976 - val_acc: 0.2405\n",
            "Epoch 36/200\n",
            "157/157 [==============================] - 2s 10ms/step - loss: 1.8251 - acc: 0.3376 - val_loss: 1.7039 - val_acc: 0.2658\n",
            "Epoch 37/200\n",
            "157/157 [==============================] - 2s 10ms/step - loss: 1.8076 - acc: 0.2866 - val_loss: 2.0717 - val_acc: 0.2658\n",
            "Epoch 38/200\n",
            "157/157 [==============================] - 2s 10ms/step - loss: 1.8181 - acc: 0.2675 - val_loss: 1.9312 - val_acc: 0.2785\n",
            "Epoch 39/200\n",
            "157/157 [==============================] - 2s 10ms/step - loss: 1.9057 - acc: 0.2229 - val_loss: 1.8528 - val_acc: 0.2152\n",
            "Epoch 40/200\n",
            "157/157 [==============================] - 2s 10ms/step - loss: 1.9048 - acc: 0.1975 - val_loss: 1.7602 - val_acc: 0.2532\n",
            "Epoch 41/200\n",
            "157/157 [==============================] - 2s 10ms/step - loss: 1.8842 - acc: 0.2420 - val_loss: 2.0066 - val_acc: 0.2658\n",
            "Epoch 42/200\n",
            "157/157 [==============================] - 2s 10ms/step - loss: 1.8432 - acc: 0.2739 - val_loss: 1.6628 - val_acc: 0.2658\n",
            "Epoch 43/200\n",
            "157/157 [==============================] - 2s 10ms/step - loss: 1.8914 - acc: 0.2484 - val_loss: 1.7047 - val_acc: 0.2532\n",
            "Epoch 44/200\n",
            "157/157 [==============================] - 2s 10ms/step - loss: 1.8853 - acc: 0.2166 - val_loss: 1.8574 - val_acc: 0.2532\n",
            "Epoch 45/200\n",
            "157/157 [==============================] - 2s 10ms/step - loss: 1.8622 - acc: 0.1847 - val_loss: 1.6961 - val_acc: 0.2025\n",
            "Epoch 46/200\n",
            "157/157 [==============================] - 2s 10ms/step - loss: 1.8118 - acc: 0.2803 - val_loss: 1.6672 - val_acc: 0.2405\n",
            "Epoch 47/200\n",
            "157/157 [==============================] - 2s 10ms/step - loss: 1.8327 - acc: 0.2484 - val_loss: 1.6314 - val_acc: 0.2658\n",
            "Epoch 48/200\n",
            "157/157 [==============================] - 2s 10ms/step - loss: 1.7569 - acc: 0.2166 - val_loss: 1.6246 - val_acc: 0.2785\n",
            "Epoch 49/200\n",
            "157/157 [==============================] - 2s 10ms/step - loss: 1.7550 - acc: 0.2675 - val_loss: 1.6552 - val_acc: 0.2405\n",
            "Epoch 50/200\n",
            "157/157 [==============================] - 2s 10ms/step - loss: 1.8376 - acc: 0.1847 - val_loss: 1.6313 - val_acc: 0.2405\n",
            "Epoch 51/200\n",
            "157/157 [==============================] - 2s 10ms/step - loss: 1.7871 - acc: 0.1975 - val_loss: 1.6377 - val_acc: 0.2405\n",
            "Epoch 52/200\n",
            "157/157 [==============================] - 2s 10ms/step - loss: 1.7994 - acc: 0.2420 - val_loss: 1.7365 - val_acc: 0.2532\n",
            "Epoch 53/200\n",
            "157/157 [==============================] - 2s 10ms/step - loss: 1.7752 - acc: 0.2229 - val_loss: 1.6427 - val_acc: 0.2532\n",
            "Epoch 54/200\n",
            "157/157 [==============================] - 2s 10ms/step - loss: 1.7267 - acc: 0.3057 - val_loss: 1.6207 - val_acc: 0.2532\n",
            "Epoch 55/200\n",
            "157/157 [==============================] - 2s 10ms/step - loss: 1.7214 - acc: 0.3057 - val_loss: 1.6037 - val_acc: 0.2405\n",
            "Epoch 56/200\n",
            "157/157 [==============================] - 2s 10ms/step - loss: 1.7140 - acc: 0.2866 - val_loss: 1.6018 - val_acc: 0.2278\n",
            "Epoch 57/200\n",
            "157/157 [==============================] - 2s 10ms/step - loss: 1.7485 - acc: 0.1975 - val_loss: 1.6333 - val_acc: 0.2658\n",
            "Epoch 58/200\n",
            "157/157 [==============================] - 2s 10ms/step - loss: 1.7261 - acc: 0.2102 - val_loss: 1.7381 - val_acc: 0.2405\n",
            "Epoch 59/200\n",
            "157/157 [==============================] - 2s 10ms/step - loss: 1.6755 - acc: 0.2994 - val_loss: 1.6703 - val_acc: 0.2152\n",
            "Epoch 60/200\n",
            "157/157 [==============================] - 2s 10ms/step - loss: 1.7378 - acc: 0.2038 - val_loss: 1.6172 - val_acc: 0.2658\n",
            "Epoch 61/200\n",
            "157/157 [==============================] - 2s 10ms/step - loss: 1.7117 - acc: 0.2420 - val_loss: 1.5835 - val_acc: 0.2658\n",
            "Epoch 62/200\n",
            "157/157 [==============================] - 2s 10ms/step - loss: 1.6708 - acc: 0.2166 - val_loss: 1.5734 - val_acc: 0.2405\n",
            "Epoch 63/200\n",
            "157/157 [==============================] - 2s 10ms/step - loss: 1.6355 - acc: 0.2803 - val_loss: 1.5797 - val_acc: 0.2405\n",
            "Epoch 64/200\n",
            "157/157 [==============================] - 2s 10ms/step - loss: 1.6340 - acc: 0.2611 - val_loss: 1.5616 - val_acc: 0.3418\n",
            "Epoch 65/200\n",
            "157/157 [==============================] - 2s 10ms/step - loss: 1.6412 - acc: 0.2611 - val_loss: 1.7736 - val_acc: 0.2405\n",
            "Epoch 66/200\n",
            "157/157 [==============================] - 2s 10ms/step - loss: 1.5978 - acc: 0.3121 - val_loss: 2.1055 - val_acc: 0.2405\n",
            "Epoch 67/200\n",
            "157/157 [==============================] - 2s 10ms/step - loss: 1.6415 - acc: 0.2357 - val_loss: 2.0134 - val_acc: 0.2405\n",
            "Epoch 68/200\n",
            "157/157 [==============================] - 2s 10ms/step - loss: 1.6510 - acc: 0.2038 - val_loss: 1.9225 - val_acc: 0.2405\n",
            "Epoch 69/200\n",
            "157/157 [==============================] - 2s 10ms/step - loss: 1.6658 - acc: 0.2420 - val_loss: 2.0194 - val_acc: 0.2658\n",
            "Epoch 70/200\n",
            "157/157 [==============================] - 2s 10ms/step - loss: 1.6554 - acc: 0.2611 - val_loss: 2.0324 - val_acc: 0.2658\n",
            "Epoch 71/200\n",
            "157/157 [==============================] - 2s 10ms/step - loss: 1.6823 - acc: 0.2038 - val_loss: 1.9325 - val_acc: 0.2658\n",
            "Epoch 72/200\n",
            "157/157 [==============================] - 2s 10ms/step - loss: 1.6545 - acc: 0.2357 - val_loss: 1.8657 - val_acc: 0.2658\n",
            "Epoch 73/200\n",
            "157/157 [==============================] - 2s 10ms/step - loss: 1.6353 - acc: 0.2675 - val_loss: 1.7618 - val_acc: 0.2658\n",
            "Epoch 74/200\n",
            "157/157 [==============================] - 2s 10ms/step - loss: 1.6593 - acc: 0.1338 - val_loss: 1.7324 - val_acc: 0.2405\n",
            "Epoch 75/200\n",
            "157/157 [==============================] - 2s 10ms/step - loss: 1.5916 - acc: 0.2675 - val_loss: 2.0762 - val_acc: 0.2532\n",
            "Epoch 76/200\n",
            "157/157 [==============================] - 2s 10ms/step - loss: 1.6197 - acc: 0.2229 - val_loss: 1.6082 - val_acc: 0.2532\n",
            "Epoch 77/200\n",
            "157/157 [==============================] - 2s 10ms/step - loss: 1.5843 - acc: 0.2866 - val_loss: 1.6359 - val_acc: 0.2532\n",
            "Epoch 78/200\n",
            "157/157 [==============================] - 2s 10ms/step - loss: 1.5778 - acc: 0.2484 - val_loss: 1.6782 - val_acc: 0.2405\n",
            "Epoch 79/200\n",
            "157/157 [==============================] - 2s 10ms/step - loss: 1.5918 - acc: 0.2548 - val_loss: 1.6227 - val_acc: 0.2532\n",
            "Epoch 80/200\n",
            "157/157 [==============================] - 2s 10ms/step - loss: 1.5597 - acc: 0.2548 - val_loss: 1.5815 - val_acc: 0.2532\n",
            "Epoch 81/200\n",
            "157/157 [==============================] - 2s 10ms/step - loss: 1.5472 - acc: 0.2548 - val_loss: 1.6677 - val_acc: 0.2785\n",
            "Epoch 82/200\n",
            "157/157 [==============================] - 2s 10ms/step - loss: 1.5839 - acc: 0.2357 - val_loss: 1.6169 - val_acc: 0.2405\n",
            "Epoch 83/200\n",
            "157/157 [==============================] - 2s 10ms/step - loss: 1.5855 - acc: 0.2229 - val_loss: 1.6849 - val_acc: 0.2405\n",
            "Epoch 84/200\n",
            "157/157 [==============================] - 2s 10ms/step - loss: 1.6089 - acc: 0.2102 - val_loss: 1.6089 - val_acc: 0.2405\n",
            "Epoch 85/200\n",
            "157/157 [==============================] - 2s 10ms/step - loss: 1.5808 - acc: 0.2484 - val_loss: 1.7314 - val_acc: 0.2658\n",
            "Epoch 86/200\n",
            "157/157 [==============================] - 2s 10ms/step - loss: 1.5869 - acc: 0.2293 - val_loss: 2.1749 - val_acc: 0.2658\n",
            "Epoch 87/200\n",
            "157/157 [==============================] - 2s 10ms/step - loss: 1.6144 - acc: 0.2293 - val_loss: 2.0298 - val_acc: 0.2658\n",
            "Epoch 88/200\n",
            "157/157 [==============================] - 2s 10ms/step - loss: 1.5782 - acc: 0.2484 - val_loss: 1.8433 - val_acc: 0.2405\n",
            "Epoch 89/200\n",
            "157/157 [==============================] - 2s 10ms/step - loss: 1.6090 - acc: 0.2484 - val_loss: 1.6939 - val_acc: 0.2785\n",
            "Epoch 90/200\n",
            "157/157 [==============================] - 2s 10ms/step - loss: 1.5926 - acc: 0.1847 - val_loss: 2.2503 - val_acc: 0.2658\n",
            "Epoch 91/200\n",
            "157/157 [==============================] - 2s 10ms/step - loss: 1.5711 - acc: 0.2866 - val_loss: 2.1146 - val_acc: 0.2658\n",
            "Epoch 92/200\n",
            "157/157 [==============================] - 2s 10ms/step - loss: 1.5817 - acc: 0.2803 - val_loss: 1.8367 - val_acc: 0.2658\n",
            "Epoch 93/200\n",
            "157/157 [==============================] - 2s 10ms/step - loss: 1.5824 - acc: 0.2293 - val_loss: 1.6499 - val_acc: 0.2658\n",
            "Epoch 94/200\n",
            "157/157 [==============================] - 2s 10ms/step - loss: 1.5540 - acc: 0.2420 - val_loss: 1.5953 - val_acc: 0.2658\n",
            "Epoch 95/200\n",
            "157/157 [==============================] - 2s 10ms/step - loss: 1.5619 - acc: 0.2484 - val_loss: 1.8527 - val_acc: 0.2658\n",
            "Epoch 96/200\n",
            "157/157 [==============================] - 2s 10ms/step - loss: 1.5769 - acc: 0.2803 - val_loss: 1.5791 - val_acc: 0.2532\n",
            "Epoch 97/200\n",
            "157/157 [==============================] - 2s 10ms/step - loss: 1.5753 - acc: 0.2803 - val_loss: 1.5554 - val_acc: 0.2658\n",
            "Epoch 98/200\n",
            "157/157 [==============================] - 2s 10ms/step - loss: 1.5752 - acc: 0.2229 - val_loss: 1.6017 - val_acc: 0.2405\n",
            "Epoch 99/200\n",
            "157/157 [==============================] - 2s 10ms/step - loss: 1.5896 - acc: 0.2803 - val_loss: 1.6045 - val_acc: 0.2405\n",
            "Epoch 100/200\n",
            "157/157 [==============================] - 2s 10ms/step - loss: 1.5735 - acc: 0.2293 - val_loss: 1.6132 - val_acc: 0.2658\n",
            "Epoch 101/200\n",
            "157/157 [==============================] - 2s 10ms/step - loss: 1.5713 - acc: 0.2675 - val_loss: 1.6149 - val_acc: 0.2658\n",
            "Epoch 102/200\n",
            "157/157 [==============================] - 2s 10ms/step - loss: 1.5912 - acc: 0.2102 - val_loss: 1.7807 - val_acc: 0.2405\n",
            "Epoch 103/200\n",
            "157/157 [==============================] - 2s 10ms/step - loss: 1.5758 - acc: 0.2803 - val_loss: 1.9136 - val_acc: 0.2405\n",
            "Epoch 104/200\n",
            "157/157 [==============================] - 2s 10ms/step - loss: 1.6155 - acc: 0.2229 - val_loss: 1.8896 - val_acc: 0.2405\n",
            "Epoch 105/200\n",
            "157/157 [==============================] - 2s 10ms/step - loss: 1.5998 - acc: 0.2229 - val_loss: 2.1385 - val_acc: 0.2532\n",
            "Epoch 106/200\n",
            "157/157 [==============================] - 2s 10ms/step - loss: 1.6010 - acc: 0.2484 - val_loss: 2.1060 - val_acc: 0.2532\n",
            "Epoch 107/200\n",
            "157/157 [==============================] - 2s 10ms/step - loss: 1.5913 - acc: 0.2102 - val_loss: 2.0120 - val_acc: 0.2532\n",
            "Epoch 108/200\n",
            "157/157 [==============================] - 2s 10ms/step - loss: 1.5398 - acc: 0.2484 - val_loss: 1.9786 - val_acc: 0.2532\n",
            "Epoch 109/200\n",
            "157/157 [==============================] - 2s 10ms/step - loss: 1.5638 - acc: 0.2803 - val_loss: 1.9986 - val_acc: 0.2532\n",
            "Epoch 110/200\n",
            "157/157 [==============================] - 2s 10ms/step - loss: 1.5559 - acc: 0.2293 - val_loss: 1.7019 - val_acc: 0.2532\n",
            "Epoch 111/200\n",
            "157/157 [==============================] - 2s 10ms/step - loss: 1.5350 - acc: 0.2038 - val_loss: 1.5687 - val_acc: 0.2532\n",
            "Epoch 112/200\n",
            "157/157 [==============================] - 2s 10ms/step - loss: 1.5585 - acc: 0.2611 - val_loss: 1.5995 - val_acc: 0.2405\n",
            "Epoch 113/200\n",
            "157/157 [==============================] - 2s 10ms/step - loss: 1.5755 - acc: 0.2484 - val_loss: 1.7058 - val_acc: 0.2405\n",
            "Epoch 114/200\n",
            "157/157 [==============================] - 2s 10ms/step - loss: 1.5571 - acc: 0.2102 - val_loss: 1.5972 - val_acc: 0.2658\n",
            "Epoch 115/200\n",
            "157/157 [==============================] - 2s 10ms/step - loss: 1.5432 - acc: 0.2866 - val_loss: 1.5645 - val_acc: 0.2658\n",
            "Epoch 116/200\n",
            "157/157 [==============================] - 2s 10ms/step - loss: 1.5294 - acc: 0.2866 - val_loss: 1.5514 - val_acc: 0.2658\n",
            "Epoch 117/200\n",
            "157/157 [==============================] - 2s 10ms/step - loss: 1.5461 - acc: 0.2739 - val_loss: 1.5870 - val_acc: 0.2658\n",
            "Epoch 118/200\n",
            "157/157 [==============================] - 2s 10ms/step - loss: 1.5665 - acc: 0.2675 - val_loss: 1.5707 - val_acc: 0.2405\n",
            "Epoch 119/200\n",
            "157/157 [==============================] - 2s 10ms/step - loss: 1.5565 - acc: 0.2611 - val_loss: 1.6382 - val_acc: 0.2405\n",
            "Epoch 120/200\n",
            "157/157 [==============================] - 2s 10ms/step - loss: 1.5421 - acc: 0.2420 - val_loss: 1.6633 - val_acc: 0.2405\n",
            "Epoch 121/200\n",
            "157/157 [==============================] - 2s 10ms/step - loss: 1.5329 - acc: 0.2739 - val_loss: 1.6029 - val_acc: 0.2405\n",
            "Epoch 122/200\n",
            "157/157 [==============================] - 2s 10ms/step - loss: 1.5349 - acc: 0.2548 - val_loss: 1.7186 - val_acc: 0.2405\n",
            "Epoch 123/200\n",
            "157/157 [==============================] - 2s 10ms/step - loss: 1.5116 - acc: 0.2166 - val_loss: 1.6272 - val_acc: 0.2405\n",
            "Epoch 124/200\n",
            "157/157 [==============================] - 2s 10ms/step - loss: 1.5042 - acc: 0.2548 - val_loss: 1.6021 - val_acc: 0.2658\n",
            "Epoch 125/200\n",
            "157/157 [==============================] - 2s 10ms/step - loss: 1.5111 - acc: 0.2866 - val_loss: 1.5567 - val_acc: 0.2658\n",
            "Epoch 126/200\n",
            "157/157 [==============================] - 2s 10ms/step - loss: 1.5156 - acc: 0.2420 - val_loss: 1.4971 - val_acc: 0.2532\n",
            "Epoch 127/200\n",
            "157/157 [==============================] - 1s 9ms/step - loss: 1.4876 - acc: 0.2484 - val_loss: 1.4785 - val_acc: 0.2658\n",
            "Epoch 128/200\n",
            "157/157 [==============================] - 2s 10ms/step - loss: 1.4864 - acc: 0.2675 - val_loss: 1.4779 - val_acc: 0.2658\n",
            "Epoch 129/200\n",
            "157/157 [==============================] - 2s 10ms/step - loss: 1.4710 - acc: 0.2866 - val_loss: 1.4857 - val_acc: 0.2658\n",
            "Epoch 130/200\n",
            "157/157 [==============================] - 2s 10ms/step - loss: 1.4817 - acc: 0.2293 - val_loss: 1.4976 - val_acc: 0.2658\n",
            "Epoch 131/200\n",
            "157/157 [==============================] - 2s 10ms/step - loss: 1.4933 - acc: 0.2357 - val_loss: 1.4935 - val_acc: 0.2658\n",
            "Epoch 132/200\n",
            "157/157 [==============================] - 2s 10ms/step - loss: 1.4834 - acc: 0.2675 - val_loss: 1.4833 - val_acc: 0.2658\n",
            "Epoch 133/200\n",
            "157/157 [==============================] - 2s 10ms/step - loss: 1.5189 - acc: 0.1720 - val_loss: 1.4979 - val_acc: 0.2658\n",
            "Epoch 134/200\n",
            "157/157 [==============================] - 2s 10ms/step - loss: 1.5011 - acc: 0.2675 - val_loss: 1.4843 - val_acc: 0.2658\n",
            "Epoch 135/200\n",
            "157/157 [==============================] - 2s 10ms/step - loss: 1.4679 - acc: 0.2675 - val_loss: 1.4871 - val_acc: 0.2658\n",
            "Epoch 136/200\n",
            "157/157 [==============================] - 2s 10ms/step - loss: 1.4704 - acc: 0.2548 - val_loss: 1.4829 - val_acc: 0.2658\n",
            "Epoch 137/200\n",
            "157/157 [==============================] - 2s 10ms/step - loss: 1.4661 - acc: 0.2420 - val_loss: 1.4914 - val_acc: 0.2658\n",
            "Epoch 138/200\n",
            "157/157 [==============================] - 2s 10ms/step - loss: 1.4697 - acc: 0.2611 - val_loss: 1.5498 - val_acc: 0.2658\n",
            "Epoch 139/200\n",
            "157/157 [==============================] - 2s 10ms/step - loss: 1.4902 - acc: 0.2484 - val_loss: 1.5317 - val_acc: 0.2658\n",
            "Epoch 140/200\n",
            "157/157 [==============================] - 2s 10ms/step - loss: 1.4844 - acc: 0.2484 - val_loss: 1.5962 - val_acc: 0.2658\n",
            "Epoch 141/200\n",
            "157/157 [==============================] - 2s 10ms/step - loss: 1.4810 - acc: 0.2866 - val_loss: 1.5103 - val_acc: 0.2658\n",
            "Epoch 142/200\n",
            "157/157 [==============================] - 2s 10ms/step - loss: 1.4753 - acc: 0.2675 - val_loss: 1.5431 - val_acc: 0.2658\n",
            "Epoch 143/200\n",
            "157/157 [==============================] - 2s 10ms/step - loss: 1.4915 - acc: 0.2357 - val_loss: 1.5055 - val_acc: 0.2658\n",
            "Epoch 144/200\n",
            "157/157 [==============================] - 2s 10ms/step - loss: 1.4819 - acc: 0.2357 - val_loss: 1.4982 - val_acc: 0.2658\n",
            "Epoch 145/200\n",
            "157/157 [==============================] - 2s 10ms/step - loss: 1.4742 - acc: 0.1720 - val_loss: 1.4745 - val_acc: 0.2658\n",
            "Epoch 146/200\n",
            "157/157 [==============================] - 2s 10ms/step - loss: 1.4523 - acc: 0.2611 - val_loss: 1.4543 - val_acc: 0.2658\n",
            "Epoch 147/200\n",
            "157/157 [==============================] - 2s 10ms/step - loss: 1.4477 - acc: 0.2548 - val_loss: 1.4830 - val_acc: 0.2405\n",
            "Epoch 148/200\n",
            "157/157 [==============================] - 2s 10ms/step - loss: 1.4532 - acc: 0.2357 - val_loss: 1.4609 - val_acc: 0.2405\n",
            "Epoch 149/200\n",
            "157/157 [==============================] - 2s 10ms/step - loss: 1.4411 - acc: 0.2548 - val_loss: 1.4465 - val_acc: 0.2405\n",
            "Epoch 150/200\n",
            "157/157 [==============================] - 2s 10ms/step - loss: 1.4402 - acc: 0.2675 - val_loss: 1.4413 - val_acc: 0.2405\n",
            "Epoch 151/200\n",
            "157/157 [==============================] - 2s 10ms/step - loss: 1.4392 - acc: 0.2420 - val_loss: 1.4395 - val_acc: 0.2405\n",
            "Epoch 152/200\n",
            "157/157 [==============================] - 2s 10ms/step - loss: 1.4306 - acc: 0.2484 - val_loss: 1.4237 - val_acc: 0.2405\n",
            "Epoch 153/200\n",
            "157/157 [==============================] - 2s 10ms/step - loss: 1.4213 - acc: 0.2484 - val_loss: 1.4227 - val_acc: 0.2405\n",
            "Epoch 154/200\n",
            "157/157 [==============================] - 2s 10ms/step - loss: 1.4221 - acc: 0.2611 - val_loss: 1.4221 - val_acc: 0.2405\n",
            "Epoch 155/200\n",
            "157/157 [==============================] - 2s 10ms/step - loss: 1.4234 - acc: 0.2611 - val_loss: 1.4215 - val_acc: 0.2405\n",
            "Epoch 156/200\n",
            "157/157 [==============================] - 2s 10ms/step - loss: 1.4294 - acc: 0.2420 - val_loss: 1.4450 - val_acc: 0.2532\n",
            "Epoch 157/200\n",
            "157/157 [==============================] - 2s 10ms/step - loss: 1.4473 - acc: 0.2739 - val_loss: 1.4448 - val_acc: 0.2405\n",
            "Epoch 158/200\n",
            "157/157 [==============================] - 2s 10ms/step - loss: 1.4336 - acc: 0.2803 - val_loss: 1.4286 - val_acc: 0.2658\n",
            "Epoch 159/200\n",
            "157/157 [==============================] - 2s 10ms/step - loss: 1.4243 - acc: 0.2357 - val_loss: 1.4361 - val_acc: 0.2405\n",
            "Epoch 160/200\n",
            "157/157 [==============================] - 2s 10ms/step - loss: 1.4326 - acc: 0.2229 - val_loss: 1.4328 - val_acc: 0.2405\n",
            "Epoch 161/200\n",
            "157/157 [==============================] - 2s 10ms/step - loss: 1.4369 - acc: 0.2420 - val_loss: 1.4374 - val_acc: 0.2405\n",
            "Epoch 162/200\n",
            "157/157 [==============================] - 2s 10ms/step - loss: 1.4270 - acc: 0.2930 - val_loss: 1.4373 - val_acc: 0.2532\n",
            "Epoch 163/200\n",
            "157/157 [==============================] - 2s 10ms/step - loss: 1.4217 - acc: 0.2420 - val_loss: 1.4307 - val_acc: 0.2532\n",
            "Epoch 164/200\n",
            "157/157 [==============================] - 2s 10ms/step - loss: 1.4224 - acc: 0.2611 - val_loss: 1.4390 - val_acc: 0.2532\n",
            "Epoch 165/200\n",
            "157/157 [==============================] - 2s 10ms/step - loss: 1.4257 - acc: 0.2803 - val_loss: 1.4416 - val_acc: 0.2532\n",
            "Epoch 166/200\n",
            "157/157 [==============================] - 2s 10ms/step - loss: 1.4296 - acc: 0.2803 - val_loss: 1.4387 - val_acc: 0.2532\n",
            "Epoch 167/200\n",
            "157/157 [==============================] - 2s 10ms/step - loss: 1.4399 - acc: 0.2739 - val_loss: 1.4928 - val_acc: 0.2532\n",
            "Epoch 168/200\n",
            "157/157 [==============================] - 2s 10ms/step - loss: 1.4373 - acc: 0.2803 - val_loss: 1.4595 - val_acc: 0.2532\n",
            "Epoch 169/200\n",
            "157/157 [==============================] - 2s 10ms/step - loss: 1.4288 - acc: 0.2739 - val_loss: 1.4494 - val_acc: 0.2532\n",
            "Epoch 170/200\n",
            "157/157 [==============================] - 2s 10ms/step - loss: 1.4283 - acc: 0.2357 - val_loss: 1.4431 - val_acc: 0.2532\n",
            "Epoch 171/200\n",
            "157/157 [==============================] - 2s 10ms/step - loss: 1.4250 - acc: 0.2866 - val_loss: 1.4372 - val_acc: 0.2532\n",
            "Epoch 172/200\n",
            "157/157 [==============================] - 2s 10ms/step - loss: 1.4290 - acc: 0.2548 - val_loss: 1.4354 - val_acc: 0.2532\n",
            "Epoch 173/200\n",
            "157/157 [==============================] - 2s 10ms/step - loss: 1.4280 - acc: 0.2611 - val_loss: 1.4335 - val_acc: 0.2532\n",
            "Epoch 174/200\n",
            "157/157 [==============================] - 2s 10ms/step - loss: 1.4273 - acc: 0.2611 - val_loss: 1.4320 - val_acc: 0.2532\n",
            "Epoch 175/200\n",
            "157/157 [==============================] - 2s 10ms/step - loss: 1.4219 - acc: 0.2611 - val_loss: 1.4240 - val_acc: 0.2532\n",
            "Epoch 176/200\n",
            "157/157 [==============================] - 2s 10ms/step - loss: 1.4111 - acc: 0.2420 - val_loss: 1.4019 - val_acc: 0.2532\n",
            "Epoch 177/200\n",
            "157/157 [==============================] - 2s 10ms/step - loss: 1.4064 - acc: 0.2357 - val_loss: 1.4015 - val_acc: 0.2532\n",
            "Epoch 178/200\n",
            "157/157 [==============================] - 2s 10ms/step - loss: 1.4023 - acc: 0.2548 - val_loss: 1.4011 - val_acc: 0.2532\n",
            "Epoch 179/200\n",
            "157/157 [==============================] - 2s 10ms/step - loss: 1.4064 - acc: 0.2357 - val_loss: 1.4007 - val_acc: 0.2658\n",
            "Epoch 180/200\n",
            "157/157 [==============================] - 2s 10ms/step - loss: 1.4012 - acc: 0.2675 - val_loss: 1.4004 - val_acc: 0.2658\n",
            "Epoch 181/200\n",
            "157/157 [==============================] - 2s 10ms/step - loss: 1.4016 - acc: 0.2675 - val_loss: 1.4001 - val_acc: 0.2658\n",
            "Epoch 182/200\n",
            "157/157 [==============================] - 2s 10ms/step - loss: 1.3990 - acc: 0.2611 - val_loss: 1.3959 - val_acc: 0.2405\n",
            "Epoch 183/200\n",
            "157/157 [==============================] - 2s 10ms/step - loss: 1.3912 - acc: 0.2675 - val_loss: 1.3950 - val_acc: 0.2405\n",
            "Epoch 184/200\n",
            "157/157 [==============================] - 2s 10ms/step - loss: 1.3925 - acc: 0.2611 - val_loss: 1.3938 - val_acc: 0.2405\n",
            "Epoch 185/200\n",
            "157/157 [==============================] - 2s 10ms/step - loss: 1.3933 - acc: 0.2611 - val_loss: 1.3934 - val_acc: 0.2405\n",
            "Epoch 186/200\n",
            "157/157 [==============================] - 1s 9ms/step - loss: 1.3918 - acc: 0.2611 - val_loss: 1.3930 - val_acc: 0.2658\n",
            "Epoch 187/200\n",
            "157/157 [==============================] - 2s 10ms/step - loss: 1.3944 - acc: 0.2484 - val_loss: 1.3924 - val_acc: 0.2658\n",
            "Epoch 188/200\n",
            "157/157 [==============================] - 2s 10ms/step - loss: 1.3943 - acc: 0.2611 - val_loss: 1.4010 - val_acc: 0.2658\n",
            "Epoch 189/200\n",
            "157/157 [==============================] - 2s 10ms/step - loss: 1.3967 - acc: 0.2611 - val_loss: 1.3914 - val_acc: 0.2658\n",
            "Epoch 190/200\n",
            "157/157 [==============================] - 2s 10ms/step - loss: 1.3917 - acc: 0.2611 - val_loss: 1.3911 - val_acc: 0.2658\n",
            "Epoch 191/200\n",
            "157/157 [==============================] - 2s 10ms/step - loss: 1.3916 - acc: 0.2611 - val_loss: 1.3909 - val_acc: 0.2658\n",
            "Epoch 192/200\n",
            "157/157 [==============================] - 2s 10ms/step - loss: 1.3934 - acc: 0.2611 - val_loss: 1.3907 - val_acc: 0.2658\n",
            "Epoch 193/200\n",
            "157/157 [==============================] - 2s 10ms/step - loss: 1.3911 - acc: 0.2611 - val_loss: 1.3905 - val_acc: 0.2658\n",
            "Epoch 194/200\n",
            "157/157 [==============================] - 2s 10ms/step - loss: 1.3917 - acc: 0.2611 - val_loss: 1.3904 - val_acc: 0.2658\n",
            "Epoch 195/200\n",
            "157/157 [==============================] - 2s 10ms/step - loss: 1.3929 - acc: 0.2611 - val_loss: 1.3903 - val_acc: 0.2658\n",
            "Epoch 196/200\n",
            "157/157 [==============================] - 2s 10ms/step - loss: 1.3922 - acc: 0.2675 - val_loss: 1.3903 - val_acc: 0.2658\n",
            "Epoch 197/200\n",
            "157/157 [==============================] - 2s 10ms/step - loss: 1.3911 - acc: 0.2611 - val_loss: 1.3903 - val_acc: 0.2658\n",
            "Epoch 198/200\n",
            "157/157 [==============================] - 2s 10ms/step - loss: 1.3994 - acc: 0.2357 - val_loss: 1.3995 - val_acc: 0.2658\n",
            "Epoch 199/200\n",
            "157/157 [==============================] - 2s 10ms/step - loss: 1.4015 - acc: 0.2739 - val_loss: 1.3995 - val_acc: 0.2658\n",
            "Epoch 200/200\n",
            "157/157 [==============================] - 2s 10ms/step - loss: 1.4024 - acc: 0.2548 - val_loss: 1.3994 - val_acc: 0.2658\n",
            "79/79 [==============================] - 0s 3ms/step\n",
            "########## TEST ACCURACY  0.26582278613048266\n",
            "Train on 157 samples, validate on 79 samples\n",
            "Epoch 1/200\n",
            "157/157 [==============================] - 7s 44ms/step - loss: 3.0996 - acc: 0.2611 - val_loss: 2.3140 - val_acc: 0.2658\n",
            "Epoch 2/200\n",
            "157/157 [==============================] - 2s 10ms/step - loss: 3.0687 - acc: 0.2803 - val_loss: 2.5688 - val_acc: 0.2532\n",
            "Epoch 3/200\n",
            "157/157 [==============================] - 2s 10ms/step - loss: 3.1081 - acc: 0.1975 - val_loss: 2.4939 - val_acc: 0.2785\n",
            "Epoch 4/200\n",
            "157/157 [==============================] - 2s 10ms/step - loss: 3.0840 - acc: 0.2420 - val_loss: 2.3610 - val_acc: 0.2278\n",
            "Epoch 5/200\n",
            "157/157 [==============================] - 2s 10ms/step - loss: 2.8379 - acc: 0.2994 - val_loss: 2.1910 - val_acc: 0.2152\n",
            "Epoch 6/200\n",
            "157/157 [==============================] - 2s 10ms/step - loss: 2.8518 - acc: 0.2229 - val_loss: 2.1078 - val_acc: 0.2532\n",
            "Epoch 7/200\n",
            "157/157 [==============================] - 2s 10ms/step - loss: 2.7639 - acc: 0.2803 - val_loss: 2.3807 - val_acc: 0.2658\n",
            "Epoch 8/200\n",
            "157/157 [==============================] - 2s 10ms/step - loss: 2.4788 - acc: 0.2739 - val_loss: 2.4730 - val_acc: 0.2658\n",
            "Epoch 9/200\n",
            "157/157 [==============================] - 2s 10ms/step - loss: 2.7308 - acc: 0.2293 - val_loss: 2.2031 - val_acc: 0.2658\n",
            "Epoch 10/200\n",
            "157/157 [==============================] - 2s 10ms/step - loss: 2.6583 - acc: 0.2930 - val_loss: 2.2097 - val_acc: 0.2152\n",
            "Epoch 11/200\n",
            "157/157 [==============================] - 2s 10ms/step - loss: 2.5811 - acc: 0.2420 - val_loss: 2.0881 - val_acc: 0.2532\n",
            "Epoch 12/200\n",
            "157/157 [==============================] - 2s 10ms/step - loss: 2.5166 - acc: 0.2293 - val_loss: 1.8861 - val_acc: 0.3165\n",
            "Epoch 13/200\n",
            "157/157 [==============================] - 2s 10ms/step - loss: 2.4324 - acc: 0.2229 - val_loss: 2.0262 - val_acc: 0.2532\n",
            "Epoch 14/200\n",
            "157/157 [==============================] - 2s 10ms/step - loss: 2.4769 - acc: 0.2102 - val_loss: 2.1906 - val_acc: 0.2152\n",
            "Epoch 15/200\n",
            "157/157 [==============================] - 2s 10ms/step - loss: 2.2838 - acc: 0.2866 - val_loss: 2.1220 - val_acc: 0.2658\n",
            "Epoch 16/200\n",
            "157/157 [==============================] - 2s 10ms/step - loss: 2.2802 - acc: 0.2930 - val_loss: 2.2118 - val_acc: 0.2152\n",
            "Epoch 17/200\n",
            "157/157 [==============================] - 2s 10ms/step - loss: 2.2481 - acc: 0.2548 - val_loss: 1.8357 - val_acc: 0.2911\n",
            "Epoch 18/200\n",
            "157/157 [==============================] - 2s 10ms/step - loss: 2.3354 - acc: 0.2420 - val_loss: 1.9011 - val_acc: 0.1899\n",
            "Epoch 19/200\n",
            "157/157 [==============================] - 2s 10ms/step - loss: 2.3081 - acc: 0.2229 - val_loss: 1.9488 - val_acc: 0.2405\n",
            "Epoch 20/200\n",
            "157/157 [==============================] - 2s 10ms/step - loss: 2.1821 - acc: 0.2675 - val_loss: 1.9044 - val_acc: 0.2405\n",
            "Epoch 21/200\n",
            "157/157 [==============================] - 2s 10ms/step - loss: 2.3140 - acc: 0.1975 - val_loss: 1.8190 - val_acc: 0.2785\n",
            "Epoch 22/200\n",
            "157/157 [==============================] - 2s 10ms/step - loss: 2.0248 - acc: 0.2994 - val_loss: 1.8475 - val_acc: 0.2658\n",
            "Epoch 23/200\n",
            "157/157 [==============================] - 2s 10ms/step - loss: 2.1040 - acc: 0.2357 - val_loss: 1.8312 - val_acc: 0.2405\n",
            "Epoch 24/200\n",
            "157/157 [==============================] - 2s 10ms/step - loss: 2.1600 - acc: 0.2357 - val_loss: 1.7524 - val_acc: 0.2405\n",
            "Epoch 25/200\n",
            "157/157 [==============================] - 2s 10ms/step - loss: 2.1072 - acc: 0.2229 - val_loss: 1.7478 - val_acc: 0.2405\n",
            "Epoch 26/200\n",
            "157/157 [==============================] - 2s 10ms/step - loss: 2.0925 - acc: 0.2357 - val_loss: 1.7787 - val_acc: 0.2152\n",
            "Epoch 27/200\n",
            "157/157 [==============================] - 2s 10ms/step - loss: 2.1687 - acc: 0.2166 - val_loss: 1.7591 - val_acc: 0.2278\n",
            "Epoch 28/200\n",
            "157/157 [==============================] - 2s 10ms/step - loss: 1.9811 - acc: 0.2611 - val_loss: 1.7783 - val_acc: 0.1772\n",
            "Epoch 29/200\n",
            "157/157 [==============================] - 2s 10ms/step - loss: 1.9676 - acc: 0.2739 - val_loss: 1.7778 - val_acc: 0.2405\n",
            "Epoch 30/200\n",
            "157/157 [==============================] - 2s 10ms/step - loss: 2.0346 - acc: 0.2293 - val_loss: 1.7744 - val_acc: 0.2532\n",
            "Epoch 31/200\n",
            "157/157 [==============================] - 2s 10ms/step - loss: 1.9803 - acc: 0.2675 - val_loss: 1.7876 - val_acc: 0.2405\n",
            "Epoch 32/200\n",
            "157/157 [==============================] - 2s 10ms/step - loss: 1.9559 - acc: 0.2166 - val_loss: 1.7871 - val_acc: 0.2405\n",
            "Epoch 33/200\n",
            "157/157 [==============================] - 2s 10ms/step - loss: 1.8763 - acc: 0.2611 - val_loss: 1.8373 - val_acc: 0.1899\n",
            "Epoch 34/200\n",
            "157/157 [==============================] - 2s 10ms/step - loss: 1.8628 - acc: 0.2866 - val_loss: 1.7189 - val_acc: 0.3038\n",
            "Epoch 35/200\n",
            "157/157 [==============================] - 2s 10ms/step - loss: 1.8809 - acc: 0.2994 - val_loss: 1.6955 - val_acc: 0.3038\n",
            "Epoch 36/200\n",
            "157/157 [==============================] - 2s 10ms/step - loss: 1.9689 - acc: 0.2293 - val_loss: 1.6976 - val_acc: 0.2658\n",
            "Epoch 37/200\n",
            "157/157 [==============================] - 2s 10ms/step - loss: 1.9407 - acc: 0.2102 - val_loss: 1.7546 - val_acc: 0.2278\n",
            "Epoch 38/200\n",
            "157/157 [==============================] - 2s 10ms/step - loss: 1.9116 - acc: 0.2166 - val_loss: 1.7030 - val_acc: 0.2785\n",
            "Epoch 39/200\n",
            "157/157 [==============================] - 2s 10ms/step - loss: 1.8415 - acc: 0.2357 - val_loss: 1.7695 - val_acc: 0.2405\n",
            "Epoch 40/200\n",
            "157/157 [==============================] - 2s 10ms/step - loss: 1.8589 - acc: 0.2548 - val_loss: 1.8438 - val_acc: 0.2405\n",
            "Epoch 41/200\n",
            "157/157 [==============================] - 2s 10ms/step - loss: 1.8793 - acc: 0.2420 - val_loss: 2.1364 - val_acc: 0.2405\n",
            "Epoch 42/200\n",
            "157/157 [==============================] - 2s 10ms/step - loss: 1.8848 - acc: 0.2611 - val_loss: 1.7855 - val_acc: 0.2025\n",
            "Epoch 43/200\n",
            "157/157 [==============================] - 2s 10ms/step - loss: 1.8350 - acc: 0.2420 - val_loss: 1.7625 - val_acc: 0.2405\n",
            "Epoch 44/200\n",
            "157/157 [==============================] - 2s 10ms/step - loss: 1.8581 - acc: 0.2930 - val_loss: 1.7383 - val_acc: 0.2658\n",
            "Epoch 45/200\n",
            "157/157 [==============================] - 2s 10ms/step - loss: 1.7817 - acc: 0.2930 - val_loss: 1.7367 - val_acc: 0.2025\n",
            "Epoch 46/200\n",
            "157/157 [==============================] - 2s 10ms/step - loss: 1.8086 - acc: 0.2420 - val_loss: 1.7063 - val_acc: 0.2405\n",
            "Epoch 47/200\n",
            "157/157 [==============================] - 2s 10ms/step - loss: 1.8457 - acc: 0.2420 - val_loss: 1.7418 - val_acc: 0.2405\n",
            "Epoch 48/200\n",
            "157/157 [==============================] - 2s 10ms/step - loss: 1.8754 - acc: 0.2102 - val_loss: 1.6678 - val_acc: 0.2911\n",
            "Epoch 49/200\n",
            "157/157 [==============================] - 2s 10ms/step - loss: 1.8261 - acc: 0.2038 - val_loss: 1.7447 - val_acc: 0.2405\n",
            "Epoch 50/200\n",
            "157/157 [==============================] - 2s 10ms/step - loss: 1.8415 - acc: 0.2166 - val_loss: 1.7924 - val_acc: 0.2405\n",
            "Epoch 51/200\n",
            "157/157 [==============================] - 2s 10ms/step - loss: 1.7238 - acc: 0.2484 - val_loss: 1.7381 - val_acc: 0.2405\n",
            "Epoch 52/200\n",
            "157/157 [==============================] - 2s 10ms/step - loss: 1.7121 - acc: 0.2930 - val_loss: 1.6260 - val_acc: 0.2785\n",
            "Epoch 53/200\n",
            "157/157 [==============================] - 2s 10ms/step - loss: 1.7371 - acc: 0.2293 - val_loss: 1.6382 - val_acc: 0.2532\n",
            "Epoch 54/200\n",
            "157/157 [==============================] - 2s 10ms/step - loss: 1.7327 - acc: 0.1911 - val_loss: 1.7023 - val_acc: 0.2532\n",
            "Epoch 55/200\n",
            "157/157 [==============================] - 2s 10ms/step - loss: 1.7465 - acc: 0.1911 - val_loss: 1.6303 - val_acc: 0.2532\n",
            "Epoch 56/200\n",
            "157/157 [==============================] - 2s 10ms/step - loss: 1.6895 - acc: 0.2484 - val_loss: 1.6074 - val_acc: 0.2532\n",
            "Epoch 57/200\n",
            "157/157 [==============================] - 2s 10ms/step - loss: 1.6742 - acc: 0.2739 - val_loss: 1.5972 - val_acc: 0.2532\n",
            "Epoch 58/200\n",
            "157/157 [==============================] - 2s 10ms/step - loss: 1.6885 - acc: 0.2229 - val_loss: 1.5960 - val_acc: 0.2025\n",
            "Epoch 59/200\n",
            "157/157 [==============================] - 2s 10ms/step - loss: 1.6466 - acc: 0.2675 - val_loss: 1.7137 - val_acc: 0.2405\n",
            "Epoch 60/200\n",
            "157/157 [==============================] - 2s 10ms/step - loss: 1.6873 - acc: 0.2548 - val_loss: 1.5994 - val_acc: 0.2405\n",
            "Epoch 61/200\n",
            "157/157 [==============================] - 2s 10ms/step - loss: 1.6741 - acc: 0.2293 - val_loss: 1.5950 - val_acc: 0.2911\n",
            "Epoch 62/200\n",
            "157/157 [==============================] - 2s 10ms/step - loss: 1.6595 - acc: 0.2739 - val_loss: 1.7058 - val_acc: 0.2658\n",
            "Epoch 63/200\n",
            "157/157 [==============================] - 2s 10ms/step - loss: 1.6983 - acc: 0.2866 - val_loss: 1.6104 - val_acc: 0.2658\n",
            "Epoch 64/200\n",
            "157/157 [==============================] - 2s 10ms/step - loss: 1.7082 - acc: 0.2357 - val_loss: 1.6322 - val_acc: 0.2785\n",
            "Epoch 65/200\n",
            "157/157 [==============================] - 2s 10ms/step - loss: 1.6525 - acc: 0.2866 - val_loss: 1.7019 - val_acc: 0.2658\n",
            "Epoch 66/200\n",
            "157/157 [==============================] - 2s 10ms/step - loss: 1.6707 - acc: 0.2803 - val_loss: 1.6422 - val_acc: 0.2911\n",
            "Epoch 67/200\n",
            "157/157 [==============================] - 2s 10ms/step - loss: 1.7236 - acc: 0.2038 - val_loss: 1.7027 - val_acc: 0.3165\n",
            "Epoch 68/200\n",
            "157/157 [==============================] - 2s 10ms/step - loss: 1.6444 - acc: 0.2229 - val_loss: 1.8135 - val_acc: 0.2658\n",
            "Epoch 69/200\n",
            "157/157 [==============================] - 2s 10ms/step - loss: 1.6601 - acc: 0.2739 - val_loss: 1.6649 - val_acc: 0.2658\n",
            "Epoch 70/200\n",
            "157/157 [==============================] - 2s 10ms/step - loss: 1.6451 - acc: 0.2866 - val_loss: 1.6322 - val_acc: 0.2532\n",
            "Epoch 71/200\n",
            "157/157 [==============================] - 2s 10ms/step - loss: 1.6423 - acc: 0.2357 - val_loss: 1.6372 - val_acc: 0.2532\n",
            "Epoch 72/200\n",
            "157/157 [==============================] - 2s 10ms/step - loss: 1.6692 - acc: 0.1783 - val_loss: 1.5963 - val_acc: 0.2658\n",
            "Epoch 73/200\n",
            "157/157 [==============================] - 2s 10ms/step - loss: 1.5986 - acc: 0.2357 - val_loss: 1.5802 - val_acc: 0.2658\n",
            "Epoch 74/200\n",
            "157/157 [==============================] - 2s 10ms/step - loss: 1.6237 - acc: 0.2038 - val_loss: 1.6331 - val_acc: 0.2658\n",
            "Epoch 75/200\n",
            "157/157 [==============================] - 2s 10ms/step - loss: 1.6186 - acc: 0.2803 - val_loss: 1.6064 - val_acc: 0.2405\n",
            "Epoch 76/200\n",
            "157/157 [==============================] - 2s 10ms/step - loss: 1.5814 - acc: 0.2994 - val_loss: 1.5878 - val_acc: 0.2785\n",
            "Epoch 77/200\n",
            "157/157 [==============================] - 2s 10ms/step - loss: 1.6032 - acc: 0.3121 - val_loss: 1.6360 - val_acc: 0.2405\n",
            "Epoch 78/200\n",
            "157/157 [==============================] - 2s 10ms/step - loss: 1.6536 - acc: 0.2357 - val_loss: 1.6183 - val_acc: 0.2405\n",
            "Epoch 79/200\n",
            "157/157 [==============================] - 2s 10ms/step - loss: 1.6313 - acc: 0.2548 - val_loss: 1.6562 - val_acc: 0.2405\n",
            "Epoch 80/200\n",
            "157/157 [==============================] - 2s 10ms/step - loss: 1.6756 - acc: 0.2229 - val_loss: 1.7144 - val_acc: 0.2405\n",
            "Epoch 81/200\n",
            "157/157 [==============================] - 2s 10ms/step - loss: 1.6447 - acc: 0.2357 - val_loss: 1.6322 - val_acc: 0.2405\n",
            "Epoch 82/200\n",
            "157/157 [==============================] - 2s 10ms/step - loss: 1.6407 - acc: 0.2293 - val_loss: 1.5878 - val_acc: 0.2405\n",
            "Epoch 83/200\n",
            "157/157 [==============================] - 2s 10ms/step - loss: 1.6418 - acc: 0.3121 - val_loss: 1.6286 - val_acc: 0.2532\n",
            "Epoch 84/200\n",
            "157/157 [==============================] - 2s 10ms/step - loss: 1.6632 - acc: 0.2484 - val_loss: 1.7376 - val_acc: 0.2532\n",
            "Epoch 85/200\n",
            "157/157 [==============================] - 2s 10ms/step - loss: 1.6265 - acc: 0.2357 - val_loss: 1.6800 - val_acc: 0.2532\n",
            "Epoch 86/200\n",
            "157/157 [==============================] - 2s 10ms/step - loss: 1.6111 - acc: 0.2038 - val_loss: 1.8964 - val_acc: 0.2658\n",
            "Epoch 87/200\n",
            "157/157 [==============================] - 2s 10ms/step - loss: 1.6366 - acc: 0.2611 - val_loss: 1.7250 - val_acc: 0.2405\n",
            "Epoch 88/200\n",
            "157/157 [==============================] - 2s 10ms/step - loss: 1.6608 - acc: 0.2484 - val_loss: 1.6587 - val_acc: 0.2405\n",
            "Epoch 89/200\n",
            "157/157 [==============================] - 2s 10ms/step - loss: 1.6335 - acc: 0.2611 - val_loss: 1.6023 - val_acc: 0.2405\n",
            "Epoch 90/200\n",
            "157/157 [==============================] - 2s 10ms/step - loss: 1.6327 - acc: 0.1975 - val_loss: 1.5687 - val_acc: 0.2532\n",
            "Epoch 91/200\n",
            "157/157 [==============================] - 2s 10ms/step - loss: 1.6237 - acc: 0.2866 - val_loss: 1.6136 - val_acc: 0.2658\n",
            "Epoch 92/200\n",
            "157/157 [==============================] - 1s 10ms/step - loss: 1.5895 - acc: 0.3121 - val_loss: 1.6840 - val_acc: 0.2405\n",
            "Epoch 93/200\n",
            "157/157 [==============================] - 2s 10ms/step - loss: 1.6043 - acc: 0.2102 - val_loss: 1.7033 - val_acc: 0.2405\n",
            "Epoch 94/200\n",
            "157/157 [==============================] - 2s 10ms/step - loss: 1.5975 - acc: 0.1592 - val_loss: 1.6364 - val_acc: 0.2405\n",
            "Epoch 95/200\n",
            "157/157 [==============================] - 2s 10ms/step - loss: 1.5739 - acc: 0.3121 - val_loss: 1.7845 - val_acc: 0.2405\n",
            "Epoch 96/200\n",
            "157/157 [==============================] - 2s 10ms/step - loss: 1.6038 - acc: 0.2675 - val_loss: 1.6385 - val_acc: 0.2405\n",
            "Epoch 97/200\n",
            "157/157 [==============================] - 2s 10ms/step - loss: 1.5587 - acc: 0.2866 - val_loss: 1.6452 - val_acc: 0.2658\n",
            "Epoch 98/200\n",
            "157/157 [==============================] - 2s 10ms/step - loss: 1.5586 - acc: 0.2357 - val_loss: 1.6817 - val_acc: 0.2658\n",
            "Epoch 99/200\n",
            "157/157 [==============================] - 2s 10ms/step - loss: 1.5482 - acc: 0.3121 - val_loss: 1.6651 - val_acc: 0.2658\n",
            "Epoch 100/200\n",
            "157/157 [==============================] - 2s 10ms/step - loss: 1.5456 - acc: 0.2548 - val_loss: 1.7080 - val_acc: 0.2658\n",
            "Epoch 101/200\n",
            "157/157 [==============================] - 2s 10ms/step - loss: 1.5707 - acc: 0.2420 - val_loss: 1.7483 - val_acc: 0.2658\n",
            "Epoch 102/200\n",
            "157/157 [==============================] - 2s 10ms/step - loss: 1.5615 - acc: 0.2803 - val_loss: 1.7843 - val_acc: 0.2658\n",
            "Epoch 103/200\n",
            "157/157 [==============================] - 2s 10ms/step - loss: 1.5764 - acc: 0.2357 - val_loss: 1.7045 - val_acc: 0.2405\n",
            "Epoch 104/200\n",
            "157/157 [==============================] - 2s 10ms/step - loss: 1.6012 - acc: 0.2229 - val_loss: 1.5405 - val_acc: 0.2405\n",
            "Epoch 105/200\n",
            "157/157 [==============================] - 2s 10ms/step - loss: 1.5534 - acc: 0.2293 - val_loss: 1.5506 - val_acc: 0.2405\n",
            "Epoch 106/200\n",
            "157/157 [==============================] - 2s 10ms/step - loss: 1.5657 - acc: 0.2739 - val_loss: 1.5488 - val_acc: 0.2658\n",
            "Epoch 107/200\n",
            "157/157 [==============================] - 2s 10ms/step - loss: 1.5629 - acc: 0.2611 - val_loss: 1.5353 - val_acc: 0.2785\n",
            "Epoch 108/200\n",
            "157/157 [==============================] - 2s 10ms/step - loss: 1.5633 - acc: 0.2675 - val_loss: 1.5403 - val_acc: 0.2405\n",
            "Epoch 109/200\n",
            "157/157 [==============================] - 2s 10ms/step - loss: 1.5658 - acc: 0.2675 - val_loss: 1.5836 - val_acc: 0.2405\n",
            "Epoch 110/200\n",
            "157/157 [==============================] - 2s 10ms/step - loss: 1.5713 - acc: 0.2803 - val_loss: 1.6312 - val_acc: 0.2405\n",
            "Epoch 111/200\n",
            "157/157 [==============================] - 2s 10ms/step - loss: 1.5750 - acc: 0.1847 - val_loss: 2.0911 - val_acc: 0.2532\n",
            "Epoch 112/200\n",
            "157/157 [==============================] - 2s 10ms/step - loss: 1.5452 - acc: 0.2420 - val_loss: 1.7843 - val_acc: 0.2532\n",
            "Epoch 113/200\n",
            "157/157 [==============================] - 2s 10ms/step - loss: 1.5670 - acc: 0.2420 - val_loss: 1.8507 - val_acc: 0.2532\n",
            "Epoch 114/200\n",
            "157/157 [==============================] - 2s 10ms/step - loss: 1.5653 - acc: 0.2548 - val_loss: 1.6741 - val_acc: 0.2532\n",
            "Epoch 115/200\n",
            "157/157 [==============================] - 2s 10ms/step - loss: 1.5603 - acc: 0.2675 - val_loss: 1.7017 - val_acc: 0.2532\n",
            "Epoch 116/200\n",
            "157/157 [==============================] - 2s 10ms/step - loss: 1.5452 - acc: 0.2930 - val_loss: 1.7921 - val_acc: 0.2405\n",
            "Epoch 117/200\n",
            "157/157 [==============================] - 2s 10ms/step - loss: 1.5827 - acc: 0.2866 - val_loss: 1.7798 - val_acc: 0.2405\n",
            "Epoch 118/200\n",
            "157/157 [==============================] - 2s 10ms/step - loss: 1.5804 - acc: 0.2293 - val_loss: 1.6623 - val_acc: 0.2405\n",
            "Epoch 119/200\n",
            "157/157 [==============================] - 2s 10ms/step - loss: 1.5608 - acc: 0.2484 - val_loss: 1.6104 - val_acc: 0.2532\n",
            "Epoch 120/200\n",
            "157/157 [==============================] - 2s 10ms/step - loss: 1.5718 - acc: 0.2420 - val_loss: 1.6022 - val_acc: 0.2405\n",
            "Epoch 121/200\n",
            "157/157 [==============================] - 2s 10ms/step - loss: 1.5664 - acc: 0.2420 - val_loss: 1.6227 - val_acc: 0.2405\n",
            "Epoch 122/200\n",
            "157/157 [==============================] - 2s 10ms/step - loss: 1.5552 - acc: 0.2484 - val_loss: 1.5947 - val_acc: 0.2405\n",
            "Epoch 123/200\n",
            "157/157 [==============================] - 2s 10ms/step - loss: 1.5467 - acc: 0.2611 - val_loss: 1.6212 - val_acc: 0.2405\n",
            "Epoch 124/200\n",
            "157/157 [==============================] - 2s 10ms/step - loss: 1.5412 - acc: 0.2166 - val_loss: 1.6090 - val_acc: 0.2405\n",
            "Epoch 125/200\n",
            "157/157 [==============================] - 2s 10ms/step - loss: 1.5377 - acc: 0.1783 - val_loss: 1.5877 - val_acc: 0.2405\n",
            "Epoch 126/200\n",
            "157/157 [==============================] - 2s 10ms/step - loss: 1.5492 - acc: 0.2420 - val_loss: 1.5390 - val_acc: 0.2785\n",
            "Epoch 127/200\n",
            "157/157 [==============================] - 2s 10ms/step - loss: 1.5214 - acc: 0.2803 - val_loss: 1.5517 - val_acc: 0.2405\n",
            "Epoch 128/200\n",
            "157/157 [==============================] - 2s 10ms/step - loss: 1.4861 - acc: 0.2484 - val_loss: 1.4908 - val_acc: 0.2405\n",
            "Epoch 129/200\n",
            "157/157 [==============================] - 2s 10ms/step - loss: 1.4688 - acc: 0.2548 - val_loss: 1.4955 - val_acc: 0.2405\n",
            "Epoch 130/200\n",
            "157/157 [==============================] - 2s 10ms/step - loss: 1.4872 - acc: 0.2803 - val_loss: 1.4903 - val_acc: 0.2405\n",
            "Epoch 131/200\n",
            "157/157 [==============================] - 2s 10ms/step - loss: 1.4857 - acc: 0.2611 - val_loss: 1.4790 - val_acc: 0.2405\n",
            "Epoch 132/200\n",
            "157/157 [==============================] - 2s 10ms/step - loss: 1.4930 - acc: 0.2994 - val_loss: 1.5232 - val_acc: 0.2658\n",
            "Epoch 133/200\n",
            "157/157 [==============================] - 2s 10ms/step - loss: 1.4969 - acc: 0.2803 - val_loss: 1.5062 - val_acc: 0.2658\n",
            "Epoch 134/200\n",
            "157/157 [==============================] - 2s 10ms/step - loss: 1.4988 - acc: 0.2357 - val_loss: 1.5040 - val_acc: 0.2658\n",
            "Epoch 135/200\n",
            "157/157 [==============================] - 2s 10ms/step - loss: 1.4859 - acc: 0.2994 - val_loss: 1.4975 - val_acc: 0.2658\n",
            "Epoch 136/200\n",
            "157/157 [==============================] - 2s 10ms/step - loss: 1.4839 - acc: 0.2420 - val_loss: 1.5040 - val_acc: 0.2658\n",
            "Epoch 137/200\n",
            "157/157 [==============================] - 2s 10ms/step - loss: 1.4836 - acc: 0.2675 - val_loss: 1.4901 - val_acc: 0.2405\n",
            "Epoch 138/200\n",
            "157/157 [==============================] - 2s 10ms/step - loss: 1.4763 - acc: 0.2611 - val_loss: 1.4837 - val_acc: 0.2658\n",
            "Epoch 139/200\n",
            "157/157 [==============================] - 2s 10ms/step - loss: 1.4762 - acc: 0.2739 - val_loss: 1.5021 - val_acc: 0.2405\n",
            "Epoch 140/200\n",
            "157/157 [==============================] - 1s 9ms/step - loss: 1.4889 - acc: 0.2803 - val_loss: 1.5495 - val_acc: 0.2658\n",
            "Epoch 141/200\n",
            "157/157 [==============================] - 2s 10ms/step - loss: 1.4908 - acc: 0.2675 - val_loss: 1.4705 - val_acc: 0.2405\n",
            "Epoch 142/200\n",
            "157/157 [==============================] - 2s 10ms/step - loss: 1.4603 - acc: 0.2548 - val_loss: 1.4651 - val_acc: 0.2405\n",
            "Epoch 143/200\n",
            "157/157 [==============================] - 2s 10ms/step - loss: 1.4689 - acc: 0.2102 - val_loss: 1.4745 - val_acc: 0.2405\n",
            "Epoch 144/200\n",
            "157/157 [==============================] - 2s 10ms/step - loss: 1.4557 - acc: 0.2803 - val_loss: 1.4491 - val_acc: 0.2405\n",
            "Epoch 145/200\n",
            "157/157 [==============================] - 2s 10ms/step - loss: 1.4503 - acc: 0.3121 - val_loss: 1.4584 - val_acc: 0.2025\n",
            "Epoch 146/200\n",
            "157/157 [==============================] - 2s 10ms/step - loss: 1.4598 - acc: 0.2866 - val_loss: 1.4553 - val_acc: 0.2911\n",
            "Epoch 147/200\n",
            "157/157 [==============================] - 2s 10ms/step - loss: 1.4582 - acc: 0.2420 - val_loss: 1.4611 - val_acc: 0.2405\n",
            "Epoch 148/200\n",
            "157/157 [==============================] - 2s 10ms/step - loss: 1.4641 - acc: 0.2803 - val_loss: 1.4820 - val_acc: 0.2405\n",
            "Epoch 149/200\n",
            "157/157 [==============================] - 2s 10ms/step - loss: 1.4629 - acc: 0.2357 - val_loss: 1.4562 - val_acc: 0.2532\n",
            "Epoch 150/200\n",
            "157/157 [==============================] - 2s 10ms/step - loss: 1.4526 - acc: 0.2611 - val_loss: 1.4556 - val_acc: 0.2532\n",
            "Epoch 151/200\n",
            "157/157 [==============================] - 2s 10ms/step - loss: 1.4486 - acc: 0.2611 - val_loss: 1.4546 - val_acc: 0.2532\n",
            "Epoch 152/200\n",
            "157/157 [==============================] - 2s 10ms/step - loss: 1.4546 - acc: 0.2675 - val_loss: 1.4537 - val_acc: 0.2532\n",
            "Epoch 153/200\n",
            "157/157 [==============================] - 2s 10ms/step - loss: 1.4684 - acc: 0.2357 - val_loss: 1.4613 - val_acc: 0.2658\n",
            "Epoch 154/200\n",
            "157/157 [==============================] - 2s 10ms/step - loss: 1.4487 - acc: 0.2484 - val_loss: 1.4432 - val_acc: 0.2658\n",
            "Epoch 155/200\n",
            "157/157 [==============================] - 2s 10ms/step - loss: 1.4575 - acc: 0.2675 - val_loss: 1.4571 - val_acc: 0.2658\n",
            "Epoch 156/200\n",
            "157/157 [==============================] - 2s 10ms/step - loss: 1.4631 - acc: 0.2803 - val_loss: 1.4838 - val_acc: 0.2658\n",
            "Epoch 157/200\n",
            "157/157 [==============================] - 2s 10ms/step - loss: 1.4629 - acc: 0.2548 - val_loss: 1.4686 - val_acc: 0.2658\n",
            "Epoch 158/200\n",
            "157/157 [==============================] - 2s 10ms/step - loss: 1.4565 - acc: 0.2866 - val_loss: 1.4604 - val_acc: 0.2658\n",
            "Epoch 159/200\n",
            "157/157 [==============================] - 2s 10ms/step - loss: 1.4649 - acc: 0.2420 - val_loss: 1.4626 - val_acc: 0.2658\n",
            "Epoch 160/200\n",
            "157/157 [==============================] - 2s 10ms/step - loss: 1.4624 - acc: 0.2357 - val_loss: 1.4636 - val_acc: 0.2658\n",
            "Epoch 161/200\n",
            "157/157 [==============================] - 2s 10ms/step - loss: 1.4666 - acc: 0.2675 - val_loss: 1.4621 - val_acc: 0.2658\n",
            "Epoch 162/200\n",
            "157/157 [==============================] - 2s 10ms/step - loss: 1.4614 - acc: 0.2803 - val_loss: 1.4610 - val_acc: 0.2658\n",
            "Epoch 163/200\n",
            "157/157 [==============================] - 2s 10ms/step - loss: 1.4622 - acc: 0.2484 - val_loss: 1.4536 - val_acc: 0.2658\n",
            "Epoch 164/200\n",
            "157/157 [==============================] - 2s 10ms/step - loss: 1.4533 - acc: 0.2548 - val_loss: 1.4440 - val_acc: 0.2658\n",
            "Epoch 165/200\n",
            "157/157 [==============================] - 2s 10ms/step - loss: 1.4432 - acc: 0.2611 - val_loss: 1.4434 - val_acc: 0.2658\n",
            "Epoch 166/200\n",
            "157/157 [==============================] - 2s 10ms/step - loss: 1.4454 - acc: 0.2357 - val_loss: 1.4429 - val_acc: 0.2658\n",
            "Epoch 167/200\n",
            "157/157 [==============================] - 2s 10ms/step - loss: 1.4369 - acc: 0.2611 - val_loss: 1.4335 - val_acc: 0.2658\n",
            "Epoch 168/200\n",
            "157/157 [==============================] - 2s 10ms/step - loss: 1.4249 - acc: 0.2293 - val_loss: 1.4177 - val_acc: 0.2532\n",
            "Epoch 169/200\n",
            "157/157 [==============================] - 2s 10ms/step - loss: 1.4204 - acc: 0.2548 - val_loss: 1.4175 - val_acc: 0.2532\n",
            "Epoch 170/200\n",
            "157/157 [==============================] - 2s 10ms/step - loss: 1.4198 - acc: 0.2675 - val_loss: 1.4174 - val_acc: 0.2532\n",
            "Epoch 171/200\n",
            "157/157 [==============================] - 2s 10ms/step - loss: 1.4136 - acc: 0.2739 - val_loss: 1.4011 - val_acc: 0.2658\n",
            "Epoch 172/200\n",
            "157/157 [==============================] - 2s 10ms/step - loss: 1.4056 - acc: 0.2548 - val_loss: 1.3919 - val_acc: 0.2658\n",
            "Epoch 173/200\n",
            "157/157 [==============================] - 2s 10ms/step - loss: 1.3993 - acc: 0.2866 - val_loss: 1.3917 - val_acc: 0.2658\n",
            "Epoch 174/200\n",
            "157/157 [==============================] - 2s 10ms/step - loss: 1.4015 - acc: 0.2484 - val_loss: 1.4007 - val_acc: 0.2658\n",
            "Epoch 175/200\n",
            "157/157 [==============================] - 2s 10ms/step - loss: 1.4033 - acc: 0.2484 - val_loss: 1.4006 - val_acc: 0.2658\n",
            "Epoch 176/200\n",
            "157/157 [==============================] - 2s 10ms/step - loss: 1.3938 - acc: 0.2675 - val_loss: 1.3914 - val_acc: 0.2658\n",
            "Epoch 177/200\n",
            "157/157 [==============================] - 2s 10ms/step - loss: 1.3923 - acc: 0.2611 - val_loss: 1.4079 - val_acc: 0.2532\n",
            "Epoch 178/200\n",
            "157/157 [==============================] - 2s 10ms/step - loss: 1.3952 - acc: 0.2675 - val_loss: 1.3912 - val_acc: 0.2658\n",
            "Epoch 179/200\n",
            "157/157 [==============================] - 2s 10ms/step - loss: 1.3924 - acc: 0.2739 - val_loss: 1.3911 - val_acc: 0.2658\n",
            "Epoch 180/200\n",
            "157/157 [==============================] - 2s 10ms/step - loss: 1.3917 - acc: 0.2420 - val_loss: 1.3911 - val_acc: 0.2658\n",
            "Epoch 181/200\n",
            "157/157 [==============================] - 2s 10ms/step - loss: 1.3915 - acc: 0.2548 - val_loss: 1.3910 - val_acc: 0.2658\n",
            "Epoch 182/200\n",
            "157/157 [==============================] - 2s 10ms/step - loss: 1.3924 - acc: 0.2675 - val_loss: 1.3909 - val_acc: 0.2658\n",
            "Epoch 183/200\n",
            "157/157 [==============================] - 2s 10ms/step - loss: 1.3928 - acc: 0.2739 - val_loss: 1.3909 - val_acc: 0.2658\n",
            "Epoch 184/200\n",
            "157/157 [==============================] - 2s 10ms/step - loss: 1.3919 - acc: 0.2484 - val_loss: 1.3908 - val_acc: 0.2658\n",
            "Epoch 185/200\n",
            "157/157 [==============================] - 2s 10ms/step - loss: 1.3921 - acc: 0.2548 - val_loss: 1.3908 - val_acc: 0.2658\n",
            "Epoch 186/200\n",
            "157/157 [==============================] - 2s 10ms/step - loss: 1.4011 - acc: 0.2484 - val_loss: 1.3999 - val_acc: 0.2658\n",
            "Epoch 187/200\n",
            "157/157 [==============================] - 2s 10ms/step - loss: 1.4016 - acc: 0.2484 - val_loss: 1.3998 - val_acc: 0.2658\n",
            "Epoch 188/200\n",
            "157/157 [==============================] - 2s 10ms/step - loss: 1.4023 - acc: 0.2611 - val_loss: 1.3998 - val_acc: 0.2658\n",
            "Epoch 189/200\n",
            "157/157 [==============================] - 2s 10ms/step - loss: 1.3998 - acc: 0.2803 - val_loss: 1.3998 - val_acc: 0.2658\n",
            "Epoch 190/200\n",
            "157/157 [==============================] - 2s 10ms/step - loss: 1.4028 - acc: 0.2739 - val_loss: 1.3997 - val_acc: 0.2658\n",
            "Epoch 191/200\n",
            "157/157 [==============================] - 2s 10ms/step - loss: 1.4015 - acc: 0.2548 - val_loss: 1.3997 - val_acc: 0.2658\n",
            "Epoch 192/200\n",
            "157/157 [==============================] - 2s 10ms/step - loss: 1.3999 - acc: 0.2548 - val_loss: 1.3997 - val_acc: 0.2658\n",
            "Epoch 193/200\n",
            "157/157 [==============================] - 2s 10ms/step - loss: 1.4024 - acc: 0.2293 - val_loss: 1.3997 - val_acc: 0.2658\n",
            "Epoch 194/200\n",
            "157/157 [==============================] - 2s 10ms/step - loss: 1.4093 - acc: 0.2484 - val_loss: 1.4097 - val_acc: 0.2532\n",
            "Epoch 195/200\n",
            "157/157 [==============================] - 2s 10ms/step - loss: 1.4100 - acc: 0.2611 - val_loss: 1.4005 - val_acc: 0.2532\n",
            "Epoch 196/200\n",
            "157/157 [==============================] - 2s 10ms/step - loss: 1.4007 - acc: 0.2675 - val_loss: 1.4003 - val_acc: 0.2532\n",
            "Epoch 197/200\n",
            "157/157 [==============================] - 2s 10ms/step - loss: 1.4002 - acc: 0.2484 - val_loss: 1.4003 - val_acc: 0.2532\n",
            "Epoch 198/200\n",
            "157/157 [==============================] - 2s 10ms/step - loss: 1.4009 - acc: 0.2930 - val_loss: 1.4002 - val_acc: 0.2532\n",
            "Epoch 199/200\n",
            "157/157 [==============================] - 2s 10ms/step - loss: 1.3999 - acc: 0.2803 - val_loss: 1.4000 - val_acc: 0.2532\n",
            "Epoch 200/200\n",
            "157/157 [==============================] - 2s 10ms/step - loss: 1.4003 - acc: 0.2675 - val_loss: 1.4000 - val_acc: 0.2532\n",
            "79/79 [==============================] - 0s 3ms/step\n",
            "########## TEST ACCURACY  0.25316455696202533\n",
            "Train on 158 samples, validate on 78 samples\n",
            "Epoch 1/200\n",
            "158/158 [==============================] - 7s 47ms/step - loss: 3.0662 - acc: 0.2722 - val_loss: 2.7945 - val_acc: 0.3077\n",
            "Epoch 2/200\n",
            "158/158 [==============================] - 2s 10ms/step - loss: 3.0244 - acc: 0.3038 - val_loss: 2.6544 - val_acc: 0.2564\n",
            "Epoch 3/200\n",
            "158/158 [==============================] - 2s 10ms/step - loss: 2.8158 - acc: 0.3291 - val_loss: 2.4820 - val_acc: 0.2564\n",
            "Epoch 4/200\n",
            "158/158 [==============================] - 2s 10ms/step - loss: 2.7947 - acc: 0.2785 - val_loss: 2.1456 - val_acc: 0.2692\n",
            "Epoch 5/200\n",
            "158/158 [==============================] - 2s 10ms/step - loss: 2.6946 - acc: 0.2658 - val_loss: 2.2225 - val_acc: 0.2564\n",
            "Epoch 6/200\n",
            "158/158 [==============================] - 2s 10ms/step - loss: 2.7418 - acc: 0.2532 - val_loss: 2.1029 - val_acc: 0.2179\n",
            "Epoch 7/200\n",
            "158/158 [==============================] - 2s 10ms/step - loss: 2.4879 - acc: 0.2342 - val_loss: 2.0772 - val_acc: 0.2564\n",
            "Epoch 8/200\n",
            "158/158 [==============================] - 2s 10ms/step - loss: 2.5401 - acc: 0.2468 - val_loss: 2.0350 - val_acc: 0.2564\n",
            "Epoch 9/200\n",
            "158/158 [==============================] - 2s 10ms/step - loss: 2.4281 - acc: 0.2911 - val_loss: 2.0105 - val_acc: 0.2308\n",
            "Epoch 10/200\n",
            "158/158 [==============================] - 2s 10ms/step - loss: 2.3976 - acc: 0.2532 - val_loss: 2.0541 - val_acc: 0.2308\n",
            "Epoch 11/200\n",
            "158/158 [==============================] - 2s 10ms/step - loss: 2.5744 - acc: 0.1962 - val_loss: 2.0355 - val_acc: 0.2564\n",
            "Epoch 12/200\n",
            "158/158 [==============================] - 2s 10ms/step - loss: 2.4233 - acc: 0.2722 - val_loss: 1.9810 - val_acc: 0.2564\n",
            "Epoch 13/200\n",
            "158/158 [==============================] - 2s 10ms/step - loss: 2.3263 - acc: 0.2848 - val_loss: 2.0104 - val_acc: 0.2436\n",
            "Epoch 14/200\n",
            "158/158 [==============================] - 2s 10ms/step - loss: 2.3456 - acc: 0.2911 - val_loss: 1.9054 - val_acc: 0.2308\n",
            "Epoch 15/200\n",
            "158/158 [==============================] - 2s 10ms/step - loss: 2.3296 - acc: 0.2532 - val_loss: 1.9235 - val_acc: 0.2436\n",
            "Epoch 16/200\n",
            "158/158 [==============================] - 2s 10ms/step - loss: 2.1644 - acc: 0.2848 - val_loss: 1.9099 - val_acc: 0.2436\n",
            "Epoch 17/200\n",
            "158/158 [==============================] - 2s 10ms/step - loss: 2.2322 - acc: 0.2785 - val_loss: 1.8748 - val_acc: 0.2436\n",
            "Epoch 18/200\n",
            "158/158 [==============================] - 2s 10ms/step - loss: 2.2170 - acc: 0.2532 - val_loss: 1.8000 - val_acc: 0.2436\n",
            "Epoch 19/200\n",
            "158/158 [==============================] - 2s 10ms/step - loss: 2.2551 - acc: 0.2658 - val_loss: 1.8738 - val_acc: 0.2692\n",
            "Epoch 20/200\n",
            "158/158 [==============================] - 2s 10ms/step - loss: 2.2077 - acc: 0.2025 - val_loss: 1.8548 - val_acc: 0.2436\n",
            "Epoch 21/200\n",
            "158/158 [==============================] - 2s 10ms/step - loss: 2.0710 - acc: 0.2468 - val_loss: 1.8077 - val_acc: 0.2436\n",
            "Epoch 22/200\n",
            "158/158 [==============================] - 2s 10ms/step - loss: 2.0705 - acc: 0.2532 - val_loss: 1.7460 - val_acc: 0.2564\n",
            "Epoch 23/200\n",
            "158/158 [==============================] - 2s 10ms/step - loss: 2.0233 - acc: 0.2785 - val_loss: 1.8283 - val_acc: 0.2564\n",
            "Epoch 24/200\n",
            "158/158 [==============================] - 2s 10ms/step - loss: 2.0702 - acc: 0.2468 - val_loss: 1.8416 - val_acc: 0.2821\n",
            "Epoch 25/200\n",
            "158/158 [==============================] - 2s 10ms/step - loss: 2.0007 - acc: 0.2722 - val_loss: 1.8406 - val_acc: 0.2564\n",
            "Epoch 26/200\n",
            "158/158 [==============================] - 2s 10ms/step - loss: 2.1477 - acc: 0.2405 - val_loss: 1.8151 - val_acc: 0.2436\n",
            "Epoch 27/200\n",
            "158/158 [==============================] - 2s 10ms/step - loss: 2.0607 - acc: 0.2658 - val_loss: 1.8378 - val_acc: 0.2564\n",
            "Epoch 28/200\n",
            "158/158 [==============================] - 2s 10ms/step - loss: 1.9822 - acc: 0.2975 - val_loss: 1.6950 - val_acc: 0.2821\n",
            "Epoch 29/200\n",
            "158/158 [==============================] - 2s 10ms/step - loss: 2.0290 - acc: 0.2595 - val_loss: 1.7368 - val_acc: 0.3205\n",
            "Epoch 30/200\n",
            "158/158 [==============================] - 2s 10ms/step - loss: 1.9357 - acc: 0.2278 - val_loss: 1.6986 - val_acc: 0.2436\n",
            "Epoch 31/200\n",
            "158/158 [==============================] - 2s 10ms/step - loss: 1.9777 - acc: 0.2595 - val_loss: 1.6443 - val_acc: 0.2821\n",
            "Epoch 32/200\n",
            "158/158 [==============================] - 2s 10ms/step - loss: 1.9248 - acc: 0.2785 - val_loss: 1.6850 - val_acc: 0.2436\n",
            "Epoch 33/200\n",
            "158/158 [==============================] - 2s 10ms/step - loss: 1.8938 - acc: 0.2848 - val_loss: 1.6844 - val_acc: 0.2436\n",
            "Epoch 34/200\n",
            "158/158 [==============================] - 2s 10ms/step - loss: 1.9124 - acc: 0.2532 - val_loss: 1.6032 - val_acc: 0.2436\n",
            "Epoch 35/200\n",
            "158/158 [==============================] - 2s 10ms/step - loss: 1.8945 - acc: 0.2342 - val_loss: 1.6271 - val_acc: 0.2564\n",
            "Epoch 36/200\n",
            "158/158 [==============================] - 2s 10ms/step - loss: 1.8453 - acc: 0.2595 - val_loss: 1.6241 - val_acc: 0.2692\n",
            "Epoch 37/200\n",
            "158/158 [==============================] - 2s 10ms/step - loss: 1.9099 - acc: 0.2532 - val_loss: 1.6234 - val_acc: 0.2821\n",
            "Epoch 38/200\n",
            "158/158 [==============================] - 2s 10ms/step - loss: 1.8992 - acc: 0.2468 - val_loss: 1.6278 - val_acc: 0.2308\n",
            "Epoch 39/200\n",
            "158/158 [==============================] - 2s 10ms/step - loss: 1.8918 - acc: 0.2722 - val_loss: 1.7124 - val_acc: 0.2564\n",
            "Epoch 40/200\n",
            "158/158 [==============================] - 2s 10ms/step - loss: 1.8645 - acc: 0.2405 - val_loss: 1.6350 - val_acc: 0.2436\n",
            "Epoch 41/200\n",
            "158/158 [==============================] - 2s 10ms/step - loss: 1.8547 - acc: 0.2278 - val_loss: 1.6920 - val_acc: 0.2308\n",
            "Epoch 42/200\n",
            "158/158 [==============================] - 2s 10ms/step - loss: 1.8678 - acc: 0.2658 - val_loss: 1.7356 - val_acc: 0.2436\n",
            "Epoch 43/200\n",
            "158/158 [==============================] - 2s 10ms/step - loss: 1.7661 - acc: 0.2722 - val_loss: 1.7536 - val_acc: 0.2436\n",
            "Epoch 44/200\n",
            "158/158 [==============================] - 2s 10ms/step - loss: 1.9191 - acc: 0.2342 - val_loss: 1.6586 - val_acc: 0.2692\n",
            "Epoch 45/200\n",
            "158/158 [==============================] - 2s 10ms/step - loss: 1.8672 - acc: 0.1962 - val_loss: 1.7778 - val_acc: 0.2436\n",
            "Epoch 46/200\n",
            "158/158 [==============================] - 2s 10ms/step - loss: 1.7899 - acc: 0.2342 - val_loss: 1.6286 - val_acc: 0.2436\n",
            "Epoch 47/200\n",
            "158/158 [==============================] - 2s 10ms/step - loss: 1.8489 - acc: 0.2468 - val_loss: 1.6312 - val_acc: 0.2051\n",
            "Epoch 48/200\n",
            "158/158 [==============================] - 2s 10ms/step - loss: 1.7885 - acc: 0.2342 - val_loss: 1.6172 - val_acc: 0.2564\n",
            "Epoch 49/200\n",
            "158/158 [==============================] - 2s 10ms/step - loss: 1.7718 - acc: 0.2468 - val_loss: 1.6225 - val_acc: 0.2564\n",
            "Epoch 50/200\n",
            "158/158 [==============================] - 2s 10ms/step - loss: 1.7563 - acc: 0.2975 - val_loss: 1.6191 - val_acc: 0.2692\n",
            "Epoch 51/200\n",
            "158/158 [==============================] - 2s 10ms/step - loss: 1.7957 - acc: 0.2089 - val_loss: 1.6148 - val_acc: 0.2564\n",
            "Epoch 52/200\n",
            "158/158 [==============================] - 2s 10ms/step - loss: 1.6923 - acc: 0.2722 - val_loss: 1.6235 - val_acc: 0.2564\n",
            "Epoch 53/200\n",
            "158/158 [==============================] - 2s 10ms/step - loss: 1.7437 - acc: 0.1962 - val_loss: 1.6007 - val_acc: 0.2436\n",
            "Epoch 54/200\n",
            "158/158 [==============================] - 2s 10ms/step - loss: 1.7192 - acc: 0.2468 - val_loss: 1.5907 - val_acc: 0.2692\n",
            "Epoch 55/200\n",
            "158/158 [==============================] - 2s 10ms/step - loss: 1.6940 - acc: 0.2911 - val_loss: 1.6291 - val_acc: 0.2564\n",
            "Epoch 56/200\n",
            "158/158 [==============================] - 2s 10ms/step - loss: 1.7009 - acc: 0.2595 - val_loss: 1.5908 - val_acc: 0.2564\n",
            "Epoch 57/200\n",
            "158/158 [==============================] - 2s 10ms/step - loss: 1.6940 - acc: 0.2468 - val_loss: 1.5879 - val_acc: 0.2564\n",
            "Epoch 58/200\n",
            "158/158 [==============================] - 2s 10ms/step - loss: 1.6781 - acc: 0.2722 - val_loss: 1.5861 - val_acc: 0.2564\n",
            "Epoch 59/200\n",
            "158/158 [==============================] - 2s 10ms/step - loss: 1.6541 - acc: 0.2152 - val_loss: 1.5944 - val_acc: 0.2564\n",
            "Epoch 60/200\n",
            "158/158 [==============================] - 2s 10ms/step - loss: 1.6836 - acc: 0.2215 - val_loss: 1.6186 - val_acc: 0.2564\n",
            "Epoch 61/200\n",
            "158/158 [==============================] - 2s 10ms/step - loss: 1.6615 - acc: 0.2658 - val_loss: 1.5784 - val_acc: 0.2564\n",
            "Epoch 62/200\n",
            "158/158 [==============================] - 2s 10ms/step - loss: 1.6774 - acc: 0.2278 - val_loss: 1.6009 - val_acc: 0.2564\n",
            "Epoch 63/200\n",
            "158/158 [==============================] - 2s 10ms/step - loss: 1.6550 - acc: 0.2278 - val_loss: 1.6019 - val_acc: 0.2564\n",
            "Epoch 64/200\n",
            "158/158 [==============================] - 2s 10ms/step - loss: 1.6300 - acc: 0.2911 - val_loss: 1.5474 - val_acc: 0.2564\n",
            "Epoch 65/200\n",
            "158/158 [==============================] - 2s 10ms/step - loss: 1.6439 - acc: 0.2405 - val_loss: 1.5445 - val_acc: 0.2692\n",
            "Epoch 66/200\n",
            "158/158 [==============================] - 2s 10ms/step - loss: 1.5727 - acc: 0.3291 - val_loss: 1.5401 - val_acc: 0.2436\n",
            "Epoch 67/200\n",
            "158/158 [==============================] - 2s 10ms/step - loss: 1.6778 - acc: 0.2025 - val_loss: 1.5523 - val_acc: 0.2564\n",
            "Epoch 68/200\n",
            "158/158 [==============================] - 2s 10ms/step - loss: 1.6022 - acc: 0.2532 - val_loss: 1.6588 - val_acc: 0.2436\n",
            "Epoch 69/200\n",
            "158/158 [==============================] - 2s 10ms/step - loss: 1.6077 - acc: 0.2405 - val_loss: 1.6497 - val_acc: 0.2436\n",
            "Epoch 70/200\n",
            "158/158 [==============================] - 2s 10ms/step - loss: 1.6280 - acc: 0.2342 - val_loss: 1.6060 - val_acc: 0.2436\n",
            "Epoch 71/200\n",
            "158/158 [==============================] - 2s 10ms/step - loss: 1.6460 - acc: 0.2342 - val_loss: 1.5512 - val_acc: 0.2436\n",
            "Epoch 72/200\n",
            "158/158 [==============================] - 2s 10ms/step - loss: 1.6708 - acc: 0.2785 - val_loss: 1.5331 - val_acc: 0.2692\n",
            "Epoch 73/200\n",
            "158/158 [==============================] - 2s 10ms/step - loss: 1.5795 - acc: 0.3354 - val_loss: 1.5401 - val_acc: 0.2436\n",
            "Epoch 74/200\n",
            "158/158 [==============================] - 2s 10ms/step - loss: 1.5785 - acc: 0.2785 - val_loss: 1.6777 - val_acc: 0.2436\n",
            "Epoch 75/200\n",
            "158/158 [==============================] - 2s 10ms/step - loss: 1.5667 - acc: 0.2911 - val_loss: 1.5501 - val_acc: 0.2564\n",
            "Epoch 76/200\n",
            "158/158 [==============================] - 2s 10ms/step - loss: 1.6240 - acc: 0.2342 - val_loss: 1.5609 - val_acc: 0.2564\n",
            "Epoch 77/200\n",
            "158/158 [==============================] - 2s 10ms/step - loss: 1.5470 - acc: 0.2975 - val_loss: 1.6037 - val_acc: 0.2564\n",
            "Epoch 78/200\n",
            "158/158 [==============================] - 2s 10ms/step - loss: 1.6284 - acc: 0.2152 - val_loss: 1.6703 - val_acc: 0.2564\n",
            "Epoch 79/200\n",
            "158/158 [==============================] - 2s 10ms/step - loss: 1.6532 - acc: 0.2215 - val_loss: 1.5758 - val_acc: 0.2436\n",
            "Epoch 80/200\n",
            "158/158 [==============================] - 2s 10ms/step - loss: 1.6071 - acc: 0.2405 - val_loss: 1.6015 - val_acc: 0.2436\n",
            "Epoch 81/200\n",
            "158/158 [==============================] - 2s 10ms/step - loss: 1.6140 - acc: 0.2532 - val_loss: 1.5974 - val_acc: 0.2436\n",
            "Epoch 82/200\n",
            "158/158 [==============================] - 2s 10ms/step - loss: 1.5650 - acc: 0.2658 - val_loss: 1.6216 - val_acc: 0.2436\n",
            "Epoch 83/200\n",
            "158/158 [==============================] - 2s 10ms/step - loss: 1.5534 - acc: 0.2848 - val_loss: 1.5526 - val_acc: 0.2436\n",
            "Epoch 84/200\n",
            "158/158 [==============================] - 2s 10ms/step - loss: 1.5826 - acc: 0.2722 - val_loss: 1.5703 - val_acc: 0.2436\n",
            "Epoch 85/200\n",
            "158/158 [==============================] - 2s 10ms/step - loss: 1.5897 - acc: 0.2532 - val_loss: 1.6372 - val_acc: 0.2436\n",
            "Epoch 86/200\n",
            "158/158 [==============================] - 2s 10ms/step - loss: 1.5386 - acc: 0.2785 - val_loss: 1.6173 - val_acc: 0.2436\n",
            "Epoch 87/200\n",
            "158/158 [==============================] - 2s 10ms/step - loss: 1.5760 - acc: 0.2215 - val_loss: 1.6568 - val_acc: 0.2564\n",
            "Epoch 88/200\n",
            "158/158 [==============================] - 2s 10ms/step - loss: 1.5516 - acc: 0.2848 - val_loss: 2.0056 - val_acc: 0.2564\n",
            "Epoch 89/200\n",
            "158/158 [==============================] - 2s 10ms/step - loss: 1.5443 - acc: 0.2722 - val_loss: 1.6267 - val_acc: 0.2564\n",
            "Epoch 90/200\n",
            "158/158 [==============================] - 2s 10ms/step - loss: 1.5541 - acc: 0.2785 - val_loss: 1.6065 - val_acc: 0.2564\n",
            "Epoch 91/200\n",
            "158/158 [==============================] - 2s 10ms/step - loss: 1.5964 - acc: 0.2278 - val_loss: 1.6299 - val_acc: 0.2564\n",
            "Epoch 92/200\n",
            "158/158 [==============================] - 2s 10ms/step - loss: 1.5680 - acc: 0.2342 - val_loss: 1.6341 - val_acc: 0.2564\n",
            "Epoch 93/200\n",
            "158/158 [==============================] - 2s 10ms/step - loss: 1.5424 - acc: 0.2658 - val_loss: 1.7361 - val_acc: 0.2564\n",
            "Epoch 94/200\n",
            "158/158 [==============================] - 2s 10ms/step - loss: 1.5265 - acc: 0.3101 - val_loss: 1.8359 - val_acc: 0.2564\n",
            "Epoch 95/200\n",
            "158/158 [==============================] - 2s 10ms/step - loss: 1.5447 - acc: 0.2278 - val_loss: 2.0767 - val_acc: 0.2564\n",
            "Epoch 96/200\n",
            "158/158 [==============================] - 2s 10ms/step - loss: 1.5505 - acc: 0.2658 - val_loss: 1.8617 - val_acc: 0.2564\n",
            "Epoch 97/200\n",
            "158/158 [==============================] - 2s 10ms/step - loss: 1.5536 - acc: 0.2722 - val_loss: 1.5437 - val_acc: 0.2564\n",
            "Epoch 98/200\n",
            "158/158 [==============================] - 2s 10ms/step - loss: 1.5555 - acc: 0.2722 - val_loss: 1.5951 - val_acc: 0.2564\n",
            "Epoch 99/200\n",
            "158/158 [==============================] - 2s 10ms/step - loss: 1.5522 - acc: 0.3101 - val_loss: 1.5408 - val_acc: 0.2692\n",
            "Epoch 100/200\n",
            "158/158 [==============================] - 2s 10ms/step - loss: 1.5284 - acc: 0.2722 - val_loss: 1.6163 - val_acc: 0.2564\n",
            "Epoch 101/200\n",
            "158/158 [==============================] - 2s 10ms/step - loss: 1.5669 - acc: 0.2342 - val_loss: 1.5852 - val_acc: 0.2564\n",
            "Epoch 102/200\n",
            "158/158 [==============================] - 2s 10ms/step - loss: 1.5496 - acc: 0.2025 - val_loss: 1.6219 - val_acc: 0.2564\n",
            "Epoch 103/200\n",
            "158/158 [==============================] - 2s 10ms/step - loss: 1.5716 - acc: 0.2342 - val_loss: 1.5618 - val_acc: 0.2564\n",
            "Epoch 104/200\n",
            "158/158 [==============================] - 2s 10ms/step - loss: 1.5521 - acc: 0.2089 - val_loss: 1.5665 - val_acc: 0.2564\n",
            "Epoch 105/200\n",
            "158/158 [==============================] - 2s 10ms/step - loss: 1.5411 - acc: 0.2658 - val_loss: 1.5389 - val_acc: 0.2564\n",
            "Epoch 106/200\n",
            "158/158 [==============================] - 2s 10ms/step - loss: 1.5250 - acc: 0.2215 - val_loss: 1.5185 - val_acc: 0.2564\n",
            "Epoch 107/200\n",
            "158/158 [==============================] - 2s 10ms/step - loss: 1.5207 - acc: 0.2405 - val_loss: 1.6338 - val_acc: 0.2564\n",
            "Epoch 108/200\n",
            "158/158 [==============================] - 2s 10ms/step - loss: 1.5216 - acc: 0.2278 - val_loss: 1.5731 - val_acc: 0.2564\n",
            "Epoch 109/200\n",
            "158/158 [==============================] - 2s 10ms/step - loss: 1.5131 - acc: 0.2595 - val_loss: 1.5497 - val_acc: 0.2564\n",
            "Epoch 110/200\n",
            "158/158 [==============================] - 2s 10ms/step - loss: 1.4910 - acc: 0.3481 - val_loss: 1.5289 - val_acc: 0.2436\n",
            "Epoch 111/200\n",
            "158/158 [==============================] - 2s 10ms/step - loss: 1.4860 - acc: 0.2595 - val_loss: 1.5217 - val_acc: 0.2564\n",
            "Epoch 112/200\n",
            "158/158 [==============================] - 2s 10ms/step - loss: 1.4542 - acc: 0.3544 - val_loss: 1.4603 - val_acc: 0.2436\n",
            "Epoch 113/200\n",
            "158/158 [==============================] - 1s 9ms/step - loss: 1.5009 - acc: 0.2089 - val_loss: 1.5017 - val_acc: 0.2564\n",
            "Epoch 114/200\n",
            "158/158 [==============================] - 2s 10ms/step - loss: 1.4901 - acc: 0.2278 - val_loss: 1.4780 - val_acc: 0.2564\n",
            "Epoch 115/200\n",
            "158/158 [==============================] - 2s 10ms/step - loss: 1.4882 - acc: 0.2848 - val_loss: 1.5191 - val_acc: 0.2564\n",
            "Epoch 116/200\n",
            "158/158 [==============================] - 2s 10ms/step - loss: 1.5002 - acc: 0.2722 - val_loss: 1.4942 - val_acc: 0.2436\n",
            "Epoch 117/200\n",
            "158/158 [==============================] - 2s 10ms/step - loss: 1.5063 - acc: 0.2911 - val_loss: 1.4981 - val_acc: 0.2436\n",
            "Epoch 118/200\n",
            "158/158 [==============================] - 2s 10ms/step - loss: 1.5020 - acc: 0.2848 - val_loss: 1.5212 - val_acc: 0.2692\n",
            "Epoch 119/200\n",
            "158/158 [==============================] - 2s 10ms/step - loss: 1.4980 - acc: 0.2595 - val_loss: 1.5153 - val_acc: 0.2564\n",
            "Epoch 120/200\n",
            "158/158 [==============================] - 2s 10ms/step - loss: 1.5082 - acc: 0.2722 - val_loss: 1.5802 - val_acc: 0.2564\n",
            "Epoch 121/200\n",
            "158/158 [==============================] - 2s 10ms/step - loss: 1.5260 - acc: 0.2089 - val_loss: 1.5576 - val_acc: 0.2564\n",
            "Epoch 122/200\n",
            "158/158 [==============================] - 2s 10ms/step - loss: 1.5255 - acc: 0.2532 - val_loss: 1.5572 - val_acc: 0.2564\n",
            "Epoch 123/200\n",
            "158/158 [==============================] - 2s 10ms/step - loss: 1.5074 - acc: 0.2342 - val_loss: 1.5186 - val_acc: 0.2564\n",
            "Epoch 124/200\n",
            "158/158 [==============================] - 2s 10ms/step - loss: 1.5296 - acc: 0.2089 - val_loss: 1.5518 - val_acc: 0.2308\n",
            "Epoch 125/200\n",
            "158/158 [==============================] - 2s 10ms/step - loss: 1.5078 - acc: 0.2975 - val_loss: 1.5650 - val_acc: 0.2436\n",
            "Epoch 126/200\n",
            "158/158 [==============================] - 2s 10ms/step - loss: 1.5037 - acc: 0.2722 - val_loss: 1.5132 - val_acc: 0.2436\n",
            "Epoch 127/200\n",
            "158/158 [==============================] - 2s 10ms/step - loss: 1.4934 - acc: 0.2975 - val_loss: 1.5058 - val_acc: 0.2564\n",
            "Epoch 128/200\n",
            "158/158 [==============================] - 2s 10ms/step - loss: 1.5076 - acc: 0.2405 - val_loss: 1.5071 - val_acc: 0.2564\n",
            "Epoch 129/200\n",
            "158/158 [==============================] - 2s 10ms/step - loss: 1.4894 - acc: 0.2848 - val_loss: 1.4900 - val_acc: 0.2436\n",
            "Epoch 130/200\n",
            "158/158 [==============================] - 2s 10ms/step - loss: 1.4804 - acc: 0.2658 - val_loss: 1.4815 - val_acc: 0.2564\n",
            "Epoch 131/200\n",
            "158/158 [==============================] - 2s 10ms/step - loss: 1.4738 - acc: 0.2215 - val_loss: 1.4658 - val_acc: 0.2564\n",
            "Epoch 132/200\n",
            "158/158 [==============================] - 2s 10ms/step - loss: 1.4559 - acc: 0.2342 - val_loss: 1.4698 - val_acc: 0.2436\n",
            "Epoch 133/200\n",
            "158/158 [==============================] - 2s 10ms/step - loss: 1.4637 - acc: 0.2152 - val_loss: 1.4499 - val_acc: 0.2436\n",
            "Epoch 134/200\n",
            "158/158 [==============================] - 2s 10ms/step - loss: 1.4593 - acc: 0.2785 - val_loss: 1.4717 - val_acc: 0.2564\n",
            "Epoch 135/200\n",
            "158/158 [==============================] - 2s 10ms/step - loss: 1.4870 - acc: 0.2342 - val_loss: 1.5603 - val_acc: 0.2564\n",
            "Epoch 136/200\n",
            "158/158 [==============================] - 2s 10ms/step - loss: 1.4705 - acc: 0.2722 - val_loss: 1.5343 - val_acc: 0.2564\n",
            "Epoch 137/200\n",
            "158/158 [==============================] - 2s 10ms/step - loss: 1.4686 - acc: 0.2532 - val_loss: 1.5138 - val_acc: 0.2564\n",
            "Epoch 138/200\n",
            "158/158 [==============================] - 2s 10ms/step - loss: 1.4741 - acc: 0.2468 - val_loss: 1.5126 - val_acc: 0.2564\n",
            "Epoch 139/200\n",
            "158/158 [==============================] - 2s 10ms/step - loss: 1.4625 - acc: 0.2468 - val_loss: 1.5215 - val_acc: 0.2564\n",
            "Epoch 140/200\n",
            "158/158 [==============================] - 2s 10ms/step - loss: 1.4676 - acc: 0.2215 - val_loss: 1.5187 - val_acc: 0.2564\n",
            "Epoch 141/200\n",
            "158/158 [==============================] - 2s 10ms/step - loss: 1.4584 - acc: 0.2848 - val_loss: 1.5093 - val_acc: 0.2564\n",
            "Epoch 142/200\n",
            "158/158 [==============================] - 2s 10ms/step - loss: 1.4656 - acc: 0.2658 - val_loss: 1.5405 - val_acc: 0.2436\n",
            "Epoch 143/200\n",
            "158/158 [==============================] - 2s 10ms/step - loss: 1.4741 - acc: 0.2405 - val_loss: 1.5417 - val_acc: 0.2564\n",
            "Epoch 144/200\n",
            "158/158 [==============================] - 2s 10ms/step - loss: 1.4923 - acc: 0.2532 - val_loss: 1.5347 - val_acc: 0.2564\n",
            "Epoch 145/200\n",
            "158/158 [==============================] - 2s 10ms/step - loss: 1.4702 - acc: 0.2658 - val_loss: 1.5230 - val_acc: 0.2564\n",
            "Epoch 146/200\n",
            "158/158 [==============================] - 2s 10ms/step - loss: 1.4689 - acc: 0.2722 - val_loss: 1.5121 - val_acc: 0.2564\n",
            "Epoch 147/200\n",
            "158/158 [==============================] - 2s 10ms/step - loss: 1.4752 - acc: 0.2658 - val_loss: 1.4968 - val_acc: 0.2564\n",
            "Epoch 148/200\n",
            "158/158 [==============================] - 2s 10ms/step - loss: 1.4997 - acc: 0.2405 - val_loss: 1.5350 - val_acc: 0.2436\n",
            "Epoch 149/200\n",
            "158/158 [==============================] - 2s 10ms/step - loss: 1.4960 - acc: 0.2658 - val_loss: 1.4864 - val_acc: 0.2564\n",
            "Epoch 150/200\n",
            "158/158 [==============================] - 2s 10ms/step - loss: 1.4733 - acc: 0.2658 - val_loss: 1.4729 - val_acc: 0.2436\n",
            "Epoch 151/200\n",
            "158/158 [==============================] - 2s 10ms/step - loss: 1.4702 - acc: 0.2722 - val_loss: 1.4616 - val_acc: 0.2436\n",
            "Epoch 152/200\n",
            "158/158 [==============================] - 2s 10ms/step - loss: 1.4661 - acc: 0.2722 - val_loss: 1.4688 - val_acc: 0.2564\n",
            "Epoch 153/200\n",
            "158/158 [==============================] - 2s 10ms/step - loss: 1.4519 - acc: 0.2785 - val_loss: 1.4428 - val_acc: 0.2564\n",
            "Epoch 154/200\n",
            "158/158 [==============================] - 2s 10ms/step - loss: 1.4385 - acc: 0.2532 - val_loss: 1.4420 - val_acc: 0.2564\n",
            "Epoch 155/200\n",
            "158/158 [==============================] - 2s 10ms/step - loss: 1.4463 - acc: 0.2722 - val_loss: 1.4658 - val_acc: 0.2564\n",
            "Epoch 156/200\n",
            "158/158 [==============================] - 2s 10ms/step - loss: 1.4481 - acc: 0.2722 - val_loss: 1.4574 - val_acc: 0.2564\n",
            "Epoch 157/200\n",
            "158/158 [==============================] - 1s 9ms/step - loss: 1.4661 - acc: 0.2595 - val_loss: 1.4659 - val_acc: 0.2564\n",
            "Epoch 158/200\n",
            "158/158 [==============================] - 2s 10ms/step - loss: 1.4467 - acc: 0.2468 - val_loss: 1.4630 - val_acc: 0.2564\n",
            "Epoch 159/200\n",
            "158/158 [==============================] - 2s 10ms/step - loss: 1.4461 - acc: 0.2785 - val_loss: 1.4521 - val_acc: 0.2564\n",
            "Epoch 160/200\n",
            "158/158 [==============================] - 2s 10ms/step - loss: 1.4338 - acc: 0.2658 - val_loss: 1.4418 - val_acc: 0.2564\n",
            "Epoch 161/200\n",
            "158/158 [==============================] - 2s 10ms/step - loss: 1.4314 - acc: 0.2658 - val_loss: 1.4465 - val_acc: 0.2564\n",
            "Epoch 162/200\n",
            "158/158 [==============================] - 2s 10ms/step - loss: 1.4413 - acc: 0.2722 - val_loss: 1.4424 - val_acc: 0.2436\n",
            "Epoch 163/200\n",
            "158/158 [==============================] - 2s 10ms/step - loss: 1.4491 - acc: 0.2595 - val_loss: 1.4499 - val_acc: 0.2436\n",
            "Epoch 164/200\n",
            "158/158 [==============================] - 2s 10ms/step - loss: 1.4449 - acc: 0.2468 - val_loss: 1.4308 - val_acc: 0.2692\n",
            "Epoch 165/200\n",
            "158/158 [==============================] - 2s 10ms/step - loss: 1.4322 - acc: 0.2658 - val_loss: 1.4218 - val_acc: 0.2564\n",
            "Epoch 166/200\n",
            "158/158 [==============================] - 2s 10ms/step - loss: 1.4227 - acc: 0.2532 - val_loss: 1.4215 - val_acc: 0.2564\n",
            "Epoch 167/200\n",
            "158/158 [==============================] - 2s 10ms/step - loss: 1.4243 - acc: 0.2595 - val_loss: 1.4213 - val_acc: 0.2564\n",
            "Epoch 168/200\n",
            "158/158 [==============================] - 2s 10ms/step - loss: 1.4207 - acc: 0.2658 - val_loss: 1.4121 - val_acc: 0.2564\n",
            "Epoch 169/200\n",
            "158/158 [==============================] - 2s 10ms/step - loss: 1.4117 - acc: 0.2658 - val_loss: 1.4119 - val_acc: 0.2564\n",
            "Epoch 170/200\n",
            "158/158 [==============================] - 2s 10ms/step - loss: 1.4103 - acc: 0.2532 - val_loss: 1.4204 - val_acc: 0.2564\n",
            "Epoch 171/200\n",
            "158/158 [==============================] - 2s 10ms/step - loss: 1.4125 - acc: 0.2595 - val_loss: 1.4025 - val_acc: 0.2564\n",
            "Epoch 172/200\n",
            "158/158 [==============================] - 2s 10ms/step - loss: 1.4027 - acc: 0.2658 - val_loss: 1.4023 - val_acc: 0.2564\n",
            "Epoch 173/200\n",
            "158/158 [==============================] - 2s 10ms/step - loss: 1.4075 - acc: 0.2595 - val_loss: 1.4021 - val_acc: 0.2564\n",
            "Epoch 174/200\n",
            "158/158 [==============================] - 2s 10ms/step - loss: 1.4030 - acc: 0.2722 - val_loss: 1.4019 - val_acc: 0.2564\n",
            "Epoch 175/200\n",
            "158/158 [==============================] - 2s 10ms/step - loss: 1.4022 - acc: 0.2658 - val_loss: 1.4124 - val_acc: 0.2564\n",
            "Epoch 176/200\n",
            "158/158 [==============================] - 2s 10ms/step - loss: 1.4061 - acc: 0.2658 - val_loss: 1.4015 - val_acc: 0.2564\n",
            "Epoch 177/200\n",
            "158/158 [==============================] - 2s 10ms/step - loss: 1.4031 - acc: 0.2658 - val_loss: 1.4014 - val_acc: 0.2564\n",
            "Epoch 178/200\n",
            "158/158 [==============================] - 2s 10ms/step - loss: 1.3998 - acc: 0.2658 - val_loss: 1.4012 - val_acc: 0.2564\n",
            "Epoch 179/200\n",
            "158/158 [==============================] - 2s 10ms/step - loss: 1.4015 - acc: 0.2658 - val_loss: 1.4011 - val_acc: 0.2564\n",
            "Epoch 180/200\n",
            "158/158 [==============================] - 1s 9ms/step - loss: 1.4042 - acc: 0.2658 - val_loss: 1.4010 - val_acc: 0.2564\n",
            "Epoch 181/200\n",
            "158/158 [==============================] - 2s 10ms/step - loss: 1.4039 - acc: 0.2658 - val_loss: 1.4009 - val_acc: 0.2564\n",
            "Epoch 182/200\n",
            "158/158 [==============================] - 2s 10ms/step - loss: 1.3995 - acc: 0.2722 - val_loss: 1.3917 - val_acc: 0.2564\n",
            "Epoch 183/200\n",
            "158/158 [==============================] - 2s 10ms/step - loss: 1.3936 - acc: 0.2658 - val_loss: 1.3916 - val_acc: 0.2564\n",
            "Epoch 184/200\n",
            "158/158 [==============================] - 2s 10ms/step - loss: 1.3935 - acc: 0.2595 - val_loss: 1.3915 - val_acc: 0.2564\n",
            "Epoch 185/200\n",
            "158/158 [==============================] - 2s 10ms/step - loss: 1.3943 - acc: 0.2595 - val_loss: 1.3915 - val_acc: 0.2564\n",
            "Epoch 186/200\n",
            "158/158 [==============================] - 1s 9ms/step - loss: 1.3908 - acc: 0.2658 - val_loss: 1.3914 - val_acc: 0.2564\n",
            "Epoch 187/200\n",
            "158/158 [==============================] - 2s 10ms/step - loss: 1.3913 - acc: 0.2658 - val_loss: 1.3914 - val_acc: 0.2564\n",
            "Epoch 188/200\n",
            "158/158 [==============================] - 2s 10ms/step - loss: 1.3927 - acc: 0.2722 - val_loss: 1.3913 - val_acc: 0.2564\n",
            "Epoch 189/200\n",
            "158/158 [==============================] - 2s 10ms/step - loss: 1.3923 - acc: 0.2658 - val_loss: 1.3913 - val_acc: 0.2564\n",
            "Epoch 190/200\n",
            "158/158 [==============================] - 1s 9ms/step - loss: 1.3931 - acc: 0.2658 - val_loss: 1.3912 - val_acc: 0.2564\n",
            "Epoch 191/200\n",
            "158/158 [==============================] - 2s 10ms/step - loss: 1.3921 - acc: 0.2658 - val_loss: 1.3912 - val_acc: 0.2564\n",
            "Epoch 192/200\n",
            "158/158 [==============================] - 2s 10ms/step - loss: 1.3916 - acc: 0.2658 - val_loss: 1.3911 - val_acc: 0.2564\n",
            "Epoch 193/200\n",
            "158/158 [==============================] - 2s 10ms/step - loss: 1.3892 - acc: 0.2658 - val_loss: 1.3911 - val_acc: 0.2564\n",
            "Epoch 194/200\n",
            "158/158 [==============================] - 2s 10ms/step - loss: 1.3933 - acc: 0.2595 - val_loss: 1.3911 - val_acc: 0.2564\n",
            "Epoch 195/200\n",
            "158/158 [==============================] - 2s 10ms/step - loss: 1.3949 - acc: 0.2595 - val_loss: 1.3910 - val_acc: 0.2564\n",
            "Epoch 196/200\n",
            "158/158 [==============================] - 2s 10ms/step - loss: 1.3926 - acc: 0.2595 - val_loss: 1.3910 - val_acc: 0.2564\n",
            "Epoch 197/200\n",
            "158/158 [==============================] - 2s 10ms/step - loss: 1.3924 - acc: 0.2658 - val_loss: 1.3910 - val_acc: 0.2564\n",
            "Epoch 198/200\n",
            "158/158 [==============================] - 2s 10ms/step - loss: 1.3920 - acc: 0.2658 - val_loss: 1.3909 - val_acc: 0.2564\n",
            "Epoch 199/200\n",
            "158/158 [==============================] - 2s 10ms/step - loss: 1.3914 - acc: 0.2595 - val_loss: 1.3909 - val_acc: 0.2564\n",
            "Epoch 200/200\n",
            "158/158 [==============================] - 1s 9ms/step - loss: 1.3941 - acc: 0.2532 - val_loss: 1.3909 - val_acc: 0.2564\n",
            "78/78 [==============================] - 0s 3ms/step\n",
            "########## TEST ACCURACY  0.2564102575564996\n"
          ],
          "name": "stdout"
        },
        {
          "output_type": "execute_result",
          "data": {
            "text/plain": [
              "\"\\n#num_train = len(X_train_id[1])\\n#bag_idx_size = int(num_train * 0.2) # https://www.elen.ucl.ac.be/Proceedings/esann/esannpdf/es2014-185.pdf\\n\\nfor i in range(num_trials1):\\n    model = getModel()\\n    \\n    bag_idx = np.random.choice(num_train, bag_idx_size)\\n    \\n    this_X_train_id = X_train_id[1][bag_idx]\\n    this_y_train_id_1hot = y_train_id_1hot[1][bag_idx]\\n\\n    history = model.fit(this_X_train_id, this_y_train_id_1hot, batch_size=batch_size, epochs=num_epochs,\\n             validation_data=(X_valid_id[1], y_valid_id_1hot[1]),\\n             verbose=0) # default verbose=1\\n    _, score = model.evaluate(X_test_id[1], y_test_id_1hot[1], batch_size=batch_size)\\n    scores1.append(score)\\n    models1.append(model)\\n    histories1.append(history)\\n    print('########## TEST ACCURACY ', score)\\n\""
            ]
          },
          "metadata": {
            "tags": []
          },
          "execution_count": 97
        }
      ]
    },
    {
      "metadata": {
        "scrolled": true,
        "id": "8MgqYZVSW0sh",
        "colab_type": "code",
        "outputId": "ccd0bf44-de03-4461-d264-cb505d75a7c8",
        "colab": {
          "base_uri": "https://localhost:8080/",
          "height": 34
        }
      },
      "cell_type": "code",
      "source": [
        "sum(scores1) / num_trials1"
      ],
      "execution_count": 31,
      "outputs": [
        {
          "output_type": "execute_result",
          "data": {
            "text/plain": [
              "0.31380504367478695"
            ]
          },
          "metadata": {
            "tags": []
          },
          "execution_count": 31
        }
      ]
    },
    {
      "metadata": {
        "id": "KV6nrw5P7nZt",
        "colab_type": "code",
        "outputId": "a833ce6a-e934-441a-97b4-6ef607dd0830",
        "colab": {
          "base_uri": "https://localhost:8080/",
          "height": 376
        }
      },
      "cell_type": "code",
      "source": [
        "import matplotlib.pyplot as plt\n",
        "#histories2[0].history['val_loss']\n",
        "val_loss = histories1[0].history['val_loss'] \n",
        "train_loss = histories1[0].history['loss']\n",
        "x = range(len(val_loss))\n",
        "y = val_loss\n",
        "\n",
        "plt.plot(x, y)\n",
        "plt.plot(x, train_loss)\n",
        "plt.legend(['val loss', 'train loss'])\n",
        "#plt.legend(['train loss'])\n",
        "plt.xlabel('epochs')\n",
        "plt.ylabel('loss')\n",
        "plt.title('Loss (training with subject 1)')\n",
        "plt.show()"
      ],
      "execution_count": 32,
      "outputs": [
        {
          "output_type": "display_data",
          "data": {
            "image/png": "[encoded data removed]",
            "text/plain": [
              "<Figure size 576x396 with 1 Axes>"
            ]
          },
          "metadata": {
            "tags": []
          }
        }
      ]
    },
    {
      "metadata": {
        "id": "W3dfYLsiiG3x",
        "colab_type": "code",
        "outputId": "417c8997-0880-4b3a-d3dc-6c03d3bea4d5",
        "colab": {
          "base_uri": "https://localhost:8080/",
          "height": 376
        }
      },
      "cell_type": "code",
      "source": [
        "val_acc = histories1[0].history['val_acc']\n",
        "train_acc = histories1[0].history['acc']\n",
        "x = range(len(val_loss))\n",
        "\n",
        "plt.plot(x, val_acc)\n",
        "plt.plot(x, train_acc)\n",
        "plt.legend(['val acc', 'train acc'])\n",
        "plt.xlabel('epochs')\n",
        "plt.ylabel('acc')\n",
        "plt.title('Accuracy (training with subject 1)')\n",
        "plt.show()"
      ],
      "execution_count": 33,
      "outputs": [
        {
          "output_type": "display_data",
          "data": {
            "image/png": "[encoded data removed]",
            "text/plain": [
              "<Figure size 576x396 with 1 Axes>"
            ]
          },
          "metadata": {
            "tags": []
          }
        }
      ]
    },
    {
      "metadata": {
        "id": "qKO0EV56gy3m",
        "colab_type": "code",
        "outputId": "e87100e7-259c-493a-f3d3-a9c2decf7381",
        "colab": {
          "base_uri": "https://localhost:8080/",
          "height": 168
        }
      },
      "cell_type": "code",
      "source": [
        "# Try models on test data\n",
        "test_scores1 = []\n",
        "for thisModel in models1:\n",
        "    _, score = thisModel.evaluate(X_test_id[1], y_test_id_1hot[1], batch_size=batch_size)\n",
        "    test_scores1.append(score)\n",
        "    print(score)\n",
        "print('\\n')\n",
        "print('Final test performance: ', np.mean(test_scores1))\n"
      ],
      "execution_count": 34,
      "outputs": [
        {
          "output_type": "stream",
          "text": [
            "50/50 [==============================] - 0s 3ms/step\n",
            "0.34\n",
            "50/50 [==============================] - 0s 3ms/step\n",
            "0.26\n",
            "50/50 [==============================] - 0s 2ms/step\n",
            "0.3\n",
            "\n",
            "\n",
            "Final test performance:  0.30000000000000004\n"
          ],
          "name": "stdout"
        }
      ]
    },
    {
      "metadata": {
        "id": "k1YyUQ9nW0sn",
        "colab_type": "code",
        "outputId": "a40937ac-fb66-49ef-c1fc-a6b4b267749a",
        "colab": {
          "base_uri": "https://localhost:8080/",
          "height": 50
        }
      },
      "cell_type": "code",
      "source": [
        "# Train on all subjects, validate on all subjects\n",
        "\n",
        "\n",
        "num_trials2 = 3\n",
        "scores2 = []\n",
        "models2 = []\n",
        "histories2 = []\n",
        "\n",
        "\"\"\"\n",
        "kf = StratifiedKFold(n_splits = num_trials2)\n",
        "\n",
        "for train, valid in kf.split(X_train_valid, y_train_valid): # for ALL SUBJECTS' training data\n",
        "  this_X_train, this_X_valid = X_train_valid[train], X_train_valid[valid] \n",
        "  this_y_train_1hot, this_y_valid_1hot = y_train_valid_1hot[train], y_train_valid_1hot[valid]\n",
        "  \n",
        "  model = getModel()\n",
        "  \n",
        "  history = model.fit(this_X_train, this_y_train_1hot, batch_size=batch_size, epochs=num_epochs,\n",
        "             validation_data=(this_X_valid, this_y_valid_1hot), # included to track val loss\n",
        "             verbose=0) # default verbose=1\n",
        "  \n",
        "  _, score = model.evaluate(this_X_valid, this_y_valid_1hot, batch_size=batch_size)\n",
        "  scores2.append(score)\n",
        "  models2.append(model)\n",
        "  histories2.append(history)\n",
        "  print('########## TEST ACCURACY ', score)\n",
        "\"\"\"\n",
        "\n",
        "\n",
        "\"\"\" OLD BAG METHOD \"\"\"\n",
        "\"\"\"\n",
        "num_train = len(X_train)\n",
        "bag_idx_size = int(num_train * 0.2) # https://www.elen.ucl.ac.be/Proceedings/esann/esannpdf/es2014-185.pdf\n",
        "\n",
        "for i in range(num_trials2):\n",
        "    model = getModel()\n",
        "    \n",
        "    bag_idx = np.random.choice(num_train, bag_idx_size)\n",
        "    \n",
        "    this_X_train = X_train[bag_idx]\n",
        "    this_y_train_1hot = y_train_1hot[bag_idx]\n",
        "\n",
        "    history = model.fit(this_X_train, this_y_train_1hot, batch_size=batch_size, epochs=num_epochs,\n",
        "             validation_data=(X_valid, y_valid_1hot), verbose=0)\n",
        "    _, score = model.evaluate(X_test_id[1], y_test_id_1hot[1], batch_size=batch_size)\n",
        "    scores2.append(score)\n",
        "    models2.append(model)\n",
        "    histories2.append(history)\n",
        "    print('########## TEST ACCURACY ', score)\n",
        "\"\"\"\n",
        "\n",
        "\"\"\" SINGLE \"\"\"\n",
        "\n",
        "model = getModel()\n",
        "\n",
        "history = model.fit(X_train, y_train_1hot, batch_size=batch_size, epochs=num_epochs,\n",
        "                   validation_data=(X_valid, y_valid_1hot), verbose=0)\n",
        "_, score = model.evaluate(X_test_id[1], y_test_id_1hot[1], batch_size=batch_size)\n",
        "print('########## TEST ACCURACY ', score)\n",
        "\n",
        "scores2.append(score)\n",
        "histories2.append(history)\n",
        "models2.append(model)"
      ],
      "execution_count": 35,
      "outputs": [
        {
          "output_type": "stream",
          "text": [
            "50/50 [==============================] - 0s 2ms/step\n",
            "########## TEST ACCURACY  0.34\n"
          ],
          "name": "stdout"
        }
      ]
    },
    {
      "metadata": {
        "id": "BUxD3W3PW0su",
        "colab_type": "code",
        "outputId": "430b66c5-193c-41d1-ed1d-9d0225257aaa",
        "colab": {
          "base_uri": "https://localhost:8080/",
          "height": 34
        }
      },
      "cell_type": "code",
      "source": [
        "sum(scores2) / num_trials2"
      ],
      "execution_count": 36,
      "outputs": [
        {
          "output_type": "execute_result",
          "data": {
            "text/plain": [
              "0.11333333333333334"
            ]
          },
          "metadata": {
            "tags": []
          },
          "execution_count": 36
        }
      ]
    },
    {
      "metadata": {
        "id": "kIcwDaeK-9lD",
        "colab_type": "code",
        "outputId": "e2a6b589-aaf4-4030-f69c-bf19e25fb641",
        "colab": {
          "base_uri": "https://localhost:8080/",
          "height": 376
        }
      },
      "cell_type": "code",
      "source": [
        "import matplotlib.pyplot as plt\n",
        "#histories2[0].history['val_loss']\n",
        "val_loss = histories2[0].history['val_loss'] \n",
        "train_loss = histories2[0].history['loss']\n",
        "x = range(len(val_loss))\n",
        "y = val_loss\n",
        "\n",
        "plt.plot(x, y)\n",
        "plt.plot(x, train_loss)\n",
        "plt.legend(['val loss', 'train loss'])\n",
        "#plt.legend(['train loss'])\n",
        "plt.xlabel('epochs')\n",
        "plt.ylabel('loss')\n",
        "plt.title('Loss (training with all subjects)')\n",
        "plt.show()"
      ],
      "execution_count": 37,
      "outputs": [
        {
          "output_type": "display_data",
          "data": {
            "image/png": "[encoded data removed]",
            "text/plain": [
              "<Figure size 576x396 with 1 Axes>"
            ]
          },
          "metadata": {
            "tags": []
          }
        }
      ]
    },
    {
      "metadata": {
        "id": "OgkEeByEOxlh",
        "colab_type": "code",
        "outputId": "96eabfb3-7f87-48fb-bb29-7f57bbbcb8b8",
        "colab": {
          "base_uri": "https://localhost:8080/",
          "height": 376
        }
      },
      "cell_type": "code",
      "source": [
        "val_acc = histories2[0].history['val_acc']\n",
        "train_acc = histories2[0].history['acc']\n",
        "x = range(len(val_loss))\n",
        "\n",
        "plt.plot(x, val_acc)\n",
        "plt.plot(x, train_acc)\n",
        "plt.legend(['val acc', 'train acc'])\n",
        "plt.xlabel('epochs')\n",
        "plt.ylabel('acc')\n",
        "plt.title('Accuracy (training with all subjects)')\n",
        "plt.show()"
      ],
      "execution_count": 38,
      "outputs": [
        {
          "output_type": "display_data",
          "data": {
            "image/png": "[encoded data removed]",
            "text/plain": [
              "<Figure size 576x396 with 1 Axes>"
            ]
          },
          "metadata": {
            "tags": []
          }
        }
      ]
    },
    {
      "metadata": {
        "id": "ru734gWMhchX",
        "colab_type": "code",
        "outputId": "81af53b4-0540-4a5e-a215-558b05e31a16",
        "colab": {
          "base_uri": "https://localhost:8080/",
          "height": 101
        }
      },
      "cell_type": "code",
      "source": [
        "# Try models on test data (just for subject 1)\n",
        "test_scores2 = []\n",
        "for thisModel in models2:\n",
        "    _, score = thisModel.evaluate(X_test_id[1], y_test_id_1hot[1], batch_size=batch_size)\n",
        "    test_scores2.append(score)\n",
        "    print(score)\n",
        "print('\\n')\n",
        "print(np.mean(test_scores2))"
      ],
      "execution_count": 39,
      "outputs": [
        {
          "output_type": "stream",
          "text": [
            "50/50 [==============================] - 0s 3ms/step\n",
            "0.34\n",
            "\n",
            "\n",
            "0.34\n"
          ],
          "name": "stdout"
        }
      ]
    },
    {
      "metadata": {
        "id": "xYqDXK33W0s1",
        "colab_type": "text"
      },
      "cell_type": "markdown",
      "source": [
        "# Optimize classification accuracy across all subjects."
      ]
    },
    {
      "metadata": {
        "id": "86A-KR-2W0s3",
        "colab_type": "code",
        "outputId": "4913a152-02ee-475e-af70-272ed243e395",
        "colab": {
          "base_uri": "https://localhost:8080/",
          "height": 319
        }
      },
      "cell_type": "code",
      "source": [
        "num_subjects = 9\n",
        "scores3 = []\n",
        "\n",
        "# Test each model against whole set. Not what you actually have to do\n",
        "\"\"\"\n",
        "for i in range(len(models2)):\n",
        "    model = models2[i]\n",
        "\n",
        "    _, score = model.evaluate(X_test, y_test_1hot, batch_size=batch_size)\n",
        "    scores3.append(score)\n",
        "    print('########## TEST ACCURACY ', score)\n",
        "\n",
        "\"\"\"\n",
        "\n",
        "bestModel = models2[0] # change to best performing model from previous step!\n",
        "\n",
        "for i in range(9): # For subjects 0-8, evaluate them based on some model bestModel\n",
        "  _, score = bestModel.evaluate(X_test_id[i], y_test_id_1hot[i], batch_size=batch_size)\n",
        "  scores3.append(score)\n",
        "  print('### Subject ' + str(i) + ': ' + str(score))"
      ],
      "execution_count": 36,
      "outputs": [
        {
          "output_type": "stream",
          "text": [
            "500/500 [==============================] - 1s 2ms/step\n",
            "### Subject 0: 0.258\n",
            "500/500 [==============================] - 1s 2ms/step\n",
            "### Subject 1: 0.252\n",
            "500/500 [==============================] - 1s 2ms/step\n",
            "### Subject 2: 0.288\n",
            "500/500 [==============================] - 1s 2ms/step\n",
            "### Subject 3: 0.218\n",
            "470/470 [==============================] - 1s 2ms/step\n",
            "### Subject 4: 0.2255319149570262\n",
            "490/490 [==============================] - 1s 2ms/step\n",
            "### Subject 5: 0.26938775513245133\n",
            "500/500 [==============================] - 1s 2ms/step\n",
            "### Subject 6: 0.222\n",
            "500/500 [==============================] - 1s 2ms/step\n",
            "### Subject 7: 0.286\n",
            "470/470 [==============================] - 1s 2ms/step\n",
            "### Subject 8: 0.28936170219106877\n"
          ],
          "name": "stdout"
        }
      ]
    },
    {
      "metadata": {
        "id": "8evRzf6Ba4Nd",
        "colab_type": "code",
        "outputId": "5e483e23-ed03-4555-c115-caa853e4944c",
        "colab": {
          "base_uri": "https://localhost:8080/",
          "height": 34
        }
      },
      "cell_type": "code",
      "source": [
        "sum(scores3) / num_subjects"
      ],
      "execution_count": 37,
      "outputs": [
        {
          "output_type": "execute_result",
          "data": {
            "text/plain": [
              "0.2564757080311718"
            ]
          },
          "metadata": {
            "tags": []
          },
          "execution_count": 37
        }
      ]
    },
    {
      "metadata": {
        "id": "aKceX7GH47RB",
        "colab_type": "text"
      },
      "cell_type": "markdown",
      "source": [
        "### Ensemble"
      ]
    },
    {
      "metadata": {
        "id": "v3KiWILj5Dpp",
        "colab_type": "code",
        "colab": {}
      },
      "cell_type": "code",
      "source": [
        "weights = [model.get_weights() for model in models2]\n",
        "\n",
        "new_weights = list()\n",
        "\n",
        "for weights_list_tuple in zip(*weights):\n",
        "    new_weights.append(\n",
        "        [np.array(weights_).mean(axis=0)\\\n",
        "            for weights_ in zip(*weights_list_tuple)])\n",
        "    \n",
        "ensemble_model = getModel()\n",
        "ensemble_model.set_weights(new_weights)\n"
      ],
      "execution_count": 0,
      "outputs": []
    },
    {
      "metadata": {
        "id": "x3RIythX57lY",
        "colab_type": "code",
        "outputId": "606581f8-f558-413b-f907-4977d89d0a25",
        "colab": {
          "base_uri": "https://localhost:8080/",
          "height": 118
        }
      },
      "cell_type": "code",
      "source": [
        "# Try Ensemble on col 1\n",
        "scores4 = []\n",
        "for i in range(num_trials1):\n",
        "\n",
        "    \n",
        "    _, score = ensemble_model.evaluate(X_test_id[1], y_test_id_1hot[1], batch_size=batch_size)\n",
        "    scores4.append(score)\n",
        "    print('########## TEST ACCURACY ', score)"
      ],
      "execution_count": 0,
      "outputs": [
        {
          "output_type": "stream",
          "text": [
            "50/50 [==============================] - 1s 13ms/step\n",
            "########## TEST ACCURACY  0.36\n",
            "50/50 [==============================] - 0s 3ms/step\n",
            "########## TEST ACCURACY  0.36\n",
            "50/50 [==============================] - 0s 3ms/step\n",
            "########## TEST ACCURACY  0.36\n"
          ],
          "name": "stdout"
        }
      ]
    },
    {
      "metadata": {
        "id": "xhCfD0gG7tuf",
        "colab_type": "code",
        "outputId": "c64473a5-f265-4bc8-d7c9-95d97a30b263",
        "colab": {
          "base_uri": "https://localhost:8080/",
          "height": 34
        }
      },
      "cell_type": "code",
      "source": [
        "sum(scores4)/num_trials"
      ],
      "execution_count": 0,
      "outputs": [
        {
          "output_type": "execute_result",
          "data": {
            "text/plain": [
              "0.36000000000000004"
            ]
          },
          "metadata": {
            "tags": []
          },
          "execution_count": 50
        }
      ]
    },
    {
      "metadata": {
        "id": "uNn9oVer6ahv",
        "colab_type": "code",
        "outputId": "1cc7ab61-fc3f-4ce4-96fc-6d095c9e6db6",
        "colab": {
          "base_uri": "https://localhost:8080/",
          "height": 319
        }
      },
      "cell_type": "code",
      "source": [
        "# Try Ensemble on all subjects\n",
        "scores5 = []\n",
        "for i in range(9): \n",
        "  _, score = ensemble_model.evaluate(X_test_id[i], y_test_id_1hot[i], batch_size=batch_size)\n",
        "  scores5.append(score)\n",
        "  print('### Subject ' + str(i) + ': ' + str(score))"
      ],
      "execution_count": 0,
      "outputs": [
        {
          "output_type": "stream",
          "text": [
            "50/50 [==============================] - 0s 3ms/step\n",
            "### Subject 0: 0.46\n",
            "50/50 [==============================] - 0s 3ms/step\n",
            "### Subject 1: 0.36\n",
            "50/50 [==============================] - 0s 3ms/step\n",
            "### Subject 2: 0.4\n",
            "50/50 [==============================] - 0s 3ms/step\n",
            "### Subject 3: 0.24\n",
            "47/47 [==============================] - 0s 2ms/step\n",
            "### Subject 4: 0.36170212829366644\n",
            "49/49 [==============================] - 0s 3ms/step\n",
            "### Subject 5: 0.4489795918367347\n",
            "50/50 [==============================] - 0s 3ms/step\n",
            "### Subject 6: 0.34\n",
            "50/50 [==============================] - 0s 3ms/step\n",
            "### Subject 7: 0.22\n",
            "47/47 [==============================] - 0s 2ms/step\n",
            "### Subject 8: 0.27659574690017297\n"
          ],
          "name": "stdout"
        }
      ]
    },
    {
      "metadata": {
        "id": "biAtsAyC7wVF",
        "colab_type": "code",
        "outputId": "fe29fce4-d252-4a35-b33f-57a4ecaea6e6",
        "colab": {
          "base_uri": "https://localhost:8080/",
          "height": 34
        }
      },
      "cell_type": "code",
      "source": [
        "sum(scores5)/9"
      ],
      "execution_count": 0,
      "outputs": [
        {
          "output_type": "execute_result",
          "data": {
            "text/plain": [
              "0.345253051892286"
            ]
          },
          "metadata": {
            "tags": []
          },
          "execution_count": 52
        }
      ]
    },
    {
      "metadata": {
        "id": "GMNINWL4EEzv",
        "colab_type": "code",
        "outputId": "fd8b6fa1-fa59-4169-e1e2-3bee4cbe2d30",
        "colab": {
          "base_uri": "https://localhost:8080/",
          "height": 50
        }
      },
      "cell_type": "code",
      "source": [
        "m = np.mean(scores5)\n",
        "v = np.var(scores5)\n",
        "print('mean: ', m)\n",
        "print('var: ', v)"
      ],
      "execution_count": 0,
      "outputs": [
        {
          "output_type": "stream",
          "text": [
            "mean:  0.345253051892286\n",
            "var:  0.0065465869036528375\n"
          ],
          "name": "stdout"
        }
      ]
    },
    {
      "metadata": {
        "id": "5Y5JfjXr362T",
        "colab_type": "text"
      },
      "cell_type": "markdown",
      "source": [
        "### Save models if they're good"
      ]
    },
    {
      "metadata": {
        "id": "pVFF7s0y39WY",
        "colab_type": "code",
        "outputId": "243bdf12-3102-46b2-f6a9-e52acc69d01b",
        "colab": {
          "base_uri": "https://localhost:8080/",
          "height": 84
        }
      },
      "cell_type": "code",
      "source": [
        "# Save all models in models2 (the same architecture is used for col 1 as col 2 and 3)\n",
        "\n",
        "model_prefix = 'ex_'\n",
        "\n",
        "for i in range(len(models1)):\n",
        "  name = prefix + model_prefix + 'model1_' + str(i) + '.h5'\n",
        "  models1[i].save(name)\n",
        "  print('Wrote ' + name)\n",
        "\n",
        "\n",
        "for i in range(len(models2)):\n",
        "  name = prefix + model_prefix + 'model2_' + str(i) + '.h5'\n",
        "  models2[i].save(name)\n",
        "  print('Wrote ' + name)\n"
      ],
      "execution_count": 45,
      "outputs": [
        {
          "output_type": "stream",
          "text": [
            "Wrote /content/drive/My Drive/ex_model1_0.h5\n",
            "Wrote /content/drive/My Drive/ex_model1_1.h5\n",
            "Wrote /content/drive/My Drive/ex_model1_2.h5\n",
            "Wrote /content/drive/My Drive/ex_model2_0.h5\n"
          ],
          "name": "stdout"
        }
      ]
    },
    {
      "metadata": {
        "id": "HCHI-nPvuYyD",
        "colab_type": "code",
        "colab": {
          "base_uri": "https://localhost:8080/",
          "height": 34
        },
        "outputId": "b655e914-938a-4ec0-b832-a837d8624899"
      },
      "cell_type": "code",
      "source": [
        "models2[0]"
      ],
      "execution_count": 44,
      "outputs": [
        {
          "output_type": "execute_result",
          "data": {
            "text/plain": [
              "<keras.engine.sequential.Sequential at 0x7fbc42e48ef0>"
            ]
          },
          "metadata": {
            "tags": []
          },
          "execution_count": 44
        }
      ]
    },
    {
      "metadata": {
        "id": "US45VsVe2bkE",
        "colab_type": "text"
      },
      "cell_type": "markdown",
      "source": [
        "### Bagging"
      ]
    },
    {
      "metadata": {
        "id": "N9Qg2WgV2at1",
        "colab_type": "code",
        "colab": {}
      },
      "cell_type": "code",
      "source": [
        "from keras.layers import average\n",
        "from keras.models import Model\n",
        "\n",
        "def getEnsemble(models, model_input):\n",
        "  modelsToAverage = [model(model_input) for model in models] \n",
        "  averagedOutputs = average(modelsToAverage) \n",
        "  # build model from same input and avg output\n",
        "  ensemble = Model(inputs = model_input, outputs = averagedOutputs, name = 'ensemble')  \n",
        "  lr = 0.0001  #default 0.001\n",
        "  decay = 0.0 #default 0.0\n",
        "  optimizer = Adam(lr=lr, decay=decay)\n",
        "  ensemble.compile(loss='categorical_crossentropy',\n",
        "                  optimizer=optimizer,\n",
        "                  metrics=['accuracy'])\n",
        "\n",
        "  return ensemble\n",
        "\n"
      ],
      "execution_count": 0,
      "outputs": []
    },
    {
      "metadata": {
        "id": "gVscUllr36ms",
        "colab_type": "code",
        "outputId": "8a309ed6-3d61-497b-fa5b-65c7a639079e",
        "colab": {
          "base_uri": "https://localhost:8080/",
          "height": 50
        }
      },
      "cell_type": "code",
      "source": [
        "# col 1: trained by subj 1\n",
        "model_input1 = Input(shape=(num_channels, num_bins))\n",
        "ensemble1 = getEnsemble(models1, model_input1)\n",
        "_, score1 = ensemble1.evaluate(X_test_id[1], y_test_id_1hot[1], batch_size=batch_size)\n",
        "print(score1)\n"
      ],
      "execution_count": 47,
      "outputs": [
        {
          "output_type": "stream",
          "text": [
            "50/50 [==============================] - 2s 31ms/step\n",
            "0.32\n"
          ],
          "name": "stdout"
        }
      ]
    },
    {
      "metadata": {
        "id": "1QN7Dx6d4YkP",
        "colab_type": "code",
        "outputId": "6d430541-de6a-44fa-a9c1-d1a70b3ebaea",
        "colab": {
          "base_uri": "https://localhost:8080/",
          "height": 682
        }
      },
      "cell_type": "code",
      "source": [
        "# col 2: trained with all subjs\n",
        "model_input2 = Input(shape=(num_channels, num_bins))\n",
        "ensemble2 = getEnsemble(models2, model_input2)\n",
        "_, score2 = ensemble2.evaluate(X_test_id[1], y_test_id_1hot[1], batch_size=batch_size)\n",
        "print(score2)"
      ],
      "execution_count": 48,
      "outputs": [
        {
          "output_type": "error",
          "ename": "ValueError",
          "evalue": "ignored",
          "traceback": [
            "\u001b[0;31m---------------------------------------------------------------------------\u001b[0m",
            "\u001b[0;31mValueError\u001b[0m                                Traceback (most recent call last)",
            "\u001b[0;32m<ipython-input-48-9fa022bf33d3>\u001b[0m in \u001b[0;36m<module>\u001b[0;34m()\u001b[0m\n\u001b[1;32m      1\u001b[0m \u001b[0mmodel_input2\u001b[0m \u001b[0;34m=\u001b[0m \u001b[0mInput\u001b[0m\u001b[0;34m(\u001b[0m\u001b[0mshape\u001b[0m\u001b[0;34m=\u001b[0m\u001b[0;34m(\u001b[0m\u001b[0mnum_channels\u001b[0m\u001b[0;34m,\u001b[0m \u001b[0mnum_bins\u001b[0m\u001b[0;34m)\u001b[0m\u001b[0;34m)\u001b[0m\u001b[0;34m\u001b[0m\u001b[0;34m\u001b[0m\u001b[0m\n\u001b[0;32m----> 2\u001b[0;31m \u001b[0mensemble2\u001b[0m \u001b[0;34m=\u001b[0m \u001b[0mgetEnsemble\u001b[0m\u001b[0;34m(\u001b[0m\u001b[0mmodels2\u001b[0m\u001b[0;34m,\u001b[0m \u001b[0mmodel_input2\u001b[0m\u001b[0;34m)\u001b[0m\u001b[0;34m\u001b[0m\u001b[0;34m\u001b[0m\u001b[0m\n\u001b[0m\u001b[1;32m      3\u001b[0m \u001b[0m_\u001b[0m\u001b[0;34m,\u001b[0m \u001b[0mscore2\u001b[0m \u001b[0;34m=\u001b[0m \u001b[0mensemble2\u001b[0m\u001b[0;34m.\u001b[0m\u001b[0mevaluate\u001b[0m\u001b[0;34m(\u001b[0m\u001b[0mX_test_id\u001b[0m\u001b[0;34m[\u001b[0m\u001b[0;36m1\u001b[0m\u001b[0;34m]\u001b[0m\u001b[0;34m,\u001b[0m \u001b[0my_test_id_1hot\u001b[0m\u001b[0;34m[\u001b[0m\u001b[0;36m1\u001b[0m\u001b[0;34m]\u001b[0m\u001b[0;34m,\u001b[0m \u001b[0mbatch_size\u001b[0m\u001b[0;34m=\u001b[0m\u001b[0mbatch_size\u001b[0m\u001b[0;34m)\u001b[0m\u001b[0;34m\u001b[0m\u001b[0;34m\u001b[0m\u001b[0m\n\u001b[1;32m      4\u001b[0m \u001b[0mprint\u001b[0m\u001b[0;34m(\u001b[0m\u001b[0mscore2\u001b[0m\u001b[0;34m)\u001b[0m\u001b[0;34m\u001b[0m\u001b[0;34m\u001b[0m\u001b[0m\n",
            "\u001b[0;32m<ipython-input-46-620843ba42ec>\u001b[0m in \u001b[0;36mgetEnsemble\u001b[0;34m(models, model_input)\u001b[0m\n\u001b[1;32m      4\u001b[0m \u001b[0;32mdef\u001b[0m \u001b[0mgetEnsemble\u001b[0m\u001b[0;34m(\u001b[0m\u001b[0mmodels\u001b[0m\u001b[0;34m,\u001b[0m \u001b[0mmodel_input\u001b[0m\u001b[0;34m)\u001b[0m\u001b[0;34m:\u001b[0m\u001b[0;34m\u001b[0m\u001b[0;34m\u001b[0m\u001b[0m\n\u001b[1;32m      5\u001b[0m   \u001b[0mmodelsToAverage\u001b[0m \u001b[0;34m=\u001b[0m \u001b[0;34m[\u001b[0m\u001b[0mmodel\u001b[0m\u001b[0;34m(\u001b[0m\u001b[0mmodel_input\u001b[0m\u001b[0;34m)\u001b[0m \u001b[0;32mfor\u001b[0m \u001b[0mmodel\u001b[0m \u001b[0;32min\u001b[0m \u001b[0mmodels\u001b[0m\u001b[0;34m]\u001b[0m\u001b[0;34m\u001b[0m\u001b[0;34m\u001b[0m\u001b[0m\n\u001b[0;32m----> 6\u001b[0;31m   \u001b[0maveragedOutputs\u001b[0m \u001b[0;34m=\u001b[0m \u001b[0maverage\u001b[0m\u001b[0;34m(\u001b[0m\u001b[0mmodelsToAverage\u001b[0m\u001b[0;34m)\u001b[0m\u001b[0;34m\u001b[0m\u001b[0;34m\u001b[0m\u001b[0m\n\u001b[0m\u001b[1;32m      7\u001b[0m   \u001b[0;31m# build model from same input and avg output\u001b[0m\u001b[0;34m\u001b[0m\u001b[0;34m\u001b[0m\u001b[0;34m\u001b[0m\u001b[0m\n\u001b[1;32m      8\u001b[0m   \u001b[0mensemble\u001b[0m \u001b[0;34m=\u001b[0m \u001b[0mModel\u001b[0m\u001b[0;34m(\u001b[0m\u001b[0minputs\u001b[0m \u001b[0;34m=\u001b[0m \u001b[0mmodel_input\u001b[0m\u001b[0;34m,\u001b[0m \u001b[0moutputs\u001b[0m \u001b[0;34m=\u001b[0m \u001b[0maveragedOutputs\u001b[0m\u001b[0;34m,\u001b[0m \u001b[0mname\u001b[0m \u001b[0;34m=\u001b[0m \u001b[0;34m'ensemble'\u001b[0m\u001b[0;34m)\u001b[0m\u001b[0;34m\u001b[0m\u001b[0;34m\u001b[0m\u001b[0m\n",
            "\u001b[0;32m/usr/local/lib/python3.6/dist-packages/keras/layers/merge.py\u001b[0m in \u001b[0;36maverage\u001b[0;34m(inputs, **kwargs)\u001b[0m\n\u001b[1;32m    607\u001b[0m         \u001b[0mA\u001b[0m \u001b[0mtensor\u001b[0m\u001b[0;34m,\u001b[0m \u001b[0mthe\u001b[0m \u001b[0maverage\u001b[0m \u001b[0mof\u001b[0m \u001b[0mthe\u001b[0m \u001b[0minputs\u001b[0m\u001b[0;34m.\u001b[0m\u001b[0;34m\u001b[0m\u001b[0;34m\u001b[0m\u001b[0m\n\u001b[1;32m    608\u001b[0m     \"\"\"\n\u001b[0;32m--> 609\u001b[0;31m     \u001b[0;32mreturn\u001b[0m \u001b[0mAverage\u001b[0m\u001b[0;34m(\u001b[0m\u001b[0;34m**\u001b[0m\u001b[0mkwargs\u001b[0m\u001b[0;34m)\u001b[0m\u001b[0;34m(\u001b[0m\u001b[0minputs\u001b[0m\u001b[0;34m)\u001b[0m\u001b[0;34m\u001b[0m\u001b[0;34m\u001b[0m\u001b[0m\n\u001b[0m\u001b[1;32m    610\u001b[0m \u001b[0;34m\u001b[0m\u001b[0m\n\u001b[1;32m    611\u001b[0m \u001b[0;34m\u001b[0m\u001b[0m\n",
            "\u001b[0;32m/usr/local/lib/python3.6/dist-packages/keras/engine/base_layer.py\u001b[0m in \u001b[0;36m__call__\u001b[0;34m(self, inputs, **kwargs)\u001b[0m\n\u001b[1;32m    429\u001b[0m                                          \u001b[0;34m'You can build it manually via: '\u001b[0m\u001b[0;34m\u001b[0m\u001b[0;34m\u001b[0m\u001b[0m\n\u001b[1;32m    430\u001b[0m                                          '`layer.build(batch_input_shape)`')\n\u001b[0;32m--> 431\u001b[0;31m                 \u001b[0mself\u001b[0m\u001b[0;34m.\u001b[0m\u001b[0mbuild\u001b[0m\u001b[0;34m(\u001b[0m\u001b[0munpack_singleton\u001b[0m\u001b[0;34m(\u001b[0m\u001b[0minput_shapes\u001b[0m\u001b[0;34m)\u001b[0m\u001b[0;34m)\u001b[0m\u001b[0;34m\u001b[0m\u001b[0;34m\u001b[0m\u001b[0m\n\u001b[0m\u001b[1;32m    432\u001b[0m                 \u001b[0mself\u001b[0m\u001b[0;34m.\u001b[0m\u001b[0mbuilt\u001b[0m \u001b[0;34m=\u001b[0m \u001b[0;32mTrue\u001b[0m\u001b[0;34m\u001b[0m\u001b[0;34m\u001b[0m\u001b[0m\n\u001b[1;32m    433\u001b[0m \u001b[0;34m\u001b[0m\u001b[0m\n",
            "\u001b[0;32m/usr/local/lib/python3.6/dist-packages/keras/layers/merge.py\u001b[0m in \u001b[0;36mbuild\u001b[0;34m(self, input_shape)\u001b[0m\n\u001b[1;32m     66\u001b[0m         \u001b[0;31m# Used purely for shape validation.\u001b[0m\u001b[0;34m\u001b[0m\u001b[0;34m\u001b[0m\u001b[0;34m\u001b[0m\u001b[0m\n\u001b[1;32m     67\u001b[0m         \u001b[0;32mif\u001b[0m \u001b[0;32mnot\u001b[0m \u001b[0misinstance\u001b[0m\u001b[0;34m(\u001b[0m\u001b[0minput_shape\u001b[0m\u001b[0;34m,\u001b[0m \u001b[0mlist\u001b[0m\u001b[0;34m)\u001b[0m\u001b[0;34m:\u001b[0m\u001b[0;34m\u001b[0m\u001b[0;34m\u001b[0m\u001b[0m\n\u001b[0;32m---> 68\u001b[0;31m             raise ValueError('A merge layer should be called '\n\u001b[0m\u001b[1;32m     69\u001b[0m                              'on a list of inputs.')\n\u001b[1;32m     70\u001b[0m         \u001b[0;32mif\u001b[0m \u001b[0mlen\u001b[0m\u001b[0;34m(\u001b[0m\u001b[0minput_shape\u001b[0m\u001b[0;34m)\u001b[0m \u001b[0;34m<\u001b[0m \u001b[0;36m2\u001b[0m\u001b[0;34m:\u001b[0m\u001b[0;34m\u001b[0m\u001b[0;34m\u001b[0m\u001b[0m\n",
            "\u001b[0;31mValueError\u001b[0m: A merge layer should be called on a list of inputs."
          ]
        }
      ]
    },
    {
      "metadata": {
        "id": "o6UoJQA84vcd",
        "colab_type": "code",
        "colab": {}
      },
      "cell_type": "code",
      "source": [
        "# col 3: test against all subjs\n",
        "\n",
        "print('For models1 (trained by subj 1)')\n",
        "scores_ensemble1 = []\n",
        "for i in range(9): # For subjects 0-8, evaluate them based on some model bestModel\n",
        "  _, score = ensemble1.evaluate(X_test_id[i], y_test_id_1hot[i], batch_size=batch_size)\n",
        "  scores_ensemble1.append(score)\n",
        "  print('### Subject ' + str(i) + ': ' + str(score))\n",
        "  \n",
        "print('\\nFor models2 (trained by all subjects)')\n",
        "scores_ensemble2 = []\n",
        "for i in range(9): # For subjects 0-8, evaluate them based on some model bestModel\n",
        "  _, score = ensemble2.evaluate(X_test_id[i], y_test_id_1hot[i], batch_size=batch_size)\n",
        "  scores_ensemble2.append(score)\n",
        "  print('### Subject ' + str(i) + ': ' + str(score))\n",
        "  \n",
        "print('-----------------------------------')\n",
        "print('Ensemble 1: ', np.mean(scores_ensemble1))\n",
        "print('Ensemble 2: ', np.mean(scores_ensemble2))"
      ],
      "execution_count": 0,
      "outputs": []
    },
    {
      "metadata": {
        "id": "koXvdWkv9mhJ",
        "colab_type": "code",
        "colab": {}
      },
      "cell_type": "code",
      "source": [
        "# Save ensemble models\n",
        "model_prefix = 'ex_'\n",
        "\n",
        "name1 = prefix + model_prefix + 'model1ensemble' + '.h5'\n",
        "name2 = prefix + model_prefix + 'model2ensemble' + '.h5'\n",
        "\n",
        "ensemble1.save(name1)\n",
        "print('Wrote ' + name1)\n",
        "\n",
        "ensemble2.save(name2)\n",
        "print('Wrote ' + name2)"
      ],
      "execution_count": 0,
      "outputs": []
    },
    {
      "metadata": {
        "id": "GCjlBQv_W0s-",
        "colab_type": "text"
      },
      "cell_type": "markdown",
      "source": [
        "# Evaluate classification accuracy as a function of time (change the time bin resolution)"
      ]
    },
    {
      "metadata": {
        "id": "cUlOGqLqW0tA",
        "colab_type": "text"
      },
      "cell_type": "markdown",
      "source": [
        "# Just visualize some data, by default a 1000-unit (=num_bins) slice\n",
        "\n",
        "\n",
        "import matplotlib.pyplot as plt\n",
        "\n",
        "\n",
        "# time 0 to 4 seconds\n",
        "x=np.arange(num_bins)\n",
        "y=X_train_valid[0][0] # [i][j] is trial i, channel j\n",
        "\n",
        "plt.plot(x, y)\n",
        "plt.ylim(-25, 25)\n",
        "plt.xlim(0, 1000)\n",
        "fig = plt.gcf()\n",
        "fig.set_size_inches(25, 10.5)\n",
        "plt.show()\n",
        "\n"
      ]
    },
    {
      "metadata": {
        "id": "RKZ52HgmW0tB",
        "colab_type": "text"
      },
      "cell_type": "markdown",
      "source": [
        "# time = 2 to 6 seconds\n",
        "x=np.arange(num_bins)\n",
        "y=np.concatenate((X_train_valid[0][0][500:], X_train_valid[1][0][:500])) # [i][j] is trial i, channel j\n",
        "\n",
        "plt.plot(x, y)\n",
        "plt.ylim(-25, 25)\n",
        "plt.xlim(0, 1000)\n",
        "fig = plt.gcf()\n",
        "fig.set_size_inches(25, 10.5)\n",
        "plt.show()"
      ]
    },
    {
      "metadata": {
        "id": "wn1jqJCfW0tD",
        "colab_type": "text"
      },
      "cell_type": "markdown",
      "source": [
        "Need to redistribute each channel of each trial over some amount of windows other than 1000, like 2000 windows each of half the length of the original windows. From announcement by the professor, \n",
        "\n",
        "\"the data that we provided you is data during both the \"Cue\" and \"Motor Imagery\" blocks of the experiment.  Each temporal sequence is of length 1000 because it corresponds to these 4 seconds of the experiment (and the data is sampled at 250Hz, i.e., 250 samples per second).\" "
      ]
    },
    {
      "metadata": {
        "id": "C5Yr8A91UBt-",
        "colab_type": "text"
      },
      "cell_type": "markdown",
      "source": [
        "# Load models and make confusion matrix"
      ]
    },
    {
      "metadata": {
        "id": "FRifK3DWUENd",
        "colab_type": "code",
        "colab": {}
      },
      "cell_type": "code",
      "source": [
        "from sklearn.metrics import confusion_matrix\n",
        "from sklearn.utils.multiclass import unique_labels\n",
        "\n",
        "class_names = np.array(['left','right','foot','tongue'])\n",
        "def plot_confusion_matrix(y_true, y_pred, classes,\n",
        "                          normalize=False,\n",
        "                          title=None,\n",
        "                          cmap=plt.cm.Blues):\n",
        "    \"\"\"\n",
        "    This function prints and plots the confusion matrix.\n",
        "    Normalization can be applied by setting `normalize=True`.\n",
        "    \"\"\"\n",
        "    if not title:\n",
        "        if normalize:\n",
        "            title = 'Normalized confusion matrix'\n",
        "        else:\n",
        "            title = 'Confusion matrix, without normalization'\n",
        "\n",
        "    # Compute confusion matrix\n",
        "    cm = confusion_matrix(y_true, y_pred)\n",
        "    # Only use the labels that appear in the data\n",
        "    classes = classes[unique_labels(y_true,y_pred)]\n",
        "    if normalize:\n",
        "        cm = cm.astype('float') / cm.sum(axis=1)[:, np.newaxis]\n",
        "        #print(\"Normalized confusion matrix\")\n",
        "   # else:\n",
        "        #print('Confusion matrix, without normalization')\n",
        "\n",
        "    #print(cm)\n",
        "\n",
        "    fig, ax = plt.subplots()\n",
        "    im = ax.imshow(cm, interpolation='nearest', cmap=cmap)\n",
        "    ax.figure.colorbar(im, ax=ax)\n",
        "    # We want to show all ticks...\n",
        "    ax.set(xticks=np.arange(cm.shape[1]),\n",
        "           yticks=np.arange(cm.shape[0]),\n",
        "           # ... and label them with the respective list entries\n",
        "           xticklabels=classes, yticklabels=classes,\n",
        "           title=title,\n",
        "           ylabel='True label',\n",
        "           xlabel='Predicted label')\n",
        "\n",
        "    # Rotate the tick labels and set their alignment.\n",
        "    plt.setp(ax.get_xticklabels(), rotation=45, ha=\"right\",\n",
        "             rotation_mode=\"anchor\")\n",
        "\n",
        "    # Loop over data dimensions and create text annotations.\n",
        "    fmt = '.2f' if normalize else 'd'\n",
        "    thresh = cm.max() / 2.\n",
        "    for i in range(cm.shape[0]):\n",
        "        for j in range(cm.shape[1]):\n",
        "            ax.text(j, i, format(cm[i, j], fmt),\n",
        "                    ha=\"center\", va=\"center\",\n",
        "                    color=\"white\" if cm[i, j] > thresh else \"black\")\n",
        "    fig.tight_layout()\n",
        "    return ax\n"
      ],
      "execution_count": 0,
      "outputs": []
    },
    {
      "metadata": {
        "id": "aqG9aN2lUHwC",
        "colab_type": "code",
        "colab": {
          "base_uri": "https://localhost:8080/",
          "height": 195
        },
        "outputId": "cfa436bd-cbbb-4a5d-89f5-6abd2725e540"
      },
      "cell_type": "code",
      "source": [
        "from keras.models import load_model\n",
        "\n",
        "loaded_models1 = []\n",
        "loaded_models2 = []\n",
        "loaded_ensemble2 = []\n",
        "\n",
        "for i in range(5):\n",
        "  name = \"/content/drive/My Drive/e_model1_\" + str(i) + \".h5\"\n",
        "  loaded_models1.append(load_model(name))\n",
        "  \n",
        "for i in range(5):\n",
        "  name = \"/content/drive/My Drive/e_model2_\" + str(i) + \".h5\"\n",
        "  loaded_models2.append(load_model(name))\n",
        "\n"
      ],
      "execution_count": 130,
      "outputs": [
        {
          "output_type": "error",
          "ename": "NameError",
          "evalue": "ignored",
          "traceback": [
            "\u001b[0;31m---------------------------------------------------------------------------\u001b[0m",
            "\u001b[0;31mNameError\u001b[0m                                 Traceback (most recent call last)",
            "\u001b[0;32m<ipython-input-130-9496462af0e9>\u001b[0m in \u001b[0;36m<module>\u001b[0;34m()\u001b[0m\n\u001b[1;32m     13\u001b[0m   \u001b[0mloaded_models2\u001b[0m\u001b[0;34m.\u001b[0m\u001b[0mappend\u001b[0m\u001b[0;34m(\u001b[0m\u001b[0mload_model\u001b[0m\u001b[0;34m(\u001b[0m\u001b[0mname\u001b[0m\u001b[0;34m)\u001b[0m\u001b[0;34m)\u001b[0m\u001b[0;34m\u001b[0m\u001b[0;34m\u001b[0m\u001b[0m\n\u001b[1;32m     14\u001b[0m \u001b[0;34m\u001b[0m\u001b[0m\n\u001b[0;32m---> 15\u001b[0;31m \u001b[0mloaded_ensemble2\u001b[0m \u001b[0;34m=\u001b[0m \u001b[0mload_weights\u001b[0m\u001b[0;34m(\u001b[0m\u001b[0;34m\"/content/drive/My Drive/e_model2ensemble.h5\"\u001b[0m\u001b[0;34m)\u001b[0m\u001b[0;34m\u001b[0m\u001b[0;34m\u001b[0m\u001b[0m\n\u001b[0m",
            "\u001b[0;31mNameError\u001b[0m: name 'load_weights' is not defined"
          ]
        }
      ]
    },
    {
      "metadata": {
        "id": "w6l7HDD1X4Yt",
        "colab_type": "code",
        "colab": {}
      },
      "cell_type": "code",
      "source": [
        "loaded_ensemble2 = load_model(\"/content/drive/My Drive/e_model2ensemble.h5\")"
      ],
      "execution_count": 0,
      "outputs": []
    },
    {
      "metadata": {
        "id": "0NGneRb5a9mK",
        "colab_type": "code",
        "colab": {}
      },
      "cell_type": "code",
      "source": [
        "# generate predictions.\n",
        "y_score = loaded_ensemble2.predict(X_test)"
      ],
      "execution_count": 0,
      "outputs": []
    },
    {
      "metadata": {
        "id": "7rWd0bpNemr2",
        "colab_type": "code",
        "colab": {}
      },
      "cell_type": "code",
      "source": [
        "y_pred = np.argmax(y_score,axis=1)"
      ],
      "execution_count": 0,
      "outputs": []
    },
    {
      "metadata": {
        "id": "wtpDy7eBUMvX",
        "colab_type": "code",
        "colab": {
          "base_uri": "https://localhost:8080/",
          "height": 802
        },
        "outputId": "1afe1db0-fb02-4d16-e094-bd5c818f9061"
      },
      "cell_type": "code",
      "source": [
        "plot_confusion_matrix(y_test, y_pred, classes=class_names,\n",
        "                      title='Confusion matrix, without normalization')\n",
        "plot_confusion_matrix(y_test, y_pred, classes=class_names,normalize=True,\n",
        "                      title='Confusion matrix, without normalization')"
      ],
      "execution_count": 149,
      "outputs": [
        {
          "output_type": "execute_result",
          "data": {
            "text/plain": [
              "<matplotlib.axes._subplots.AxesSubplot at 0x7fbc125e7780>"
            ]
          },
          "metadata": {
            "tags": []
          },
          "execution_count": 149
        },
        {
          "output_type": "display_data",
          "data": {
            "image/png": "[encoded data removed]",
            "text/plain": [
              "<Figure size 576x396 with 2 Axes>"
            ]
          },
          "metadata": {
            "tags": []
          }
        },
        {
          "output_type": "display_data",
          "data": {
            "image/png": "[encoded data removed]",
            "text/plain": [
              "<Figure size 576x396 with 2 Axes>"
            ]
          },
          "metadata": {
            "tags": []
          }
        }
      ]
    },
    {
      "metadata": {
        "id": "Cb-aoWeBW0tG",
        "colab_type": "text"
      },
      "cell_type": "markdown",
      "source": [
        "# Reconfiguring time bins to get different temporal resolution"
      ]
    },
    {
      "metadata": {
        "id": "QMfAaC10W0tR",
        "colab_type": "text"
      },
      "cell_type": "markdown",
      "source": [
        "# Durations of each trial in seconds to try. (By default, 1000 time bins per trial at 250 Hz gives 4 sec of data per trial)\n",
        "trial_durations = [0.5, 1, 2, 4] # Can't get more than 4 seconds of data from each trial!!\n",
        "\n",
        "# When evaluating how well a 2 second trial does, should you use the same number of time bins (1000) but with \n",
        "# smaller amounts of time per time bin? Or use 2000 time bins since you now have twice the samples? ... \n",
        "\n",
        "#time_bins = [int(1000*(4/trial_duration)) for trial_duration in trial_durations]\n",
        "time_bins = [int(250*trial_duration) for trial_duration in trial_durations]\n",
        "\n",
        "print(time_bins)\n"
      ]
    },
    {
      "metadata": {
        "id": "1icRlPeIW0tT",
        "colab_type": "text"
      },
      "cell_type": "markdown",
      "source": [
        "for time_bin in time_bins:\n",
        "    # data\n",
        "    X_train_valid\n",
        "    \n",
        "    # def model \n",
        "    \n",
        "    \n",
        "    # train \n",
        "    \n",
        "    \n",
        "    # test\n",
        "    \n",
        "    "
      ]
    }
  ]
}